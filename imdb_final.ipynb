{
 "cells": [
  {
   "cell_type": "markdown",
   "metadata": {},
   "source": [
    "El objetivo de esta notebook es poder predecir a partir de informacion contenida en datasets de IMDB (https://www.imdb.com) si una pelicula en produccion va a ser bien recibida o mal recibida por el publico."
   ]
  },
  {
   "cell_type": "markdown",
   "metadata": {},
   "source": [
    "Importamos las principales librerias:"
   ]
  },
  {
   "cell_type": "code",
   "execution_count": 1,
   "metadata": {},
   "outputs": [],
   "source": [
    "import pandas as pd\n",
    "import numpy as np"
   ]
  },
  {
   "cell_type": "markdown",
   "metadata": {},
   "source": [
    "Definimos los datasets que vamos a utilizar:"
   ]
  },
  {
   "cell_type": "code",
   "execution_count": 2,
   "metadata": {},
   "outputs": [],
   "source": [
    "# local\n",
    "data_location = \"./data_name_basics.tsv\"\n",
    "data_location1 = \"./data_title_akas.tsv\"\n",
    "data_location2 = \"./data_title_basics.tsv\"\n",
    "data_location3 = \"./data_title_crew.tsv\"\n",
    "data_location4 = \"./data_title_principals.tsv\"\n",
    "data_location5 = \"./data_title_ratings.tsv\"\n",
    "\n"
   ]
  },
  {
   "cell_type": "markdown",
   "metadata": {},
   "source": [
    "El primer dataset contiene informacion sobre los directores:"
   ]
  },
  {
   "cell_type": "code",
   "execution_count": 3,
   "metadata": {},
   "outputs": [
    {
     "data": {
      "text/html": [
       "<div>\n",
       "<style scoped>\n",
       "    .dataframe tbody tr th:only-of-type {\n",
       "        vertical-align: middle;\n",
       "    }\n",
       "\n",
       "    .dataframe tbody tr th {\n",
       "        vertical-align: top;\n",
       "    }\n",
       "\n",
       "    .dataframe thead th {\n",
       "        text-align: right;\n",
       "    }\n",
       "</style>\n",
       "<table border=\"1\" class=\"dataframe\">\n",
       "  <thead>\n",
       "    <tr style=\"text-align: right;\">\n",
       "      <th></th>\n",
       "      <th>nconst</th>\n",
       "      <th>primaryName</th>\n",
       "      <th>birthYear</th>\n",
       "      <th>deathYear</th>\n",
       "      <th>primaryProfession</th>\n",
       "      <th>knownForTitles</th>\n",
       "    </tr>\n",
       "  </thead>\n",
       "  <tbody>\n",
       "    <tr>\n",
       "      <th>0</th>\n",
       "      <td>nm0000001</td>\n",
       "      <td>Fred Astaire</td>\n",
       "      <td>1899</td>\n",
       "      <td>1987</td>\n",
       "      <td>soundtrack,actor,miscellaneous</td>\n",
       "      <td>tt0050419,tt0053137,tt0031983,tt0072308</td>\n",
       "    </tr>\n",
       "    <tr>\n",
       "      <th>1</th>\n",
       "      <td>nm0000002</td>\n",
       "      <td>Lauren Bacall</td>\n",
       "      <td>1924</td>\n",
       "      <td>2014</td>\n",
       "      <td>actress,soundtrack</td>\n",
       "      <td>tt0037382,tt0038355,tt0117057,tt0071877</td>\n",
       "    </tr>\n",
       "    <tr>\n",
       "      <th>2</th>\n",
       "      <td>nm0000003</td>\n",
       "      <td>Brigitte Bardot</td>\n",
       "      <td>1934</td>\n",
       "      <td>\\N</td>\n",
       "      <td>actress,soundtrack,music_department</td>\n",
       "      <td>tt0059956,tt0057345,tt0049189,tt0054452</td>\n",
       "    </tr>\n",
       "  </tbody>\n",
       "</table>\n",
       "</div>"
      ],
      "text/plain": [
       "      nconst      primaryName birthYear deathYear  \\\n",
       "0  nm0000001     Fred Astaire      1899      1987   \n",
       "1  nm0000002    Lauren Bacall      1924      2014   \n",
       "2  nm0000003  Brigitte Bardot      1934        \\N   \n",
       "\n",
       "                     primaryProfession  \\\n",
       "0       soundtrack,actor,miscellaneous   \n",
       "1                   actress,soundtrack   \n",
       "2  actress,soundtrack,music_department   \n",
       "\n",
       "                            knownForTitles  \n",
       "0  tt0050419,tt0053137,tt0031983,tt0072308  \n",
       "1  tt0037382,tt0038355,tt0117057,tt0071877  \n",
       "2  tt0059956,tt0057345,tt0049189,tt0054452  "
      ]
     },
     "execution_count": 3,
     "metadata": {},
     "output_type": "execute_result"
    }
   ],
   "source": [
    "tsv_file = open(data_location, encoding=\"UTF8\")\n",
    "data = pd.read_csv(tsv_file, delimiter=\"\\t\", low_memory=False)\n",
    "data.head(3)"
   ]
  },
  {
   "cell_type": "code",
   "execution_count": 4,
   "metadata": {},
   "outputs": [],
   "source": [
    "name_basics = data"
   ]
  },
  {
   "cell_type": "code",
   "execution_count": 5,
   "metadata": {},
   "outputs": [],
   "source": []
  },
  {
   "cell_type": "markdown",
   "metadata": {},
   "source": [
    "El segundo dataset contiene informacion sobre todos los distintos titulos en imdb:"
   ]
  },
  {
   "cell_type": "code",
   "execution_count": 6,
   "metadata": {},
   "outputs": [
    {
     "data": {
      "text/html": [
       "<div>\n",
       "<style scoped>\n",
       "    .dataframe tbody tr th:only-of-type {\n",
       "        vertical-align: middle;\n",
       "    }\n",
       "\n",
       "    .dataframe tbody tr th {\n",
       "        vertical-align: top;\n",
       "    }\n",
       "\n",
       "    .dataframe thead th {\n",
       "        text-align: right;\n",
       "    }\n",
       "</style>\n",
       "<table border=\"1\" class=\"dataframe\">\n",
       "  <thead>\n",
       "    <tr style=\"text-align: right;\">\n",
       "      <th></th>\n",
       "      <th>tconst</th>\n",
       "      <th>titleType</th>\n",
       "      <th>primaryTitle</th>\n",
       "      <th>originalTitle</th>\n",
       "      <th>isAdult</th>\n",
       "      <th>startYear</th>\n",
       "      <th>endYear</th>\n",
       "      <th>runtimeMinutes</th>\n",
       "      <th>genres</th>\n",
       "    </tr>\n",
       "  </thead>\n",
       "  <tbody>\n",
       "    <tr>\n",
       "      <th>0</th>\n",
       "      <td>tt0000001</td>\n",
       "      <td>short</td>\n",
       "      <td>Carmencita</td>\n",
       "      <td>Carmencita</td>\n",
       "      <td>0</td>\n",
       "      <td>1894</td>\n",
       "      <td>\\N</td>\n",
       "      <td>1</td>\n",
       "      <td>Documentary,Short</td>\n",
       "    </tr>\n",
       "    <tr>\n",
       "      <th>1</th>\n",
       "      <td>tt0000002</td>\n",
       "      <td>short</td>\n",
       "      <td>Le clown et ses chiens</td>\n",
       "      <td>Le clown et ses chiens</td>\n",
       "      <td>0</td>\n",
       "      <td>1892</td>\n",
       "      <td>\\N</td>\n",
       "      <td>5</td>\n",
       "      <td>Animation,Short</td>\n",
       "    </tr>\n",
       "    <tr>\n",
       "      <th>2</th>\n",
       "      <td>tt0000003</td>\n",
       "      <td>short</td>\n",
       "      <td>Pauvre Pierrot</td>\n",
       "      <td>Pauvre Pierrot</td>\n",
       "      <td>0</td>\n",
       "      <td>1892</td>\n",
       "      <td>\\N</td>\n",
       "      <td>4</td>\n",
       "      <td>Animation,Comedy,Romance</td>\n",
       "    </tr>\n",
       "  </tbody>\n",
       "</table>\n",
       "</div>"
      ],
      "text/plain": [
       "      tconst titleType            primaryTitle           originalTitle  \\\n",
       "0  tt0000001     short              Carmencita              Carmencita   \n",
       "1  tt0000002     short  Le clown et ses chiens  Le clown et ses chiens   \n",
       "2  tt0000003     short          Pauvre Pierrot          Pauvre Pierrot   \n",
       "\n",
       "  isAdult startYear endYear runtimeMinutes                    genres  \n",
       "0       0      1894      \\N              1         Documentary,Short  \n",
       "1       0      1892      \\N              5           Animation,Short  \n",
       "2       0      1892      \\N              4  Animation,Comedy,Romance  "
      ]
     },
     "execution_count": 6,
     "metadata": {},
     "output_type": "execute_result"
    }
   ],
   "source": [
    "tsv_file = open(data_location2, encoding=\"UTF8\")\n",
    "data2 = pd.read_csv(tsv_file, delimiter=\"\\t\", low_memory=False)\n",
    "data2.head(3)"
   ]
  },
  {
   "cell_type": "markdown",
   "metadata": {},
   "source": [
    "El tercer dataset muestra el ID de cada pelicula junto con el ID su respectivo director:"
   ]
  },
  {
   "cell_type": "code",
   "execution_count": 7,
   "metadata": {},
   "outputs": [
    {
     "data": {
      "text/html": [
       "<div>\n",
       "<style scoped>\n",
       "    .dataframe tbody tr th:only-of-type {\n",
       "        vertical-align: middle;\n",
       "    }\n",
       "\n",
       "    .dataframe tbody tr th {\n",
       "        vertical-align: top;\n",
       "    }\n",
       "\n",
       "    .dataframe thead th {\n",
       "        text-align: right;\n",
       "    }\n",
       "</style>\n",
       "<table border=\"1\" class=\"dataframe\">\n",
       "  <thead>\n",
       "    <tr style=\"text-align: right;\">\n",
       "      <th></th>\n",
       "      <th>tconst</th>\n",
       "      <th>directors</th>\n",
       "      <th>writers</th>\n",
       "    </tr>\n",
       "  </thead>\n",
       "  <tbody>\n",
       "    <tr>\n",
       "      <th>0</th>\n",
       "      <td>tt0000001</td>\n",
       "      <td>nm0005690</td>\n",
       "      <td>\\N</td>\n",
       "    </tr>\n",
       "    <tr>\n",
       "      <th>1</th>\n",
       "      <td>tt0000002</td>\n",
       "      <td>nm0721526</td>\n",
       "      <td>\\N</td>\n",
       "    </tr>\n",
       "    <tr>\n",
       "      <th>2</th>\n",
       "      <td>tt0000003</td>\n",
       "      <td>nm0721526</td>\n",
       "      <td>\\N</td>\n",
       "    </tr>\n",
       "  </tbody>\n",
       "</table>\n",
       "</div>"
      ],
      "text/plain": [
       "      tconst  directors writers\n",
       "0  tt0000001  nm0005690      \\N\n",
       "1  tt0000002  nm0721526      \\N\n",
       "2  tt0000003  nm0721526      \\N"
      ]
     },
     "execution_count": 7,
     "metadata": {},
     "output_type": "execute_result"
    }
   ],
   "source": [
    "tsv_file = open(data_location3, encoding=\"UTF8\")\n",
    "data3 = pd.read_csv(tsv_file, delimiter=\"\\t\", low_memory=False)\n",
    "data3.head(3)"
   ]
  },
  {
   "cell_type": "markdown",
   "metadata": {},
   "source": [
    "El cuarto dataset muestra informacion sobre ID's de directores, productores, etc., asociados al ID de cada pelicula:"
   ]
  },
  {
   "cell_type": "code",
   "execution_count": 8,
   "metadata": {},
   "outputs": [
    {
     "data": {
      "text/html": [
       "<div>\n",
       "<style scoped>\n",
       "    .dataframe tbody tr th:only-of-type {\n",
       "        vertical-align: middle;\n",
       "    }\n",
       "\n",
       "    .dataframe tbody tr th {\n",
       "        vertical-align: top;\n",
       "    }\n",
       "\n",
       "    .dataframe thead th {\n",
       "        text-align: right;\n",
       "    }\n",
       "</style>\n",
       "<table border=\"1\" class=\"dataframe\">\n",
       "  <thead>\n",
       "    <tr style=\"text-align: right;\">\n",
       "      <th></th>\n",
       "      <th>tconst</th>\n",
       "      <th>ordering</th>\n",
       "      <th>nconst</th>\n",
       "      <th>category</th>\n",
       "      <th>job</th>\n",
       "      <th>characters</th>\n",
       "    </tr>\n",
       "  </thead>\n",
       "  <tbody>\n",
       "    <tr>\n",
       "      <th>0</th>\n",
       "      <td>tt0000001</td>\n",
       "      <td>1</td>\n",
       "      <td>nm1588970</td>\n",
       "      <td>self</td>\n",
       "      <td>\\N</td>\n",
       "      <td>[\"Self\"]</td>\n",
       "    </tr>\n",
       "    <tr>\n",
       "      <th>1</th>\n",
       "      <td>tt0000001</td>\n",
       "      <td>2</td>\n",
       "      <td>nm0005690</td>\n",
       "      <td>director</td>\n",
       "      <td>\\N</td>\n",
       "      <td>\\N</td>\n",
       "    </tr>\n",
       "    <tr>\n",
       "      <th>2</th>\n",
       "      <td>tt0000001</td>\n",
       "      <td>3</td>\n",
       "      <td>nm0374658</td>\n",
       "      <td>cinematographer</td>\n",
       "      <td>director of photography</td>\n",
       "      <td>\\N</td>\n",
       "    </tr>\n",
       "  </tbody>\n",
       "</table>\n",
       "</div>"
      ],
      "text/plain": [
       "      tconst  ordering     nconst         category                      job  \\\n",
       "0  tt0000001         1  nm1588970             self                       \\N   \n",
       "1  tt0000001         2  nm0005690         director                       \\N   \n",
       "2  tt0000001         3  nm0374658  cinematographer  director of photography   \n",
       "\n",
       "  characters  \n",
       "0   [\"Self\"]  \n",
       "1         \\N  \n",
       "2         \\N  "
      ]
     },
     "execution_count": 8,
     "metadata": {},
     "output_type": "execute_result"
    }
   ],
   "source": [
    "tsv_file = open(data_location4, encoding=\"UTF8\")\n",
    "data5 = pd.read_csv(tsv_file, delimiter=\"\\t\", low_memory=False)\n",
    "data5.head(3)"
   ]
  },
  {
   "cell_type": "markdown",
   "metadata": {},
   "source": [
    "El quinto dataset muestra para el ID de cada pelicula, su rating y el numero de votos:"
   ]
  },
  {
   "cell_type": "code",
   "execution_count": 9,
   "metadata": {},
   "outputs": [
    {
     "data": {
      "text/html": [
       "<div>\n",
       "<style scoped>\n",
       "    .dataframe tbody tr th:only-of-type {\n",
       "        vertical-align: middle;\n",
       "    }\n",
       "\n",
       "    .dataframe tbody tr th {\n",
       "        vertical-align: top;\n",
       "    }\n",
       "\n",
       "    .dataframe thead th {\n",
       "        text-align: right;\n",
       "    }\n",
       "</style>\n",
       "<table border=\"1\" class=\"dataframe\">\n",
       "  <thead>\n",
       "    <tr style=\"text-align: right;\">\n",
       "      <th></th>\n",
       "      <th>tconst</th>\n",
       "      <th>averageRating</th>\n",
       "      <th>numVotes</th>\n",
       "    </tr>\n",
       "  </thead>\n",
       "  <tbody>\n",
       "    <tr>\n",
       "      <th>0</th>\n",
       "      <td>tt0000001</td>\n",
       "      <td>5.7</td>\n",
       "      <td>1677</td>\n",
       "    </tr>\n",
       "    <tr>\n",
       "      <th>1</th>\n",
       "      <td>tt0000002</td>\n",
       "      <td>6.1</td>\n",
       "      <td>208</td>\n",
       "    </tr>\n",
       "    <tr>\n",
       "      <th>2</th>\n",
       "      <td>tt0000003</td>\n",
       "      <td>6.5</td>\n",
       "      <td>1399</td>\n",
       "    </tr>\n",
       "  </tbody>\n",
       "</table>\n",
       "</div>"
      ],
      "text/plain": [
       "      tconst  averageRating  numVotes\n",
       "0  tt0000001            5.7      1677\n",
       "1  tt0000002            6.1       208\n",
       "2  tt0000003            6.5      1399"
      ]
     },
     "execution_count": 9,
     "metadata": {},
     "output_type": "execute_result"
    }
   ],
   "source": [
    "tsv_file = open(data_location5, encoding=\"UTF8\")\n",
    "data6 = pd.read_csv(tsv_file, delimiter=\"\\t\", low_memory=False)\n",
    "data6.head(3)"
   ]
  },
  {
   "cell_type": "code",
   "execution_count": 10,
   "metadata": {},
   "outputs": [],
   "source": []
  },
  {
   "cell_type": "code",
   "execution_count": 11,
   "metadata": {},
   "outputs": [],
   "source": []
  },
  {
   "cell_type": "markdown",
   "metadata": {},
   "source": [
    "Ahora vamos a llamar a nuestro segundo dataset que contiene informacion sobre los titulos:"
   ]
  },
  {
   "cell_type": "code",
   "execution_count": 12,
   "metadata": {},
   "outputs": [
    {
     "data": {
      "text/html": [
       "<div>\n",
       "<style scoped>\n",
       "    .dataframe tbody tr th:only-of-type {\n",
       "        vertical-align: middle;\n",
       "    }\n",
       "\n",
       "    .dataframe tbody tr th {\n",
       "        vertical-align: top;\n",
       "    }\n",
       "\n",
       "    .dataframe thead th {\n",
       "        text-align: right;\n",
       "    }\n",
       "</style>\n",
       "<table border=\"1\" class=\"dataframe\">\n",
       "  <thead>\n",
       "    <tr style=\"text-align: right;\">\n",
       "      <th></th>\n",
       "      <th>tconst</th>\n",
       "      <th>titleType</th>\n",
       "      <th>primaryTitle</th>\n",
       "      <th>originalTitle</th>\n",
       "      <th>isAdult</th>\n",
       "      <th>startYear</th>\n",
       "      <th>endYear</th>\n",
       "      <th>runtimeMinutes</th>\n",
       "      <th>genres</th>\n",
       "    </tr>\n",
       "  </thead>\n",
       "  <tbody>\n",
       "    <tr>\n",
       "      <th>0</th>\n",
       "      <td>tt0000001</td>\n",
       "      <td>short</td>\n",
       "      <td>Carmencita</td>\n",
       "      <td>Carmencita</td>\n",
       "      <td>0</td>\n",
       "      <td>1894</td>\n",
       "      <td>\\N</td>\n",
       "      <td>1</td>\n",
       "      <td>Documentary,Short</td>\n",
       "    </tr>\n",
       "    <tr>\n",
       "      <th>1</th>\n",
       "      <td>tt0000002</td>\n",
       "      <td>short</td>\n",
       "      <td>Le clown et ses chiens</td>\n",
       "      <td>Le clown et ses chiens</td>\n",
       "      <td>0</td>\n",
       "      <td>1892</td>\n",
       "      <td>\\N</td>\n",
       "      <td>5</td>\n",
       "      <td>Animation,Short</td>\n",
       "    </tr>\n",
       "    <tr>\n",
       "      <th>2</th>\n",
       "      <td>tt0000003</td>\n",
       "      <td>short</td>\n",
       "      <td>Pauvre Pierrot</td>\n",
       "      <td>Pauvre Pierrot</td>\n",
       "      <td>0</td>\n",
       "      <td>1892</td>\n",
       "      <td>\\N</td>\n",
       "      <td>4</td>\n",
       "      <td>Animation,Comedy,Romance</td>\n",
       "    </tr>\n",
       "    <tr>\n",
       "      <th>3</th>\n",
       "      <td>tt0000004</td>\n",
       "      <td>short</td>\n",
       "      <td>Un bon bock</td>\n",
       "      <td>Un bon bock</td>\n",
       "      <td>0</td>\n",
       "      <td>1892</td>\n",
       "      <td>\\N</td>\n",
       "      <td>12</td>\n",
       "      <td>Animation,Short</td>\n",
       "    </tr>\n",
       "    <tr>\n",
       "      <th>4</th>\n",
       "      <td>tt0000005</td>\n",
       "      <td>short</td>\n",
       "      <td>Blacksmith Scene</td>\n",
       "      <td>Blacksmith Scene</td>\n",
       "      <td>0</td>\n",
       "      <td>1893</td>\n",
       "      <td>\\N</td>\n",
       "      <td>1</td>\n",
       "      <td>Comedy,Short</td>\n",
       "    </tr>\n",
       "    <tr>\n",
       "      <th>5</th>\n",
       "      <td>tt0000006</td>\n",
       "      <td>short</td>\n",
       "      <td>Chinese Opium Den</td>\n",
       "      <td>Chinese Opium Den</td>\n",
       "      <td>0</td>\n",
       "      <td>1894</td>\n",
       "      <td>\\N</td>\n",
       "      <td>1</td>\n",
       "      <td>Short</td>\n",
       "    </tr>\n",
       "    <tr>\n",
       "      <th>6</th>\n",
       "      <td>tt0000007</td>\n",
       "      <td>short</td>\n",
       "      <td>Corbett and Courtney Before the Kinetograph</td>\n",
       "      <td>Corbett and Courtney Before the Kinetograph</td>\n",
       "      <td>0</td>\n",
       "      <td>1894</td>\n",
       "      <td>\\N</td>\n",
       "      <td>1</td>\n",
       "      <td>Short,Sport</td>\n",
       "    </tr>\n",
       "    <tr>\n",
       "      <th>7</th>\n",
       "      <td>tt0000008</td>\n",
       "      <td>short</td>\n",
       "      <td>Edison Kinetoscopic Record of a Sneeze</td>\n",
       "      <td>Edison Kinetoscopic Record of a Sneeze</td>\n",
       "      <td>0</td>\n",
       "      <td>1894</td>\n",
       "      <td>\\N</td>\n",
       "      <td>1</td>\n",
       "      <td>Documentary,Short</td>\n",
       "    </tr>\n",
       "    <tr>\n",
       "      <th>8</th>\n",
       "      <td>tt0000009</td>\n",
       "      <td>short</td>\n",
       "      <td>Miss Jerry</td>\n",
       "      <td>Miss Jerry</td>\n",
       "      <td>0</td>\n",
       "      <td>1894</td>\n",
       "      <td>\\N</td>\n",
       "      <td>40</td>\n",
       "      <td>Romance,Short</td>\n",
       "    </tr>\n",
       "    <tr>\n",
       "      <th>9</th>\n",
       "      <td>tt0000010</td>\n",
       "      <td>short</td>\n",
       "      <td>Leaving the Factory</td>\n",
       "      <td>La sortie de l'usine Lumière à Lyon</td>\n",
       "      <td>0</td>\n",
       "      <td>1895</td>\n",
       "      <td>\\N</td>\n",
       "      <td>1</td>\n",
       "      <td>Documentary,Short</td>\n",
       "    </tr>\n",
       "    <tr>\n",
       "      <th>10</th>\n",
       "      <td>tt0000011</td>\n",
       "      <td>short</td>\n",
       "      <td>Akrobatisches Potpourri</td>\n",
       "      <td>Akrobatisches Potpourri</td>\n",
       "      <td>0</td>\n",
       "      <td>1895</td>\n",
       "      <td>\\N</td>\n",
       "      <td>1</td>\n",
       "      <td>Documentary,Short</td>\n",
       "    </tr>\n",
       "    <tr>\n",
       "      <th>11</th>\n",
       "      <td>tt0000012</td>\n",
       "      <td>short</td>\n",
       "      <td>The Arrival of a Train</td>\n",
       "      <td>L'arrivée d'un train à La Ciotat</td>\n",
       "      <td>0</td>\n",
       "      <td>1896</td>\n",
       "      <td>\\N</td>\n",
       "      <td>1</td>\n",
       "      <td>Documentary,Short</td>\n",
       "    </tr>\n",
       "    <tr>\n",
       "      <th>12</th>\n",
       "      <td>tt0000013</td>\n",
       "      <td>short</td>\n",
       "      <td>The Photographical Congress Arrives in Lyon</td>\n",
       "      <td>Neuville-sur-Saône: Débarquement du congrès de...</td>\n",
       "      <td>0</td>\n",
       "      <td>1895</td>\n",
       "      <td>\\N</td>\n",
       "      <td>1</td>\n",
       "      <td>Documentary,Short</td>\n",
       "    </tr>\n",
       "    <tr>\n",
       "      <th>13</th>\n",
       "      <td>tt0000014</td>\n",
       "      <td>short</td>\n",
       "      <td>The Waterer Watered</td>\n",
       "      <td>L'arroseur arrosé</td>\n",
       "      <td>0</td>\n",
       "      <td>1895</td>\n",
       "      <td>\\N</td>\n",
       "      <td>1</td>\n",
       "      <td>Comedy,Short</td>\n",
       "    </tr>\n",
       "    <tr>\n",
       "      <th>14</th>\n",
       "      <td>tt0000015</td>\n",
       "      <td>short</td>\n",
       "      <td>Autour d'une cabine</td>\n",
       "      <td>Autour d'une cabine</td>\n",
       "      <td>0</td>\n",
       "      <td>1894</td>\n",
       "      <td>\\N</td>\n",
       "      <td>2</td>\n",
       "      <td>Animation,Short</td>\n",
       "    </tr>\n",
       "    <tr>\n",
       "      <th>15</th>\n",
       "      <td>tt0000016</td>\n",
       "      <td>short</td>\n",
       "      <td>Barque sortant du port</td>\n",
       "      <td>Barque sortant du port</td>\n",
       "      <td>0</td>\n",
       "      <td>1895</td>\n",
       "      <td>\\N</td>\n",
       "      <td>1</td>\n",
       "      <td>Documentary,Short</td>\n",
       "    </tr>\n",
       "    <tr>\n",
       "      <th>16</th>\n",
       "      <td>tt0000017</td>\n",
       "      <td>short</td>\n",
       "      <td>Italienischer Bauerntanz</td>\n",
       "      <td>Italienischer Bauerntanz</td>\n",
       "      <td>0</td>\n",
       "      <td>1895</td>\n",
       "      <td>\\N</td>\n",
       "      <td>1</td>\n",
       "      <td>Documentary,Short</td>\n",
       "    </tr>\n",
       "    <tr>\n",
       "      <th>17</th>\n",
       "      <td>tt0000018</td>\n",
       "      <td>short</td>\n",
       "      <td>Das boxende Känguruh</td>\n",
       "      <td>Das boxende Känguruh</td>\n",
       "      <td>0</td>\n",
       "      <td>1895</td>\n",
       "      <td>\\N</td>\n",
       "      <td>1</td>\n",
       "      <td>Short</td>\n",
       "    </tr>\n",
       "    <tr>\n",
       "      <th>18</th>\n",
       "      <td>tt0000019</td>\n",
       "      <td>short</td>\n",
       "      <td>The Clown Barber</td>\n",
       "      <td>The Clown Barber</td>\n",
       "      <td>0</td>\n",
       "      <td>1898</td>\n",
       "      <td>\\N</td>\n",
       "      <td>\\N</td>\n",
       "      <td>Comedy,Short</td>\n",
       "    </tr>\n",
       "    <tr>\n",
       "      <th>19</th>\n",
       "      <td>tt0000020</td>\n",
       "      <td>short</td>\n",
       "      <td>The Derby 1895</td>\n",
       "      <td>The Derby 1895</td>\n",
       "      <td>0</td>\n",
       "      <td>1895</td>\n",
       "      <td>\\N</td>\n",
       "      <td>1</td>\n",
       "      <td>Documentary,Short,Sport</td>\n",
       "    </tr>\n",
       "  </tbody>\n",
       "</table>\n",
       "</div>"
      ],
      "text/plain": [
       "       tconst titleType                                 primaryTitle  \\\n",
       "0   tt0000001     short                                   Carmencita   \n",
       "1   tt0000002     short                       Le clown et ses chiens   \n",
       "2   tt0000003     short                               Pauvre Pierrot   \n",
       "3   tt0000004     short                                  Un bon bock   \n",
       "4   tt0000005     short                             Blacksmith Scene   \n",
       "5   tt0000006     short                            Chinese Opium Den   \n",
       "6   tt0000007     short  Corbett and Courtney Before the Kinetograph   \n",
       "7   tt0000008     short       Edison Kinetoscopic Record of a Sneeze   \n",
       "8   tt0000009     short                                   Miss Jerry   \n",
       "9   tt0000010     short                          Leaving the Factory   \n",
       "10  tt0000011     short                      Akrobatisches Potpourri   \n",
       "11  tt0000012     short                       The Arrival of a Train   \n",
       "12  tt0000013     short  The Photographical Congress Arrives in Lyon   \n",
       "13  tt0000014     short                          The Waterer Watered   \n",
       "14  tt0000015     short                          Autour d'une cabine   \n",
       "15  tt0000016     short                       Barque sortant du port   \n",
       "16  tt0000017     short                     Italienischer Bauerntanz   \n",
       "17  tt0000018     short                         Das boxende Känguruh   \n",
       "18  tt0000019     short                             The Clown Barber   \n",
       "19  tt0000020     short                               The Derby 1895   \n",
       "\n",
       "                                        originalTitle isAdult startYear  \\\n",
       "0                                          Carmencita       0      1894   \n",
       "1                              Le clown et ses chiens       0      1892   \n",
       "2                                      Pauvre Pierrot       0      1892   \n",
       "3                                         Un bon bock       0      1892   \n",
       "4                                    Blacksmith Scene       0      1893   \n",
       "5                                   Chinese Opium Den       0      1894   \n",
       "6         Corbett and Courtney Before the Kinetograph       0      1894   \n",
       "7              Edison Kinetoscopic Record of a Sneeze       0      1894   \n",
       "8                                          Miss Jerry       0      1894   \n",
       "9                 La sortie de l'usine Lumière à Lyon       0      1895   \n",
       "10                            Akrobatisches Potpourri       0      1895   \n",
       "11                   L'arrivée d'un train à La Ciotat       0      1896   \n",
       "12  Neuville-sur-Saône: Débarquement du congrès de...       0      1895   \n",
       "13                                  L'arroseur arrosé       0      1895   \n",
       "14                                Autour d'une cabine       0      1894   \n",
       "15                             Barque sortant du port       0      1895   \n",
       "16                           Italienischer Bauerntanz       0      1895   \n",
       "17                               Das boxende Känguruh       0      1895   \n",
       "18                                   The Clown Barber       0      1898   \n",
       "19                                     The Derby 1895       0      1895   \n",
       "\n",
       "   endYear runtimeMinutes                    genres  \n",
       "0       \\N              1         Documentary,Short  \n",
       "1       \\N              5           Animation,Short  \n",
       "2       \\N              4  Animation,Comedy,Romance  \n",
       "3       \\N             12           Animation,Short  \n",
       "4       \\N              1              Comedy,Short  \n",
       "5       \\N              1                     Short  \n",
       "6       \\N              1               Short,Sport  \n",
       "7       \\N              1         Documentary,Short  \n",
       "8       \\N             40             Romance,Short  \n",
       "9       \\N              1         Documentary,Short  \n",
       "10      \\N              1         Documentary,Short  \n",
       "11      \\N              1         Documentary,Short  \n",
       "12      \\N              1         Documentary,Short  \n",
       "13      \\N              1              Comedy,Short  \n",
       "14      \\N              2           Animation,Short  \n",
       "15      \\N              1         Documentary,Short  \n",
       "16      \\N              1         Documentary,Short  \n",
       "17      \\N              1                     Short  \n",
       "18      \\N             \\N              Comedy,Short  \n",
       "19      \\N              1   Documentary,Short,Sport  "
      ]
     },
     "execution_count": 12,
     "metadata": {},
     "output_type": "execute_result"
    }
   ],
   "source": [
    "data2.head(20)"
   ]
  },
  {
   "cell_type": "markdown",
   "metadata": {},
   "source": [
    "Vemos el numero de columnas y filas:"
   ]
  },
  {
   "cell_type": "code",
   "execution_count": 13,
   "metadata": {},
   "outputs": [
    {
     "data": {
      "text/plain": [
       "(7538053, 9)"
      ]
     },
     "execution_count": 13,
     "metadata": {},
     "output_type": "execute_result"
    }
   ],
   "source": [
    "data2.shape"
   ]
  },
  {
   "cell_type": "markdown",
   "metadata": {},
   "source": [
    "Vemos el tipo de dato de cada columna:"
   ]
  },
  {
   "cell_type": "code",
   "execution_count": 14,
   "metadata": {},
   "outputs": [
    {
     "data": {
      "text/plain": [
       "tconst            object\n",
       "titleType         object\n",
       "primaryTitle      object\n",
       "originalTitle     object\n",
       "isAdult           object\n",
       "startYear         object\n",
       "endYear           object\n",
       "runtimeMinutes    object\n",
       "genres            object\n",
       "dtype: object"
      ]
     },
     "execution_count": 14,
     "metadata": {},
     "output_type": "execute_result"
    }
   ],
   "source": [
    "data2.dtypes"
   ]
  },
  {
   "cell_type": "markdown",
   "metadata": {},
   "source": [
    "Vemos los valores de la columna \"titleType\":"
   ]
  },
  {
   "cell_type": "code",
   "execution_count": 15,
   "metadata": {},
   "outputs": [
    {
     "data": {
      "text/plain": [
       "tvEpisode       5458746\n",
       "short            789189\n",
       "movie            565079\n",
       "video            292468\n",
       "tvSeries         199863\n",
       "tvMovie          112756\n",
       "tvMiniSeries      35385\n",
       "tvSpecial         31124\n",
       "videoGame         27162\n",
       "tvShort           26278\n",
       "episode               1\n",
       "audiobook             1\n",
       "radioSeries           1\n",
       "Name: titleType, dtype: int64"
      ]
     },
     "execution_count": 15,
     "metadata": {},
     "output_type": "execute_result"
    }
   ],
   "source": [
    "data2.titleType.value_counts()"
   ]
  },
  {
   "cell_type": "markdown",
   "metadata": {},
   "source": [
    "Como hay muchos tipos de titulos distintos, y a nosotros solo nos interesan las peliculas, vamos a crear una mascara para poder filtrar por peliculas y la aplicamos:"
   ]
  },
  {
   "cell_type": "code",
   "execution_count": 16,
   "metadata": {},
   "outputs": [],
   "source": [
    "mask_movie = data2.titleType == 'movie'\n",
    "df_m = data2[mask_movie]"
   ]
  },
  {
   "cell_type": "code",
   "execution_count": null,
   "metadata": {},
   "outputs": [],
   "source": []
  },
  {
   "cell_type": "markdown",
   "metadata": {},
   "source": [
    "Corroboramos que el numero de filas haya disminuido:"
   ]
  },
  {
   "cell_type": "code",
   "execution_count": 17,
   "metadata": {},
   "outputs": [
    {
     "data": {
      "text/plain": [
       "(565079, 9)"
      ]
     },
     "execution_count": 17,
     "metadata": {},
     "output_type": "execute_result"
    }
   ],
   "source": [
    "df_m.shape"
   ]
  },
  {
   "cell_type": "markdown",
   "metadata": {},
   "source": [
    "Vemos que valores tiene la columna \"startYear\":"
   ]
  },
  {
   "cell_type": "code",
   "execution_count": 18,
   "metadata": {},
   "outputs": [
    {
     "data": {
      "text/plain": [
       "\\N      69649\n",
       "2017    17709\n",
       "2018    17467\n",
       "2016    17388\n",
       "2019    16673\n",
       "        ...  \n",
       "1902        4\n",
       "2027        4\n",
       "2026        3\n",
       "2028        1\n",
       "1897        1\n",
       "Name: startYear, Length: 133, dtype: int64"
      ]
     },
     "execution_count": 18,
     "metadata": {},
     "output_type": "execute_result"
    }
   ],
   "source": [
    "df_m[\"startYear\"].value_counts()"
   ]
  },
  {
   "cell_type": "markdown",
   "metadata": {},
   "source": [
    "Notamos que la columna \"startYear\" tiene como valor \"\\N\", por lo cual vamos a crear y aplicar una mascara para poder filtrar esos casos:"
   ]
  },
  {
   "cell_type": "code",
   "execution_count": 19,
   "metadata": {},
   "outputs": [],
   "source": [
    "mask_year = df_m[\"startYear\"] != \"\\\\N\"\n",
    "df_sin_n = df_m[mask_year]"
   ]
  },
  {
   "cell_type": "markdown",
   "metadata": {},
   "source": [
    "Verificamos que esas filas ya no se encuentren en el nuevo dataframe:"
   ]
  },
  {
   "cell_type": "code",
   "execution_count": 20,
   "metadata": {},
   "outputs": [
    {
     "data": {
      "text/plain": [
       "2017    17709\n",
       "2018    17467\n",
       "2016    17388\n",
       "2019    16673\n",
       "2015    16261\n",
       "        ...  \n",
       "2027        4\n",
       "2025        4\n",
       "2026        3\n",
       "1897        1\n",
       "2028        1\n",
       "Name: startYear, Length: 132, dtype: int64"
      ]
     },
     "execution_count": 20,
     "metadata": {},
     "output_type": "execute_result"
    }
   ],
   "source": [
    "df_sin_n[\"startYear\"].value_counts()"
   ]
  },
  {
   "cell_type": "markdown",
   "metadata": {},
   "source": [
    "Convertimos a int a la columna y verificamos:"
   ]
  },
  {
   "cell_type": "code",
   "execution_count": 21,
   "metadata": {},
   "outputs": [
    {
     "name": "stderr",
     "output_type": "stream",
     "text": [
      "D:\\Anaconda3\\envs\\dhdsblend_1\\lib\\site-packages\\ipykernel_launcher.py:1: SettingWithCopyWarning: \n",
      "A value is trying to be set on a copy of a slice from a DataFrame.\n",
      "Try using .loc[row_indexer,col_indexer] = value instead\n",
      "\n",
      "See the caveats in the documentation: https://pandas.pydata.org/pandas-docs/stable/user_guide/indexing.html#returning-a-view-versus-a-copy\n",
      "  \"\"\"Entry point for launching an IPython kernel.\n"
     ]
    }
   ],
   "source": [
    "df_sin_n[\"startYear\"] = df_sin_n[\"startYear\"].astype(int) "
   ]
  },
  {
   "cell_type": "code",
   "execution_count": 22,
   "metadata": {},
   "outputs": [
    {
     "data": {
      "text/plain": [
       "dtype('int32')"
      ]
     },
     "execution_count": 22,
     "metadata": {},
     "output_type": "execute_result"
    }
   ],
   "source": [
    "df_sin_n[\"startYear\"].dtypes"
   ]
  },
  {
   "cell_type": "markdown",
   "metadata": {},
   "source": [
    "Calculamos la cantidad de columnas y filas de este dataframe actualizado:"
   ]
  },
  {
   "cell_type": "code",
   "execution_count": 23,
   "metadata": {},
   "outputs": [
    {
     "data": {
      "text/plain": [
       "(495430, 9)"
      ]
     },
     "execution_count": 23,
     "metadata": {},
     "output_type": "execute_result"
    }
   ],
   "source": [
    "df_sin_n.shape"
   ]
  },
  {
   "cell_type": "markdown",
   "metadata": {},
   "source": [
    "Como el objetivo trata a cerca de peliculas en produccion actualmente, solo nos interesa quedarnos con inputs que no sean demasiado antiguos, por lo cual solo nos vamos a limitar a trabajar con peliculas creadas a partir de 1960. Para eso vamos a crear una mascara y aplicarla al dataframe:"
   ]
  },
  {
   "cell_type": "code",
   "execution_count": 24,
   "metadata": {},
   "outputs": [],
   "source": [
    "mask_year = df_sin_n[\"startYear\"] > 1959\n",
    "df_sin_n_1960 = df_sin_n[mask_year]"
   ]
  },
  {
   "cell_type": "markdown",
   "metadata": {},
   "source": [
    "Verificamos que el numero de filas haya disminuido y hacemos un display de este nuevo dataframe:"
   ]
  },
  {
   "cell_type": "code",
   "execution_count": 25,
   "metadata": {},
   "outputs": [
    {
     "data": {
      "text/plain": [
       "(403950, 9)"
      ]
     },
     "execution_count": 25,
     "metadata": {},
     "output_type": "execute_result"
    }
   ],
   "source": [
    "df_sin_n_1960.shape\n"
   ]
  },
  {
   "cell_type": "code",
   "execution_count": 26,
   "metadata": {},
   "outputs": [
    {
     "data": {
      "text/html": [
       "<div>\n",
       "<style scoped>\n",
       "    .dataframe tbody tr th:only-of-type {\n",
       "        vertical-align: middle;\n",
       "    }\n",
       "\n",
       "    .dataframe tbody tr th {\n",
       "        vertical-align: top;\n",
       "    }\n",
       "\n",
       "    .dataframe thead th {\n",
       "        text-align: right;\n",
       "    }\n",
       "</style>\n",
       "<table border=\"1\" class=\"dataframe\">\n",
       "  <thead>\n",
       "    <tr style=\"text-align: right;\">\n",
       "      <th></th>\n",
       "      <th>tconst</th>\n",
       "      <th>titleType</th>\n",
       "      <th>primaryTitle</th>\n",
       "      <th>originalTitle</th>\n",
       "      <th>isAdult</th>\n",
       "      <th>startYear</th>\n",
       "      <th>endYear</th>\n",
       "      <th>runtimeMinutes</th>\n",
       "      <th>genres</th>\n",
       "    </tr>\n",
       "  </thead>\n",
       "  <tbody>\n",
       "    <tr>\n",
       "      <th>15184</th>\n",
       "      <td>tt0015414</td>\n",
       "      <td>movie</td>\n",
       "      <td>La tierra de los toros</td>\n",
       "      <td>La tierra de los toros</td>\n",
       "      <td>0</td>\n",
       "      <td>2000</td>\n",
       "      <td>\\N</td>\n",
       "      <td>60</td>\n",
       "      <td>\\N</td>\n",
       "    </tr>\n",
       "    <tr>\n",
       "      <th>15492</th>\n",
       "      <td>tt0015724</td>\n",
       "      <td>movie</td>\n",
       "      <td>Dama de noche</td>\n",
       "      <td>Dama de noche</td>\n",
       "      <td>0</td>\n",
       "      <td>1993</td>\n",
       "      <td>\\N</td>\n",
       "      <td>102</td>\n",
       "      <td>Drama,Mystery,Romance</td>\n",
       "    </tr>\n",
       "    <tr>\n",
       "      <th>16662</th>\n",
       "      <td>tt0016906</td>\n",
       "      <td>movie</td>\n",
       "      <td>Frivolinas</td>\n",
       "      <td>Frivolinas</td>\n",
       "      <td>0</td>\n",
       "      <td>2014</td>\n",
       "      <td>\\N</td>\n",
       "      <td>80</td>\n",
       "      <td>Comedy,Musical</td>\n",
       "    </tr>\n",
       "    <tr>\n",
       "      <th>19706</th>\n",
       "      <td>tt0019996</td>\n",
       "      <td>movie</td>\n",
       "      <td>Hongxia</td>\n",
       "      <td>Hongxia</td>\n",
       "      <td>0</td>\n",
       "      <td>2011</td>\n",
       "      <td>\\N</td>\n",
       "      <td>94</td>\n",
       "      <td>\\N</td>\n",
       "    </tr>\n",
       "    <tr>\n",
       "      <th>30909</th>\n",
       "      <td>tt0031458</td>\n",
       "      <td>movie</td>\n",
       "      <td>El huésped del sevillano</td>\n",
       "      <td>El huésped del sevillano</td>\n",
       "      <td>0</td>\n",
       "      <td>1970</td>\n",
       "      <td>\\N</td>\n",
       "      <td>86</td>\n",
       "      <td>Comedy</td>\n",
       "    </tr>\n",
       "    <tr>\n",
       "      <th>34811</th>\n",
       "      <td>tt0035423</td>\n",
       "      <td>movie</td>\n",
       "      <td>Kate &amp; Leopold</td>\n",
       "      <td>Kate &amp; Leopold</td>\n",
       "      <td>0</td>\n",
       "      <td>2001</td>\n",
       "      <td>\\N</td>\n",
       "      <td>118</td>\n",
       "      <td>Comedy,Fantasy,Romance</td>\n",
       "    </tr>\n",
       "    <tr>\n",
       "      <th>35943</th>\n",
       "      <td>tt0036574</td>\n",
       "      <td>movie</td>\n",
       "      <td>January 30, 1945</td>\n",
       "      <td>30. Januar 1945</td>\n",
       "      <td>0</td>\n",
       "      <td>1965</td>\n",
       "      <td>\\N</td>\n",
       "      <td>146</td>\n",
       "      <td>\\N</td>\n",
       "    </tr>\n",
       "    <tr>\n",
       "      <th>35975</th>\n",
       "      <td>tt0036606</td>\n",
       "      <td>movie</td>\n",
       "      <td>Another Time, Another Place</td>\n",
       "      <td>Another Time, Another Place</td>\n",
       "      <td>0</td>\n",
       "      <td>1983</td>\n",
       "      <td>\\N</td>\n",
       "      <td>118</td>\n",
       "      <td>Drama,War</td>\n",
       "    </tr>\n",
       "    <tr>\n",
       "      <th>38019</th>\n",
       "      <td>tt0038687</td>\n",
       "      <td>movie</td>\n",
       "      <td>Let There Be Light</td>\n",
       "      <td>Let There Be Light</td>\n",
       "      <td>0</td>\n",
       "      <td>1980</td>\n",
       "      <td>\\N</td>\n",
       "      <td>58</td>\n",
       "      <td>Documentary,War</td>\n",
       "    </tr>\n",
       "    <tr>\n",
       "      <th>38767</th>\n",
       "      <td>tt0039442</td>\n",
       "      <td>movie</td>\n",
       "      <td>Habla, mudita</td>\n",
       "      <td>Habla, mudita</td>\n",
       "      <td>0</td>\n",
       "      <td>1973</td>\n",
       "      <td>\\N</td>\n",
       "      <td>88</td>\n",
       "      <td>Drama</td>\n",
       "    </tr>\n",
       "    <tr>\n",
       "      <th>39284</th>\n",
       "      <td>tt0039965</td>\n",
       "      <td>movie</td>\n",
       "      <td>Viva Chihuahua</td>\n",
       "      <td>Viva Chihuahua</td>\n",
       "      <td>0</td>\n",
       "      <td>1961</td>\n",
       "      <td>\\N</td>\n",
       "      <td>80</td>\n",
       "      <td>Comedy,Western</td>\n",
       "    </tr>\n",
       "    <tr>\n",
       "      <th>41693</th>\n",
       "      <td>tt0042423</td>\n",
       "      <td>movie</td>\n",
       "      <td>The Dungeon of Harrow</td>\n",
       "      <td>The Dungeon of Harrow</td>\n",
       "      <td>0</td>\n",
       "      <td>1962</td>\n",
       "      <td>\\N</td>\n",
       "      <td>86</td>\n",
       "      <td>Horror</td>\n",
       "    </tr>\n",
       "    <tr>\n",
       "      <th>43086</th>\n",
       "      <td>tt0043841</td>\n",
       "      <td>movie</td>\n",
       "      <td>Il naufrago del Pacifico</td>\n",
       "      <td>Il naufrago del Pacifico</td>\n",
       "      <td>0</td>\n",
       "      <td>1962</td>\n",
       "      <td>\\N</td>\n",
       "      <td>\\N</td>\n",
       "      <td>Adventure</td>\n",
       "    </tr>\n",
       "    <tr>\n",
       "      <th>44149</th>\n",
       "      <td>tt0044932</td>\n",
       "      <td>movie</td>\n",
       "      <td>Murder on the Campus</td>\n",
       "      <td>Out of the Shadow</td>\n",
       "      <td>0</td>\n",
       "      <td>1961</td>\n",
       "      <td>\\N</td>\n",
       "      <td>61</td>\n",
       "      <td>Mystery</td>\n",
       "    </tr>\n",
       "    <tr>\n",
       "      <th>44351</th>\n",
       "      <td>tt0045136</td>\n",
       "      <td>movie</td>\n",
       "      <td>Semmelweis</td>\n",
       "      <td>Semmelweis</td>\n",
       "      <td>0</td>\n",
       "      <td>1961</td>\n",
       "      <td>\\N</td>\n",
       "      <td>105</td>\n",
       "      <td>Drama</td>\n",
       "    </tr>\n",
       "    <tr>\n",
       "      <th>46195</th>\n",
       "      <td>tt0047027</td>\n",
       "      <td>movie</td>\n",
       "      <td>La gitana y el charro</td>\n",
       "      <td>La gitana y el charro</td>\n",
       "      <td>0</td>\n",
       "      <td>1964</td>\n",
       "      <td>\\N</td>\n",
       "      <td>87</td>\n",
       "      <td>Comedy,Musical,Romance</td>\n",
       "    </tr>\n",
       "    <tr>\n",
       "      <th>46213</th>\n",
       "      <td>tt0047045</td>\n",
       "      <td>movie</td>\n",
       "      <td>La grande avventura</td>\n",
       "      <td>La grande avventura</td>\n",
       "      <td>0</td>\n",
       "      <td>1967</td>\n",
       "      <td>\\N</td>\n",
       "      <td>\\N</td>\n",
       "      <td>\\N</td>\n",
       "    </tr>\n",
       "    <tr>\n",
       "      <th>47210</th>\n",
       "      <td>tt0048066</td>\n",
       "      <td>movie</td>\n",
       "      <td>Toro bravo</td>\n",
       "      <td>Toro bravo</td>\n",
       "      <td>0</td>\n",
       "      <td>1960</td>\n",
       "      <td>\\N</td>\n",
       "      <td>95</td>\n",
       "      <td>Drama</td>\n",
       "    </tr>\n",
       "    <tr>\n",
       "      <th>47304</th>\n",
       "      <td>tt0048162</td>\n",
       "      <td>movie</td>\n",
       "      <td>Herr Puntila and His Servant Matti</td>\n",
       "      <td>Herr Puntila und sein Knecht Matti</td>\n",
       "      <td>0</td>\n",
       "      <td>1960</td>\n",
       "      <td>\\N</td>\n",
       "      <td>97</td>\n",
       "      <td>Comedy,Drama,Musical</td>\n",
       "    </tr>\n",
       "    <tr>\n",
       "      <th>47375</th>\n",
       "      <td>tt0048234</td>\n",
       "      <td>movie</td>\n",
       "      <td>Juicio final</td>\n",
       "      <td>Juicio final</td>\n",
       "      <td>0</td>\n",
       "      <td>1960</td>\n",
       "      <td>\\N</td>\n",
       "      <td>78</td>\n",
       "      <td>Drama</td>\n",
       "    </tr>\n",
       "  </tbody>\n",
       "</table>\n",
       "</div>"
      ],
      "text/plain": [
       "          tconst titleType                        primaryTitle  \\\n",
       "15184  tt0015414     movie              La tierra de los toros   \n",
       "15492  tt0015724     movie                       Dama de noche   \n",
       "16662  tt0016906     movie                          Frivolinas   \n",
       "19706  tt0019996     movie                             Hongxia   \n",
       "30909  tt0031458     movie            El huésped del sevillano   \n",
       "34811  tt0035423     movie                      Kate & Leopold   \n",
       "35943  tt0036574     movie                    January 30, 1945   \n",
       "35975  tt0036606     movie         Another Time, Another Place   \n",
       "38019  tt0038687     movie                  Let There Be Light   \n",
       "38767  tt0039442     movie                       Habla, mudita   \n",
       "39284  tt0039965     movie                      Viva Chihuahua   \n",
       "41693  tt0042423     movie               The Dungeon of Harrow   \n",
       "43086  tt0043841     movie            Il naufrago del Pacifico   \n",
       "44149  tt0044932     movie                Murder on the Campus   \n",
       "44351  tt0045136     movie                          Semmelweis   \n",
       "46195  tt0047027     movie               La gitana y el charro   \n",
       "46213  tt0047045     movie                 La grande avventura   \n",
       "47210  tt0048066     movie                          Toro bravo   \n",
       "47304  tt0048162     movie  Herr Puntila and His Servant Matti   \n",
       "47375  tt0048234     movie                        Juicio final   \n",
       "\n",
       "                            originalTitle isAdult  startYear endYear  \\\n",
       "15184              La tierra de los toros       0       2000      \\N   \n",
       "15492                       Dama de noche       0       1993      \\N   \n",
       "16662                          Frivolinas       0       2014      \\N   \n",
       "19706                             Hongxia       0       2011      \\N   \n",
       "30909            El huésped del sevillano       0       1970      \\N   \n",
       "34811                      Kate & Leopold       0       2001      \\N   \n",
       "35943                     30. Januar 1945       0       1965      \\N   \n",
       "35975         Another Time, Another Place       0       1983      \\N   \n",
       "38019                  Let There Be Light       0       1980      \\N   \n",
       "38767                       Habla, mudita       0       1973      \\N   \n",
       "39284                      Viva Chihuahua       0       1961      \\N   \n",
       "41693               The Dungeon of Harrow       0       1962      \\N   \n",
       "43086            Il naufrago del Pacifico       0       1962      \\N   \n",
       "44149                   Out of the Shadow       0       1961      \\N   \n",
       "44351                          Semmelweis       0       1961      \\N   \n",
       "46195               La gitana y el charro       0       1964      \\N   \n",
       "46213                 La grande avventura       0       1967      \\N   \n",
       "47210                          Toro bravo       0       1960      \\N   \n",
       "47304  Herr Puntila und sein Knecht Matti       0       1960      \\N   \n",
       "47375                        Juicio final       0       1960      \\N   \n",
       "\n",
       "      runtimeMinutes                  genres  \n",
       "15184             60                      \\N  \n",
       "15492            102   Drama,Mystery,Romance  \n",
       "16662             80          Comedy,Musical  \n",
       "19706             94                      \\N  \n",
       "30909             86                  Comedy  \n",
       "34811            118  Comedy,Fantasy,Romance  \n",
       "35943            146                      \\N  \n",
       "35975            118               Drama,War  \n",
       "38019             58         Documentary,War  \n",
       "38767             88                   Drama  \n",
       "39284             80          Comedy,Western  \n",
       "41693             86                  Horror  \n",
       "43086             \\N               Adventure  \n",
       "44149             61                 Mystery  \n",
       "44351            105                   Drama  \n",
       "46195             87  Comedy,Musical,Romance  \n",
       "46213             \\N                      \\N  \n",
       "47210             95                   Drama  \n",
       "47304             97    Comedy,Drama,Musical  \n",
       "47375             78                   Drama  "
      ]
     },
     "execution_count": 26,
     "metadata": {},
     "output_type": "execute_result"
    }
   ],
   "source": [
    "df_sin_n_1960.head(20)\n"
   ]
  },
  {
   "cell_type": "markdown",
   "metadata": {},
   "source": [
    "Ahora dropeamos la columna \"endYear\" ya que no aporta informacion util y llamamos al dataframe nuevamente:"
   ]
  },
  {
   "cell_type": "code",
   "execution_count": 27,
   "metadata": {},
   "outputs": [],
   "source": [
    "df_sin_n_1960 = df_sin_n_1960.drop(axis=1, columns='endYear')"
   ]
  },
  {
   "cell_type": "code",
   "execution_count": 28,
   "metadata": {},
   "outputs": [
    {
     "data": {
      "text/html": [
       "<div>\n",
       "<style scoped>\n",
       "    .dataframe tbody tr th:only-of-type {\n",
       "        vertical-align: middle;\n",
       "    }\n",
       "\n",
       "    .dataframe tbody tr th {\n",
       "        vertical-align: top;\n",
       "    }\n",
       "\n",
       "    .dataframe thead th {\n",
       "        text-align: right;\n",
       "    }\n",
       "</style>\n",
       "<table border=\"1\" class=\"dataframe\">\n",
       "  <thead>\n",
       "    <tr style=\"text-align: right;\">\n",
       "      <th></th>\n",
       "      <th>tconst</th>\n",
       "      <th>titleType</th>\n",
       "      <th>primaryTitle</th>\n",
       "      <th>originalTitle</th>\n",
       "      <th>isAdult</th>\n",
       "      <th>startYear</th>\n",
       "      <th>runtimeMinutes</th>\n",
       "      <th>genres</th>\n",
       "    </tr>\n",
       "  </thead>\n",
       "  <tbody>\n",
       "    <tr>\n",
       "      <th>15184</th>\n",
       "      <td>tt0015414</td>\n",
       "      <td>movie</td>\n",
       "      <td>La tierra de los toros</td>\n",
       "      <td>La tierra de los toros</td>\n",
       "      <td>0</td>\n",
       "      <td>2000</td>\n",
       "      <td>60</td>\n",
       "      <td>\\N</td>\n",
       "    </tr>\n",
       "    <tr>\n",
       "      <th>15492</th>\n",
       "      <td>tt0015724</td>\n",
       "      <td>movie</td>\n",
       "      <td>Dama de noche</td>\n",
       "      <td>Dama de noche</td>\n",
       "      <td>0</td>\n",
       "      <td>1993</td>\n",
       "      <td>102</td>\n",
       "      <td>Drama,Mystery,Romance</td>\n",
       "    </tr>\n",
       "    <tr>\n",
       "      <th>16662</th>\n",
       "      <td>tt0016906</td>\n",
       "      <td>movie</td>\n",
       "      <td>Frivolinas</td>\n",
       "      <td>Frivolinas</td>\n",
       "      <td>0</td>\n",
       "      <td>2014</td>\n",
       "      <td>80</td>\n",
       "      <td>Comedy,Musical</td>\n",
       "    </tr>\n",
       "    <tr>\n",
       "      <th>19706</th>\n",
       "      <td>tt0019996</td>\n",
       "      <td>movie</td>\n",
       "      <td>Hongxia</td>\n",
       "      <td>Hongxia</td>\n",
       "      <td>0</td>\n",
       "      <td>2011</td>\n",
       "      <td>94</td>\n",
       "      <td>\\N</td>\n",
       "    </tr>\n",
       "    <tr>\n",
       "      <th>30909</th>\n",
       "      <td>tt0031458</td>\n",
       "      <td>movie</td>\n",
       "      <td>El huésped del sevillano</td>\n",
       "      <td>El huésped del sevillano</td>\n",
       "      <td>0</td>\n",
       "      <td>1970</td>\n",
       "      <td>86</td>\n",
       "      <td>Comedy</td>\n",
       "    </tr>\n",
       "    <tr>\n",
       "      <th>34811</th>\n",
       "      <td>tt0035423</td>\n",
       "      <td>movie</td>\n",
       "      <td>Kate &amp; Leopold</td>\n",
       "      <td>Kate &amp; Leopold</td>\n",
       "      <td>0</td>\n",
       "      <td>2001</td>\n",
       "      <td>118</td>\n",
       "      <td>Comedy,Fantasy,Romance</td>\n",
       "    </tr>\n",
       "    <tr>\n",
       "      <th>35943</th>\n",
       "      <td>tt0036574</td>\n",
       "      <td>movie</td>\n",
       "      <td>January 30, 1945</td>\n",
       "      <td>30. Januar 1945</td>\n",
       "      <td>0</td>\n",
       "      <td>1965</td>\n",
       "      <td>146</td>\n",
       "      <td>\\N</td>\n",
       "    </tr>\n",
       "    <tr>\n",
       "      <th>35975</th>\n",
       "      <td>tt0036606</td>\n",
       "      <td>movie</td>\n",
       "      <td>Another Time, Another Place</td>\n",
       "      <td>Another Time, Another Place</td>\n",
       "      <td>0</td>\n",
       "      <td>1983</td>\n",
       "      <td>118</td>\n",
       "      <td>Drama,War</td>\n",
       "    </tr>\n",
       "    <tr>\n",
       "      <th>38019</th>\n",
       "      <td>tt0038687</td>\n",
       "      <td>movie</td>\n",
       "      <td>Let There Be Light</td>\n",
       "      <td>Let There Be Light</td>\n",
       "      <td>0</td>\n",
       "      <td>1980</td>\n",
       "      <td>58</td>\n",
       "      <td>Documentary,War</td>\n",
       "    </tr>\n",
       "    <tr>\n",
       "      <th>38767</th>\n",
       "      <td>tt0039442</td>\n",
       "      <td>movie</td>\n",
       "      <td>Habla, mudita</td>\n",
       "      <td>Habla, mudita</td>\n",
       "      <td>0</td>\n",
       "      <td>1973</td>\n",
       "      <td>88</td>\n",
       "      <td>Drama</td>\n",
       "    </tr>\n",
       "    <tr>\n",
       "      <th>39284</th>\n",
       "      <td>tt0039965</td>\n",
       "      <td>movie</td>\n",
       "      <td>Viva Chihuahua</td>\n",
       "      <td>Viva Chihuahua</td>\n",
       "      <td>0</td>\n",
       "      <td>1961</td>\n",
       "      <td>80</td>\n",
       "      <td>Comedy,Western</td>\n",
       "    </tr>\n",
       "    <tr>\n",
       "      <th>41693</th>\n",
       "      <td>tt0042423</td>\n",
       "      <td>movie</td>\n",
       "      <td>The Dungeon of Harrow</td>\n",
       "      <td>The Dungeon of Harrow</td>\n",
       "      <td>0</td>\n",
       "      <td>1962</td>\n",
       "      <td>86</td>\n",
       "      <td>Horror</td>\n",
       "    </tr>\n",
       "    <tr>\n",
       "      <th>43086</th>\n",
       "      <td>tt0043841</td>\n",
       "      <td>movie</td>\n",
       "      <td>Il naufrago del Pacifico</td>\n",
       "      <td>Il naufrago del Pacifico</td>\n",
       "      <td>0</td>\n",
       "      <td>1962</td>\n",
       "      <td>\\N</td>\n",
       "      <td>Adventure</td>\n",
       "    </tr>\n",
       "    <tr>\n",
       "      <th>44149</th>\n",
       "      <td>tt0044932</td>\n",
       "      <td>movie</td>\n",
       "      <td>Murder on the Campus</td>\n",
       "      <td>Out of the Shadow</td>\n",
       "      <td>0</td>\n",
       "      <td>1961</td>\n",
       "      <td>61</td>\n",
       "      <td>Mystery</td>\n",
       "    </tr>\n",
       "    <tr>\n",
       "      <th>44351</th>\n",
       "      <td>tt0045136</td>\n",
       "      <td>movie</td>\n",
       "      <td>Semmelweis</td>\n",
       "      <td>Semmelweis</td>\n",
       "      <td>0</td>\n",
       "      <td>1961</td>\n",
       "      <td>105</td>\n",
       "      <td>Drama</td>\n",
       "    </tr>\n",
       "    <tr>\n",
       "      <th>46195</th>\n",
       "      <td>tt0047027</td>\n",
       "      <td>movie</td>\n",
       "      <td>La gitana y el charro</td>\n",
       "      <td>La gitana y el charro</td>\n",
       "      <td>0</td>\n",
       "      <td>1964</td>\n",
       "      <td>87</td>\n",
       "      <td>Comedy,Musical,Romance</td>\n",
       "    </tr>\n",
       "    <tr>\n",
       "      <th>46213</th>\n",
       "      <td>tt0047045</td>\n",
       "      <td>movie</td>\n",
       "      <td>La grande avventura</td>\n",
       "      <td>La grande avventura</td>\n",
       "      <td>0</td>\n",
       "      <td>1967</td>\n",
       "      <td>\\N</td>\n",
       "      <td>\\N</td>\n",
       "    </tr>\n",
       "    <tr>\n",
       "      <th>47210</th>\n",
       "      <td>tt0048066</td>\n",
       "      <td>movie</td>\n",
       "      <td>Toro bravo</td>\n",
       "      <td>Toro bravo</td>\n",
       "      <td>0</td>\n",
       "      <td>1960</td>\n",
       "      <td>95</td>\n",
       "      <td>Drama</td>\n",
       "    </tr>\n",
       "    <tr>\n",
       "      <th>47304</th>\n",
       "      <td>tt0048162</td>\n",
       "      <td>movie</td>\n",
       "      <td>Herr Puntila and His Servant Matti</td>\n",
       "      <td>Herr Puntila und sein Knecht Matti</td>\n",
       "      <td>0</td>\n",
       "      <td>1960</td>\n",
       "      <td>97</td>\n",
       "      <td>Comedy,Drama,Musical</td>\n",
       "    </tr>\n",
       "    <tr>\n",
       "      <th>47375</th>\n",
       "      <td>tt0048234</td>\n",
       "      <td>movie</td>\n",
       "      <td>Juicio final</td>\n",
       "      <td>Juicio final</td>\n",
       "      <td>0</td>\n",
       "      <td>1960</td>\n",
       "      <td>78</td>\n",
       "      <td>Drama</td>\n",
       "    </tr>\n",
       "  </tbody>\n",
       "</table>\n",
       "</div>"
      ],
      "text/plain": [
       "          tconst titleType                        primaryTitle  \\\n",
       "15184  tt0015414     movie              La tierra de los toros   \n",
       "15492  tt0015724     movie                       Dama de noche   \n",
       "16662  tt0016906     movie                          Frivolinas   \n",
       "19706  tt0019996     movie                             Hongxia   \n",
       "30909  tt0031458     movie            El huésped del sevillano   \n",
       "34811  tt0035423     movie                      Kate & Leopold   \n",
       "35943  tt0036574     movie                    January 30, 1945   \n",
       "35975  tt0036606     movie         Another Time, Another Place   \n",
       "38019  tt0038687     movie                  Let There Be Light   \n",
       "38767  tt0039442     movie                       Habla, mudita   \n",
       "39284  tt0039965     movie                      Viva Chihuahua   \n",
       "41693  tt0042423     movie               The Dungeon of Harrow   \n",
       "43086  tt0043841     movie            Il naufrago del Pacifico   \n",
       "44149  tt0044932     movie                Murder on the Campus   \n",
       "44351  tt0045136     movie                          Semmelweis   \n",
       "46195  tt0047027     movie               La gitana y el charro   \n",
       "46213  tt0047045     movie                 La grande avventura   \n",
       "47210  tt0048066     movie                          Toro bravo   \n",
       "47304  tt0048162     movie  Herr Puntila and His Servant Matti   \n",
       "47375  tt0048234     movie                        Juicio final   \n",
       "\n",
       "                            originalTitle isAdult  startYear runtimeMinutes  \\\n",
       "15184              La tierra de los toros       0       2000             60   \n",
       "15492                       Dama de noche       0       1993            102   \n",
       "16662                          Frivolinas       0       2014             80   \n",
       "19706                             Hongxia       0       2011             94   \n",
       "30909            El huésped del sevillano       0       1970             86   \n",
       "34811                      Kate & Leopold       0       2001            118   \n",
       "35943                     30. Januar 1945       0       1965            146   \n",
       "35975         Another Time, Another Place       0       1983            118   \n",
       "38019                  Let There Be Light       0       1980             58   \n",
       "38767                       Habla, mudita       0       1973             88   \n",
       "39284                      Viva Chihuahua       0       1961             80   \n",
       "41693               The Dungeon of Harrow       0       1962             86   \n",
       "43086            Il naufrago del Pacifico       0       1962             \\N   \n",
       "44149                   Out of the Shadow       0       1961             61   \n",
       "44351                          Semmelweis       0       1961            105   \n",
       "46195               La gitana y el charro       0       1964             87   \n",
       "46213                 La grande avventura       0       1967             \\N   \n",
       "47210                          Toro bravo       0       1960             95   \n",
       "47304  Herr Puntila und sein Knecht Matti       0       1960             97   \n",
       "47375                        Juicio final       0       1960             78   \n",
       "\n",
       "                       genres  \n",
       "15184                      \\N  \n",
       "15492   Drama,Mystery,Romance  \n",
       "16662          Comedy,Musical  \n",
       "19706                      \\N  \n",
       "30909                  Comedy  \n",
       "34811  Comedy,Fantasy,Romance  \n",
       "35943                      \\N  \n",
       "35975               Drama,War  \n",
       "38019         Documentary,War  \n",
       "38767                   Drama  \n",
       "39284          Comedy,Western  \n",
       "41693                  Horror  \n",
       "43086               Adventure  \n",
       "44149                 Mystery  \n",
       "44351                   Drama  \n",
       "46195  Comedy,Musical,Romance  \n",
       "46213                      \\N  \n",
       "47210                   Drama  \n",
       "47304    Comedy,Drama,Musical  \n",
       "47375                   Drama  "
      ]
     },
     "execution_count": 28,
     "metadata": {},
     "output_type": "execute_result"
    }
   ],
   "source": [
    "df_sin_n_1960.head(20)"
   ]
  },
  {
   "cell_type": "markdown",
   "metadata": {},
   "source": [
    "Creamos y aplicamos una mascara que permita filtrar en todas las columnas a las celdas que valgan \"\\N\":"
   ]
  },
  {
   "cell_type": "code",
   "execution_count": 29,
   "metadata": {},
   "outputs": [
    {
     "name": "stderr",
     "output_type": "stream",
     "text": [
      "D:\\Anaconda3\\envs\\dhdsblend_1\\lib\\site-packages\\pandas\\core\\ops\\array_ops.py:253: FutureWarning: elementwise comparison failed; returning scalar instead, but in the future will perform elementwise comparison\n",
      "  res_values = method(rvalues)\n"
     ]
    }
   ],
   "source": [
    "mask_N = df_sin_n_1960 != \"\\\\N\"\n",
    "df_sin_n_1960_N = df_sin_n_1960[mask_N]"
   ]
  },
  {
   "cell_type": "markdown",
   "metadata": {},
   "source": [
    "Ahora creamos un loop que para convertir a los valores \"\\N\" en NaN y llamamos al dataframe:"
   ]
  },
  {
   "cell_type": "code",
   "execution_count": 30,
   "metadata": {},
   "outputs": [],
   "source": [
    "for columns in df_sin_n_1960_N.columns:\n",
    "    for f in columns:\n",
    "        if f == \"\\\\N\":\n",
    "            f = np.NaN"
   ]
  },
  {
   "cell_type": "code",
   "execution_count": 31,
   "metadata": {},
   "outputs": [
    {
     "data": {
      "text/html": [
       "<div>\n",
       "<style scoped>\n",
       "    .dataframe tbody tr th:only-of-type {\n",
       "        vertical-align: middle;\n",
       "    }\n",
       "\n",
       "    .dataframe tbody tr th {\n",
       "        vertical-align: top;\n",
       "    }\n",
       "\n",
       "    .dataframe thead th {\n",
       "        text-align: right;\n",
       "    }\n",
       "</style>\n",
       "<table border=\"1\" class=\"dataframe\">\n",
       "  <thead>\n",
       "    <tr style=\"text-align: right;\">\n",
       "      <th></th>\n",
       "      <th>tconst</th>\n",
       "      <th>titleType</th>\n",
       "      <th>primaryTitle</th>\n",
       "      <th>originalTitle</th>\n",
       "      <th>isAdult</th>\n",
       "      <th>startYear</th>\n",
       "      <th>runtimeMinutes</th>\n",
       "      <th>genres</th>\n",
       "    </tr>\n",
       "  </thead>\n",
       "  <tbody>\n",
       "    <tr>\n",
       "      <th>15184</th>\n",
       "      <td>tt0015414</td>\n",
       "      <td>movie</td>\n",
       "      <td>La tierra de los toros</td>\n",
       "      <td>La tierra de los toros</td>\n",
       "      <td>0</td>\n",
       "      <td>2000</td>\n",
       "      <td>60</td>\n",
       "      <td>NaN</td>\n",
       "    </tr>\n",
       "    <tr>\n",
       "      <th>15492</th>\n",
       "      <td>tt0015724</td>\n",
       "      <td>movie</td>\n",
       "      <td>Dama de noche</td>\n",
       "      <td>Dama de noche</td>\n",
       "      <td>0</td>\n",
       "      <td>1993</td>\n",
       "      <td>102</td>\n",
       "      <td>Drama,Mystery,Romance</td>\n",
       "    </tr>\n",
       "    <tr>\n",
       "      <th>16662</th>\n",
       "      <td>tt0016906</td>\n",
       "      <td>movie</td>\n",
       "      <td>Frivolinas</td>\n",
       "      <td>Frivolinas</td>\n",
       "      <td>0</td>\n",
       "      <td>2014</td>\n",
       "      <td>80</td>\n",
       "      <td>Comedy,Musical</td>\n",
       "    </tr>\n",
       "    <tr>\n",
       "      <th>19706</th>\n",
       "      <td>tt0019996</td>\n",
       "      <td>movie</td>\n",
       "      <td>Hongxia</td>\n",
       "      <td>Hongxia</td>\n",
       "      <td>0</td>\n",
       "      <td>2011</td>\n",
       "      <td>94</td>\n",
       "      <td>NaN</td>\n",
       "    </tr>\n",
       "    <tr>\n",
       "      <th>30909</th>\n",
       "      <td>tt0031458</td>\n",
       "      <td>movie</td>\n",
       "      <td>El huésped del sevillano</td>\n",
       "      <td>El huésped del sevillano</td>\n",
       "      <td>0</td>\n",
       "      <td>1970</td>\n",
       "      <td>86</td>\n",
       "      <td>Comedy</td>\n",
       "    </tr>\n",
       "    <tr>\n",
       "      <th>34811</th>\n",
       "      <td>tt0035423</td>\n",
       "      <td>movie</td>\n",
       "      <td>Kate &amp; Leopold</td>\n",
       "      <td>Kate &amp; Leopold</td>\n",
       "      <td>0</td>\n",
       "      <td>2001</td>\n",
       "      <td>118</td>\n",
       "      <td>Comedy,Fantasy,Romance</td>\n",
       "    </tr>\n",
       "    <tr>\n",
       "      <th>35943</th>\n",
       "      <td>tt0036574</td>\n",
       "      <td>movie</td>\n",
       "      <td>January 30, 1945</td>\n",
       "      <td>30. Januar 1945</td>\n",
       "      <td>0</td>\n",
       "      <td>1965</td>\n",
       "      <td>146</td>\n",
       "      <td>NaN</td>\n",
       "    </tr>\n",
       "    <tr>\n",
       "      <th>35975</th>\n",
       "      <td>tt0036606</td>\n",
       "      <td>movie</td>\n",
       "      <td>Another Time, Another Place</td>\n",
       "      <td>Another Time, Another Place</td>\n",
       "      <td>0</td>\n",
       "      <td>1983</td>\n",
       "      <td>118</td>\n",
       "      <td>Drama,War</td>\n",
       "    </tr>\n",
       "    <tr>\n",
       "      <th>38019</th>\n",
       "      <td>tt0038687</td>\n",
       "      <td>movie</td>\n",
       "      <td>Let There Be Light</td>\n",
       "      <td>Let There Be Light</td>\n",
       "      <td>0</td>\n",
       "      <td>1980</td>\n",
       "      <td>58</td>\n",
       "      <td>Documentary,War</td>\n",
       "    </tr>\n",
       "    <tr>\n",
       "      <th>38767</th>\n",
       "      <td>tt0039442</td>\n",
       "      <td>movie</td>\n",
       "      <td>Habla, mudita</td>\n",
       "      <td>Habla, mudita</td>\n",
       "      <td>0</td>\n",
       "      <td>1973</td>\n",
       "      <td>88</td>\n",
       "      <td>Drama</td>\n",
       "    </tr>\n",
       "    <tr>\n",
       "      <th>39284</th>\n",
       "      <td>tt0039965</td>\n",
       "      <td>movie</td>\n",
       "      <td>Viva Chihuahua</td>\n",
       "      <td>Viva Chihuahua</td>\n",
       "      <td>0</td>\n",
       "      <td>1961</td>\n",
       "      <td>80</td>\n",
       "      <td>Comedy,Western</td>\n",
       "    </tr>\n",
       "    <tr>\n",
       "      <th>41693</th>\n",
       "      <td>tt0042423</td>\n",
       "      <td>movie</td>\n",
       "      <td>The Dungeon of Harrow</td>\n",
       "      <td>The Dungeon of Harrow</td>\n",
       "      <td>0</td>\n",
       "      <td>1962</td>\n",
       "      <td>86</td>\n",
       "      <td>Horror</td>\n",
       "    </tr>\n",
       "    <tr>\n",
       "      <th>43086</th>\n",
       "      <td>tt0043841</td>\n",
       "      <td>movie</td>\n",
       "      <td>Il naufrago del Pacifico</td>\n",
       "      <td>Il naufrago del Pacifico</td>\n",
       "      <td>0</td>\n",
       "      <td>1962</td>\n",
       "      <td>NaN</td>\n",
       "      <td>Adventure</td>\n",
       "    </tr>\n",
       "    <tr>\n",
       "      <th>44149</th>\n",
       "      <td>tt0044932</td>\n",
       "      <td>movie</td>\n",
       "      <td>Murder on the Campus</td>\n",
       "      <td>Out of the Shadow</td>\n",
       "      <td>0</td>\n",
       "      <td>1961</td>\n",
       "      <td>61</td>\n",
       "      <td>Mystery</td>\n",
       "    </tr>\n",
       "    <tr>\n",
       "      <th>44351</th>\n",
       "      <td>tt0045136</td>\n",
       "      <td>movie</td>\n",
       "      <td>Semmelweis</td>\n",
       "      <td>Semmelweis</td>\n",
       "      <td>0</td>\n",
       "      <td>1961</td>\n",
       "      <td>105</td>\n",
       "      <td>Drama</td>\n",
       "    </tr>\n",
       "    <tr>\n",
       "      <th>46195</th>\n",
       "      <td>tt0047027</td>\n",
       "      <td>movie</td>\n",
       "      <td>La gitana y el charro</td>\n",
       "      <td>La gitana y el charro</td>\n",
       "      <td>0</td>\n",
       "      <td>1964</td>\n",
       "      <td>87</td>\n",
       "      <td>Comedy,Musical,Romance</td>\n",
       "    </tr>\n",
       "    <tr>\n",
       "      <th>46213</th>\n",
       "      <td>tt0047045</td>\n",
       "      <td>movie</td>\n",
       "      <td>La grande avventura</td>\n",
       "      <td>La grande avventura</td>\n",
       "      <td>0</td>\n",
       "      <td>1967</td>\n",
       "      <td>NaN</td>\n",
       "      <td>NaN</td>\n",
       "    </tr>\n",
       "    <tr>\n",
       "      <th>47210</th>\n",
       "      <td>tt0048066</td>\n",
       "      <td>movie</td>\n",
       "      <td>Toro bravo</td>\n",
       "      <td>Toro bravo</td>\n",
       "      <td>0</td>\n",
       "      <td>1960</td>\n",
       "      <td>95</td>\n",
       "      <td>Drama</td>\n",
       "    </tr>\n",
       "    <tr>\n",
       "      <th>47304</th>\n",
       "      <td>tt0048162</td>\n",
       "      <td>movie</td>\n",
       "      <td>Herr Puntila and His Servant Matti</td>\n",
       "      <td>Herr Puntila und sein Knecht Matti</td>\n",
       "      <td>0</td>\n",
       "      <td>1960</td>\n",
       "      <td>97</td>\n",
       "      <td>Comedy,Drama,Musical</td>\n",
       "    </tr>\n",
       "    <tr>\n",
       "      <th>47375</th>\n",
       "      <td>tt0048234</td>\n",
       "      <td>movie</td>\n",
       "      <td>Juicio final</td>\n",
       "      <td>Juicio final</td>\n",
       "      <td>0</td>\n",
       "      <td>1960</td>\n",
       "      <td>78</td>\n",
       "      <td>Drama</td>\n",
       "    </tr>\n",
       "  </tbody>\n",
       "</table>\n",
       "</div>"
      ],
      "text/plain": [
       "          tconst titleType                        primaryTitle  \\\n",
       "15184  tt0015414     movie              La tierra de los toros   \n",
       "15492  tt0015724     movie                       Dama de noche   \n",
       "16662  tt0016906     movie                          Frivolinas   \n",
       "19706  tt0019996     movie                             Hongxia   \n",
       "30909  tt0031458     movie            El huésped del sevillano   \n",
       "34811  tt0035423     movie                      Kate & Leopold   \n",
       "35943  tt0036574     movie                    January 30, 1945   \n",
       "35975  tt0036606     movie         Another Time, Another Place   \n",
       "38019  tt0038687     movie                  Let There Be Light   \n",
       "38767  tt0039442     movie                       Habla, mudita   \n",
       "39284  tt0039965     movie                      Viva Chihuahua   \n",
       "41693  tt0042423     movie               The Dungeon of Harrow   \n",
       "43086  tt0043841     movie            Il naufrago del Pacifico   \n",
       "44149  tt0044932     movie                Murder on the Campus   \n",
       "44351  tt0045136     movie                          Semmelweis   \n",
       "46195  tt0047027     movie               La gitana y el charro   \n",
       "46213  tt0047045     movie                 La grande avventura   \n",
       "47210  tt0048066     movie                          Toro bravo   \n",
       "47304  tt0048162     movie  Herr Puntila and His Servant Matti   \n",
       "47375  tt0048234     movie                        Juicio final   \n",
       "\n",
       "                            originalTitle isAdult  startYear runtimeMinutes  \\\n",
       "15184              La tierra de los toros       0       2000             60   \n",
       "15492                       Dama de noche       0       1993            102   \n",
       "16662                          Frivolinas       0       2014             80   \n",
       "19706                             Hongxia       0       2011             94   \n",
       "30909            El huésped del sevillano       0       1970             86   \n",
       "34811                      Kate & Leopold       0       2001            118   \n",
       "35943                     30. Januar 1945       0       1965            146   \n",
       "35975         Another Time, Another Place       0       1983            118   \n",
       "38019                  Let There Be Light       0       1980             58   \n",
       "38767                       Habla, mudita       0       1973             88   \n",
       "39284                      Viva Chihuahua       0       1961             80   \n",
       "41693               The Dungeon of Harrow       0       1962             86   \n",
       "43086            Il naufrago del Pacifico       0       1962            NaN   \n",
       "44149                   Out of the Shadow       0       1961             61   \n",
       "44351                          Semmelweis       0       1961            105   \n",
       "46195               La gitana y el charro       0       1964             87   \n",
       "46213                 La grande avventura       0       1967            NaN   \n",
       "47210                          Toro bravo       0       1960             95   \n",
       "47304  Herr Puntila und sein Knecht Matti       0       1960             97   \n",
       "47375                        Juicio final       0       1960             78   \n",
       "\n",
       "                       genres  \n",
       "15184                     NaN  \n",
       "15492   Drama,Mystery,Romance  \n",
       "16662          Comedy,Musical  \n",
       "19706                     NaN  \n",
       "30909                  Comedy  \n",
       "34811  Comedy,Fantasy,Romance  \n",
       "35943                     NaN  \n",
       "35975               Drama,War  \n",
       "38019         Documentary,War  \n",
       "38767                   Drama  \n",
       "39284          Comedy,Western  \n",
       "41693                  Horror  \n",
       "43086               Adventure  \n",
       "44149                 Mystery  \n",
       "44351                   Drama  \n",
       "46195  Comedy,Musical,Romance  \n",
       "46213                     NaN  \n",
       "47210                   Drama  \n",
       "47304    Comedy,Drama,Musical  \n",
       "47375                   Drama  "
      ]
     },
     "execution_count": 31,
     "metadata": {},
     "output_type": "execute_result"
    }
   ],
   "source": [
    "df_sin_n_1960_N.head(20)"
   ]
  },
  {
   "cell_type": "markdown",
   "metadata": {},
   "source": [
    "Vemos el procentaje de valores nulos por columna en el dataframe y el tipo de dato de cada columna:"
   ]
  },
  {
   "cell_type": "code",
   "execution_count": 32,
   "metadata": {},
   "outputs": [
    {
     "data": {
      "text/plain": [
       "tconst             0.000000\n",
       "titleType          0.000000\n",
       "primaryTitle       0.000000\n",
       "originalTitle      0.000000\n",
       "isAdult            0.000000\n",
       "startYear          0.000000\n",
       "runtimeMinutes    24.740191\n",
       "genres            10.606758\n",
       "dtype: float64"
      ]
     },
     "execution_count": 32,
     "metadata": {},
     "output_type": "execute_result"
    }
   ],
   "source": [
    "nulos = df_sin_n_1960_N.isnull().sum()/df_sin_n_1960_N.shape[0]*100\n",
    "nulos"
   ]
  },
  {
   "cell_type": "code",
   "execution_count": 33,
   "metadata": {},
   "outputs": [
    {
     "data": {
      "text/plain": [
       "tconst            object\n",
       "titleType         object\n",
       "primaryTitle      object\n",
       "originalTitle     object\n",
       "isAdult           object\n",
       "startYear          int32\n",
       "runtimeMinutes    object\n",
       "genres            object\n",
       "dtype: object"
      ]
     },
     "execution_count": 33,
     "metadata": {},
     "output_type": "execute_result"
    }
   ],
   "source": [
    "df_sin_n_1960_N.dtypes"
   ]
  },
  {
   "cell_type": "markdown",
   "metadata": {},
   "source": [
    "Creamos un nuevo dataframe donde estan solo los valores no nulos y tambien verificamos que haya disminuido el numero de filas:"
   ]
  },
  {
   "cell_type": "code",
   "execution_count": 34,
   "metadata": {},
   "outputs": [
    {
     "name": "stdout",
     "output_type": "stream",
     "text": [
      "(403950, 8)\n",
      "(284922, 8)\n"
     ]
    }
   ],
   "source": [
    "data_filas_completas = df_sin_n_1960_N.dropna()\n",
    "print(df_sin_n_1960_N.shape)\n",
    "print(data_filas_completas.shape)"
   ]
  },
  {
   "cell_type": "code",
   "execution_count": 35,
   "metadata": {},
   "outputs": [
    {
     "data": {
      "text/plain": [
       "tconst            0\n",
       "titleType         0\n",
       "primaryTitle      0\n",
       "originalTitle     0\n",
       "isAdult           0\n",
       "startYear         0\n",
       "runtimeMinutes    0\n",
       "genres            0\n",
       "dtype: int64"
      ]
     },
     "execution_count": 35,
     "metadata": {},
     "output_type": "execute_result"
    }
   ],
   "source": [
    "data_filas_completas.isna().sum()"
   ]
  },
  {
   "cell_type": "markdown",
   "metadata": {},
   "source": [
    "Renombramos este ultimo dataframe y lo llamamos \"title_basics\":"
   ]
  },
  {
   "cell_type": "code",
   "execution_count": 36,
   "metadata": {},
   "outputs": [],
   "source": [
    "title_basics = data_filas_completas"
   ]
  },
  {
   "cell_type": "markdown",
   "metadata": {},
   "source": [
    "Ahora crearemos un indice que utilizaremos mas adelante a partir de la columna \"tconst\" de este dataframe (el ID de cada pelicula):"
   ]
  },
  {
   "cell_type": "code",
   "execution_count": 37,
   "metadata": {},
   "outputs": [],
   "source": [
    "indice = title_basics[\"tconst\"]#Ω"
   ]
  },
  {
   "cell_type": "code",
   "execution_count": 38,
   "metadata": {},
   "outputs": [
    {
     "data": {
      "text/plain": [
       "15492      tt0015724\n",
       "16662      tt0016906\n",
       "30909      tt0031458\n",
       "34811      tt0035423\n",
       "35975      tt0036606\n",
       "             ...    \n",
       "7537816    tt9916362\n",
       "7537901    tt9916538\n",
       "7537942    tt9916622\n",
       "7537969    tt9916680\n",
       "7538003    tt9916754\n",
       "Name: tconst, Length: 284922, dtype: object"
      ]
     },
     "execution_count": 38,
     "metadata": {},
     "output_type": "execute_result"
    }
   ],
   "source": [
    "indice"
   ]
  },
  {
   "cell_type": "markdown",
   "metadata": {},
   "source": [
    "Ahora creamos el dataframe \"ratings\" a partir del dataframe que posee datos sobre el puntaje de cada pelicula, y vemos cuantas columnas y filas tiene:"
   ]
  },
  {
   "cell_type": "code",
   "execution_count": 39,
   "metadata": {},
   "outputs": [
    {
     "data": {
      "text/plain": [
       "(1114606, 3)"
      ]
     },
     "execution_count": 39,
     "metadata": {},
     "output_type": "execute_result"
    }
   ],
   "source": [
    "ratings = data6\n",
    "ratings.shape"
   ]
  },
  {
   "cell_type": "code",
   "execution_count": 40,
   "metadata": {},
   "outputs": [
    {
     "data": {
      "text/html": [
       "<div>\n",
       "<style scoped>\n",
       "    .dataframe tbody tr th:only-of-type {\n",
       "        vertical-align: middle;\n",
       "    }\n",
       "\n",
       "    .dataframe tbody tr th {\n",
       "        vertical-align: top;\n",
       "    }\n",
       "\n",
       "    .dataframe thead th {\n",
       "        text-align: right;\n",
       "    }\n",
       "</style>\n",
       "<table border=\"1\" class=\"dataframe\">\n",
       "  <thead>\n",
       "    <tr style=\"text-align: right;\">\n",
       "      <th></th>\n",
       "      <th>tconst</th>\n",
       "      <th>averageRating</th>\n",
       "      <th>numVotes</th>\n",
       "    </tr>\n",
       "  </thead>\n",
       "  <tbody>\n",
       "    <tr>\n",
       "      <th>0</th>\n",
       "      <td>tt0000001</td>\n",
       "      <td>5.7</td>\n",
       "      <td>1677</td>\n",
       "    </tr>\n",
       "    <tr>\n",
       "      <th>1</th>\n",
       "      <td>tt0000002</td>\n",
       "      <td>6.1</td>\n",
       "      <td>208</td>\n",
       "    </tr>\n",
       "    <tr>\n",
       "      <th>2</th>\n",
       "      <td>tt0000003</td>\n",
       "      <td>6.5</td>\n",
       "      <td>1399</td>\n",
       "    </tr>\n",
       "    <tr>\n",
       "      <th>3</th>\n",
       "      <td>tt0000004</td>\n",
       "      <td>6.2</td>\n",
       "      <td>123</td>\n",
       "    </tr>\n",
       "    <tr>\n",
       "      <th>4</th>\n",
       "      <td>tt0000005</td>\n",
       "      <td>6.2</td>\n",
       "      <td>2196</td>\n",
       "    </tr>\n",
       "    <tr>\n",
       "      <th>5</th>\n",
       "      <td>tt0000006</td>\n",
       "      <td>5.3</td>\n",
       "      <td>120</td>\n",
       "    </tr>\n",
       "    <tr>\n",
       "      <th>6</th>\n",
       "      <td>tt0000007</td>\n",
       "      <td>5.4</td>\n",
       "      <td>671</td>\n",
       "    </tr>\n",
       "    <tr>\n",
       "      <th>7</th>\n",
       "      <td>tt0000008</td>\n",
       "      <td>5.4</td>\n",
       "      <td>1847</td>\n",
       "    </tr>\n",
       "    <tr>\n",
       "      <th>8</th>\n",
       "      <td>tt0000009</td>\n",
       "      <td>6.0</td>\n",
       "      <td>155</td>\n",
       "    </tr>\n",
       "    <tr>\n",
       "      <th>9</th>\n",
       "      <td>tt0000010</td>\n",
       "      <td>6.9</td>\n",
       "      <td>6179</td>\n",
       "    </tr>\n",
       "    <tr>\n",
       "      <th>10</th>\n",
       "      <td>tt0000011</td>\n",
       "      <td>5.2</td>\n",
       "      <td>275</td>\n",
       "    </tr>\n",
       "    <tr>\n",
       "      <th>11</th>\n",
       "      <td>tt0000012</td>\n",
       "      <td>7.4</td>\n",
       "      <td>10598</td>\n",
       "    </tr>\n",
       "    <tr>\n",
       "      <th>12</th>\n",
       "      <td>tt0000013</td>\n",
       "      <td>5.7</td>\n",
       "      <td>1603</td>\n",
       "    </tr>\n",
       "    <tr>\n",
       "      <th>13</th>\n",
       "      <td>tt0000014</td>\n",
       "      <td>7.1</td>\n",
       "      <td>4724</td>\n",
       "    </tr>\n",
       "    <tr>\n",
       "      <th>14</th>\n",
       "      <td>tt0000015</td>\n",
       "      <td>6.1</td>\n",
       "      <td>848</td>\n",
       "    </tr>\n",
       "    <tr>\n",
       "      <th>15</th>\n",
       "      <td>tt0000016</td>\n",
       "      <td>5.9</td>\n",
       "      <td>1225</td>\n",
       "    </tr>\n",
       "    <tr>\n",
       "      <th>16</th>\n",
       "      <td>tt0000017</td>\n",
       "      <td>4.6</td>\n",
       "      <td>248</td>\n",
       "    </tr>\n",
       "    <tr>\n",
       "      <th>17</th>\n",
       "      <td>tt0000018</td>\n",
       "      <td>5.3</td>\n",
       "      <td>492</td>\n",
       "    </tr>\n",
       "    <tr>\n",
       "      <th>18</th>\n",
       "      <td>tt0000019</td>\n",
       "      <td>5.3</td>\n",
       "      <td>19</td>\n",
       "    </tr>\n",
       "    <tr>\n",
       "      <th>19</th>\n",
       "      <td>tt0000020</td>\n",
       "      <td>4.9</td>\n",
       "      <td>276</td>\n",
       "    </tr>\n",
       "  </tbody>\n",
       "</table>\n",
       "</div>"
      ],
      "text/plain": [
       "       tconst  averageRating  numVotes\n",
       "0   tt0000001            5.7      1677\n",
       "1   tt0000002            6.1       208\n",
       "2   tt0000003            6.5      1399\n",
       "3   tt0000004            6.2       123\n",
       "4   tt0000005            6.2      2196\n",
       "5   tt0000006            5.3       120\n",
       "6   tt0000007            5.4       671\n",
       "7   tt0000008            5.4      1847\n",
       "8   tt0000009            6.0       155\n",
       "9   tt0000010            6.9      6179\n",
       "10  tt0000011            5.2       275\n",
       "11  tt0000012            7.4     10598\n",
       "12  tt0000013            5.7      1603\n",
       "13  tt0000014            7.1      4724\n",
       "14  tt0000015            6.1       848\n",
       "15  tt0000016            5.9      1225\n",
       "16  tt0000017            4.6       248\n",
       "17  tt0000018            5.3       492\n",
       "18  tt0000019            5.3        19\n",
       "19  tt0000020            4.9       276"
      ]
     },
     "execution_count": 40,
     "metadata": {},
     "output_type": "execute_result"
    }
   ],
   "source": [
    "ratings.head(20)"
   ]
  },
  {
   "cell_type": "markdown",
   "metadata": {},
   "source": [
    "Creamos un nuevo dataframe \"ratings_indice\" que surge de la combinacion entre \"ratings\" e \"indice\" y donde como maximo solo van a aparecer los ratings de las peliculas que quedaron luego de nuestros filtros anteriores:"
   ]
  },
  {
   "cell_type": "code",
   "execution_count": 41,
   "metadata": {},
   "outputs": [],
   "source": [
    "ratings_indice = pd.merge(ratings, indice, how=\"inner\", on=[\"tconst\"])"
   ]
  },
  {
   "cell_type": "markdown",
   "metadata": {},
   "source": [
    "Vemos el tamaño de este dataframe y lo llamamos:"
   ]
  },
  {
   "cell_type": "code",
   "execution_count": 42,
   "metadata": {},
   "outputs": [
    {
     "data": {
      "text/plain": [
       "(195173, 3)"
      ]
     },
     "execution_count": 42,
     "metadata": {},
     "output_type": "execute_result"
    }
   ],
   "source": [
    "ratings_indice.shape"
   ]
  },
  {
   "cell_type": "code",
   "execution_count": 43,
   "metadata": {},
   "outputs": [
    {
     "data": {
      "text/html": [
       "<div>\n",
       "<style scoped>\n",
       "    .dataframe tbody tr th:only-of-type {\n",
       "        vertical-align: middle;\n",
       "    }\n",
       "\n",
       "    .dataframe tbody tr th {\n",
       "        vertical-align: top;\n",
       "    }\n",
       "\n",
       "    .dataframe thead th {\n",
       "        text-align: right;\n",
       "    }\n",
       "</style>\n",
       "<table border=\"1\" class=\"dataframe\">\n",
       "  <thead>\n",
       "    <tr style=\"text-align: right;\">\n",
       "      <th></th>\n",
       "      <th>tconst</th>\n",
       "      <th>averageRating</th>\n",
       "      <th>numVotes</th>\n",
       "    </tr>\n",
       "  </thead>\n",
       "  <tbody>\n",
       "    <tr>\n",
       "      <th>0</th>\n",
       "      <td>tt0015724</td>\n",
       "      <td>6.2</td>\n",
       "      <td>20</td>\n",
       "    </tr>\n",
       "    <tr>\n",
       "      <th>1</th>\n",
       "      <td>tt0016906</td>\n",
       "      <td>5.6</td>\n",
       "      <td>15</td>\n",
       "    </tr>\n",
       "    <tr>\n",
       "      <th>2</th>\n",
       "      <td>tt0031458</td>\n",
       "      <td>7.1</td>\n",
       "      <td>8</td>\n",
       "    </tr>\n",
       "    <tr>\n",
       "      <th>3</th>\n",
       "      <td>tt0035423</td>\n",
       "      <td>6.4</td>\n",
       "      <td>78892</td>\n",
       "    </tr>\n",
       "    <tr>\n",
       "      <th>4</th>\n",
       "      <td>tt0036606</td>\n",
       "      <td>6.5</td>\n",
       "      <td>258</td>\n",
       "    </tr>\n",
       "    <tr>\n",
       "      <th>...</th>\n",
       "      <td>...</td>\n",
       "      <td>...</td>\n",
       "      <td>...</td>\n",
       "    </tr>\n",
       "    <tr>\n",
       "      <th>195168</th>\n",
       "      <td>tt9916160</td>\n",
       "      <td>6.5</td>\n",
       "      <td>42</td>\n",
       "    </tr>\n",
       "    <tr>\n",
       "      <th>195169</th>\n",
       "      <td>tt9916190</td>\n",
       "      <td>3.2</td>\n",
       "      <td>132</td>\n",
       "    </tr>\n",
       "    <tr>\n",
       "      <th>195170</th>\n",
       "      <td>tt9916270</td>\n",
       "      <td>5.7</td>\n",
       "      <td>836</td>\n",
       "    </tr>\n",
       "    <tr>\n",
       "      <th>195171</th>\n",
       "      <td>tt9916362</td>\n",
       "      <td>5.8</td>\n",
       "      <td>192</td>\n",
       "    </tr>\n",
       "    <tr>\n",
       "      <th>195172</th>\n",
       "      <td>tt9916538</td>\n",
       "      <td>8.4</td>\n",
       "      <td>5</td>\n",
       "    </tr>\n",
       "  </tbody>\n",
       "</table>\n",
       "<p>195173 rows × 3 columns</p>\n",
       "</div>"
      ],
      "text/plain": [
       "           tconst  averageRating  numVotes\n",
       "0       tt0015724            6.2        20\n",
       "1       tt0016906            5.6        15\n",
       "2       tt0031458            7.1         8\n",
       "3       tt0035423            6.4     78892\n",
       "4       tt0036606            6.5       258\n",
       "...           ...            ...       ...\n",
       "195168  tt9916160            6.5        42\n",
       "195169  tt9916190            3.2       132\n",
       "195170  tt9916270            5.7       836\n",
       "195171  tt9916362            5.8       192\n",
       "195172  tt9916538            8.4         5\n",
       "\n",
       "[195173 rows x 3 columns]"
      ]
     },
     "execution_count": 43,
     "metadata": {},
     "output_type": "execute_result"
    }
   ],
   "source": [
    "ratings_indice"
   ]
  },
  {
   "cell_type": "markdown",
   "metadata": {},
   "source": [
    "Ahora vamos a llamar a otros datasets que contienen informacion sobre los directores que trabajaron en las peliculas y datos en detalle acerca de cada una de ellas:"
   ]
  },
  {
   "cell_type": "code",
   "execution_count": 44,
   "metadata": {},
   "outputs": [],
   "source": [
    "crew = data3\n",
    "principals = data5"
   ]
  },
  {
   "cell_type": "code",
   "execution_count": 45,
   "metadata": {},
   "outputs": [
    {
     "data": {
      "text/html": [
       "<div>\n",
       "<style scoped>\n",
       "    .dataframe tbody tr th:only-of-type {\n",
       "        vertical-align: middle;\n",
       "    }\n",
       "\n",
       "    .dataframe tbody tr th {\n",
       "        vertical-align: top;\n",
       "    }\n",
       "\n",
       "    .dataframe thead th {\n",
       "        text-align: right;\n",
       "    }\n",
       "</style>\n",
       "<table border=\"1\" class=\"dataframe\">\n",
       "  <thead>\n",
       "    <tr style=\"text-align: right;\">\n",
       "      <th></th>\n",
       "      <th>tconst</th>\n",
       "      <th>directors</th>\n",
       "      <th>writers</th>\n",
       "    </tr>\n",
       "  </thead>\n",
       "  <tbody>\n",
       "    <tr>\n",
       "      <th>0</th>\n",
       "      <td>tt0000001</td>\n",
       "      <td>nm0005690</td>\n",
       "      <td>\\N</td>\n",
       "    </tr>\n",
       "    <tr>\n",
       "      <th>1</th>\n",
       "      <td>tt0000002</td>\n",
       "      <td>nm0721526</td>\n",
       "      <td>\\N</td>\n",
       "    </tr>\n",
       "    <tr>\n",
       "      <th>2</th>\n",
       "      <td>tt0000003</td>\n",
       "      <td>nm0721526</td>\n",
       "      <td>\\N</td>\n",
       "    </tr>\n",
       "    <tr>\n",
       "      <th>3</th>\n",
       "      <td>tt0000004</td>\n",
       "      <td>nm0721526</td>\n",
       "      <td>\\N</td>\n",
       "    </tr>\n",
       "    <tr>\n",
       "      <th>4</th>\n",
       "      <td>tt0000005</td>\n",
       "      <td>nm0005690</td>\n",
       "      <td>\\N</td>\n",
       "    </tr>\n",
       "  </tbody>\n",
       "</table>\n",
       "</div>"
      ],
      "text/plain": [
       "      tconst  directors writers\n",
       "0  tt0000001  nm0005690      \\N\n",
       "1  tt0000002  nm0721526      \\N\n",
       "2  tt0000003  nm0721526      \\N\n",
       "3  tt0000004  nm0721526      \\N\n",
       "4  tt0000005  nm0005690      \\N"
      ]
     },
     "execution_count": 45,
     "metadata": {},
     "output_type": "execute_result"
    }
   ],
   "source": [
    "crew.head()"
   ]
  },
  {
   "cell_type": "code",
   "execution_count": 46,
   "metadata": {},
   "outputs": [
    {
     "data": {
      "text/html": [
       "<div>\n",
       "<style scoped>\n",
       "    .dataframe tbody tr th:only-of-type {\n",
       "        vertical-align: middle;\n",
       "    }\n",
       "\n",
       "    .dataframe tbody tr th {\n",
       "        vertical-align: top;\n",
       "    }\n",
       "\n",
       "    .dataframe thead th {\n",
       "        text-align: right;\n",
       "    }\n",
       "</style>\n",
       "<table border=\"1\" class=\"dataframe\">\n",
       "  <thead>\n",
       "    <tr style=\"text-align: right;\">\n",
       "      <th></th>\n",
       "      <th>tconst</th>\n",
       "      <th>ordering</th>\n",
       "      <th>nconst</th>\n",
       "      <th>category</th>\n",
       "      <th>job</th>\n",
       "      <th>characters</th>\n",
       "    </tr>\n",
       "  </thead>\n",
       "  <tbody>\n",
       "    <tr>\n",
       "      <th>0</th>\n",
       "      <td>tt0000001</td>\n",
       "      <td>1</td>\n",
       "      <td>nm1588970</td>\n",
       "      <td>self</td>\n",
       "      <td>\\N</td>\n",
       "      <td>[\"Self\"]</td>\n",
       "    </tr>\n",
       "    <tr>\n",
       "      <th>1</th>\n",
       "      <td>tt0000001</td>\n",
       "      <td>2</td>\n",
       "      <td>nm0005690</td>\n",
       "      <td>director</td>\n",
       "      <td>\\N</td>\n",
       "      <td>\\N</td>\n",
       "    </tr>\n",
       "    <tr>\n",
       "      <th>2</th>\n",
       "      <td>tt0000001</td>\n",
       "      <td>3</td>\n",
       "      <td>nm0374658</td>\n",
       "      <td>cinematographer</td>\n",
       "      <td>director of photography</td>\n",
       "      <td>\\N</td>\n",
       "    </tr>\n",
       "    <tr>\n",
       "      <th>3</th>\n",
       "      <td>tt0000002</td>\n",
       "      <td>1</td>\n",
       "      <td>nm0721526</td>\n",
       "      <td>director</td>\n",
       "      <td>\\N</td>\n",
       "      <td>\\N</td>\n",
       "    </tr>\n",
       "    <tr>\n",
       "      <th>4</th>\n",
       "      <td>tt0000002</td>\n",
       "      <td>2</td>\n",
       "      <td>nm1335271</td>\n",
       "      <td>composer</td>\n",
       "      <td>\\N</td>\n",
       "      <td>\\N</td>\n",
       "    </tr>\n",
       "  </tbody>\n",
       "</table>\n",
       "</div>"
      ],
      "text/plain": [
       "      tconst  ordering     nconst         category                      job  \\\n",
       "0  tt0000001         1  nm1588970             self                       \\N   \n",
       "1  tt0000001         2  nm0005690         director                       \\N   \n",
       "2  tt0000001         3  nm0374658  cinematographer  director of photography   \n",
       "3  tt0000002         1  nm0721526         director                       \\N   \n",
       "4  tt0000002         2  nm1335271         composer                       \\N   \n",
       "\n",
       "  characters  \n",
       "0   [\"Self\"]  \n",
       "1         \\N  \n",
       "2         \\N  \n",
       "3         \\N  \n",
       "4         \\N  "
      ]
     },
     "execution_count": 46,
     "metadata": {},
     "output_type": "execute_result"
    }
   ],
   "source": [
    "principals.head()"
   ]
  },
  {
   "cell_type": "markdown",
   "metadata": {},
   "source": [
    "Vemos cuales son los valores de la columna \"category\" en dataset sobre las peliculas:"
   ]
  },
  {
   "cell_type": "code",
   "execution_count": 47,
   "metadata": {},
   "outputs": [
    {
     "data": {
      "text/plain": [
       "actor                  9759180\n",
       "self                   7451693\n",
       "actress                7324717\n",
       "writer                 5612259\n",
       "director               4901865\n",
       "producer               2615884\n",
       "cinematographer        1520513\n",
       "composer               1506136\n",
       "editor                 1425812\n",
       "production_designer     309368\n",
       "archive_footage         259868\n",
       "archive_sound             2746\n",
       "Name: category, dtype: int64"
      ]
     },
     "execution_count": 47,
     "metadata": {},
     "output_type": "execute_result"
    }
   ],
   "source": [
    "principals[\"category\"].value_counts()"
   ]
  },
  {
   "cell_type": "markdown",
   "metadata": {},
   "source": [
    "Teniendo en cuenta la importancia de la direccion en las peliculas y dado el gran numero de actores y actrices en el reparto, solo propondremos trabajar con los directores de cada pelicula. Para eso vamos a crear una mascara y la vamos a aplicar:"
   ]
  },
  {
   "cell_type": "code",
   "execution_count": 48,
   "metadata": {},
   "outputs": [],
   "source": [
    "directores_mask = (principals[\"category\"] == \"director\")\n",
    "staff = principals[directores_mask]"
   ]
  },
  {
   "cell_type": "markdown",
   "metadata": {},
   "source": [
    "Verificamos que el numero de filas haya disminuido:"
   ]
  },
  {
   "cell_type": "code",
   "execution_count": 49,
   "metadata": {},
   "outputs": [
    {
     "name": "stdout",
     "output_type": "stream",
     "text": [
      "(42690041, 6)\n",
      "(4901865, 6)\n"
     ]
    }
   ],
   "source": [
    "print(principals.shape)\n",
    "print(staff.shape)"
   ]
  },
  {
   "cell_type": "markdown",
   "metadata": {},
   "source": [
    "Creamos un nuevo dataframe \"staff_indice\" que surge de la combinacion entre \"staff\" e \"indice\":"
   ]
  },
  {
   "cell_type": "code",
   "execution_count": 50,
   "metadata": {},
   "outputs": [],
   "source": [
    "staff_indice = pd.merge(staff, indice, how=\"inner\", on=[\"tconst\"])"
   ]
  },
  {
   "cell_type": "markdown",
   "metadata": {},
   "source": [
    "Como hay columnas que no aportan informacion util y/o tienen NaN's vamos a eliminarlas y volveremos a llamar al dataframe:"
   ]
  },
  {
   "cell_type": "code",
   "execution_count": 51,
   "metadata": {},
   "outputs": [],
   "source": [
    "staff_indice = staff_indice.drop(columns=[\"job\",\"characters\",\"ordering\"])"
   ]
  },
  {
   "cell_type": "code",
   "execution_count": 52,
   "metadata": {},
   "outputs": [
    {
     "data": {
      "text/plain": [
       "(292176, 3)"
      ]
     },
     "execution_count": 52,
     "metadata": {},
     "output_type": "execute_result"
    }
   ],
   "source": [
    "staff_indice.shape"
   ]
  },
  {
   "cell_type": "code",
   "execution_count": 53,
   "metadata": {},
   "outputs": [
    {
     "data": {
      "text/html": [
       "<div>\n",
       "<style scoped>\n",
       "    .dataframe tbody tr th:only-of-type {\n",
       "        vertical-align: middle;\n",
       "    }\n",
       "\n",
       "    .dataframe tbody tr th {\n",
       "        vertical-align: top;\n",
       "    }\n",
       "\n",
       "    .dataframe thead th {\n",
       "        text-align: right;\n",
       "    }\n",
       "</style>\n",
       "<table border=\"1\" class=\"dataframe\">\n",
       "  <thead>\n",
       "    <tr style=\"text-align: right;\">\n",
       "      <th></th>\n",
       "      <th>tconst</th>\n",
       "      <th>nconst</th>\n",
       "      <th>category</th>\n",
       "    </tr>\n",
       "  </thead>\n",
       "  <tbody>\n",
       "    <tr>\n",
       "      <th>0</th>\n",
       "      <td>tt0015724</td>\n",
       "      <td>nm0529960</td>\n",
       "      <td>director</td>\n",
       "    </tr>\n",
       "    <tr>\n",
       "      <th>1</th>\n",
       "      <td>tt0016906</td>\n",
       "      <td>nm0136068</td>\n",
       "      <td>director</td>\n",
       "    </tr>\n",
       "    <tr>\n",
       "      <th>2</th>\n",
       "      <td>tt0031458</td>\n",
       "      <td>nm0649563</td>\n",
       "      <td>director</td>\n",
       "    </tr>\n",
       "    <tr>\n",
       "      <th>3</th>\n",
       "      <td>tt0035423</td>\n",
       "      <td>nm0003506</td>\n",
       "      <td>director</td>\n",
       "    </tr>\n",
       "    <tr>\n",
       "      <th>4</th>\n",
       "      <td>tt0036606</td>\n",
       "      <td>nm0705535</td>\n",
       "      <td>director</td>\n",
       "    </tr>\n",
       "  </tbody>\n",
       "</table>\n",
       "</div>"
      ],
      "text/plain": [
       "      tconst     nconst  category\n",
       "0  tt0015724  nm0529960  director\n",
       "1  tt0016906  nm0136068  director\n",
       "2  tt0031458  nm0649563  director\n",
       "3  tt0035423  nm0003506  director\n",
       "4  tt0036606  nm0705535  director"
      ]
     },
     "execution_count": 53,
     "metadata": {},
     "output_type": "execute_result"
    }
   ],
   "source": [
    "staff_indice.head()"
   ]
  },
  {
   "cell_type": "markdown",
   "metadata": {},
   "source": [
    "Ahora hacemos un merge entre el dataframe que habiamos creado inicialmente \"title_basics\", y \"ratings_indice\":"
   ]
  },
  {
   "cell_type": "code",
   "execution_count": 54,
   "metadata": {},
   "outputs": [],
   "source": [
    "title_ratings = pd.merge(title_basics, ratings_indice, on='tconst')\n"
   ]
  },
  {
   "cell_type": "markdown",
   "metadata": {},
   "source": [
    "Verificamos que el rating aparezca en este nuevo dataframe:"
   ]
  },
  {
   "cell_type": "code",
   "execution_count": 55,
   "metadata": {},
   "outputs": [
    {
     "data": {
      "text/html": [
       "<div>\n",
       "<style scoped>\n",
       "    .dataframe tbody tr th:only-of-type {\n",
       "        vertical-align: middle;\n",
       "    }\n",
       "\n",
       "    .dataframe tbody tr th {\n",
       "        vertical-align: top;\n",
       "    }\n",
       "\n",
       "    .dataframe thead th {\n",
       "        text-align: right;\n",
       "    }\n",
       "</style>\n",
       "<table border=\"1\" class=\"dataframe\">\n",
       "  <thead>\n",
       "    <tr style=\"text-align: right;\">\n",
       "      <th></th>\n",
       "      <th>tconst</th>\n",
       "      <th>titleType</th>\n",
       "      <th>primaryTitle</th>\n",
       "      <th>originalTitle</th>\n",
       "      <th>isAdult</th>\n",
       "      <th>startYear</th>\n",
       "      <th>runtimeMinutes</th>\n",
       "      <th>genres</th>\n",
       "      <th>averageRating</th>\n",
       "      <th>numVotes</th>\n",
       "    </tr>\n",
       "  </thead>\n",
       "  <tbody>\n",
       "    <tr>\n",
       "      <th>0</th>\n",
       "      <td>tt0015724</td>\n",
       "      <td>movie</td>\n",
       "      <td>Dama de noche</td>\n",
       "      <td>Dama de noche</td>\n",
       "      <td>0</td>\n",
       "      <td>1993</td>\n",
       "      <td>102</td>\n",
       "      <td>Drama,Mystery,Romance</td>\n",
       "      <td>6.2</td>\n",
       "      <td>20</td>\n",
       "    </tr>\n",
       "    <tr>\n",
       "      <th>1</th>\n",
       "      <td>tt0016906</td>\n",
       "      <td>movie</td>\n",
       "      <td>Frivolinas</td>\n",
       "      <td>Frivolinas</td>\n",
       "      <td>0</td>\n",
       "      <td>2014</td>\n",
       "      <td>80</td>\n",
       "      <td>Comedy,Musical</td>\n",
       "      <td>5.6</td>\n",
       "      <td>15</td>\n",
       "    </tr>\n",
       "    <tr>\n",
       "      <th>2</th>\n",
       "      <td>tt0031458</td>\n",
       "      <td>movie</td>\n",
       "      <td>El huésped del sevillano</td>\n",
       "      <td>El huésped del sevillano</td>\n",
       "      <td>0</td>\n",
       "      <td>1970</td>\n",
       "      <td>86</td>\n",
       "      <td>Comedy</td>\n",
       "      <td>7.1</td>\n",
       "      <td>8</td>\n",
       "    </tr>\n",
       "    <tr>\n",
       "      <th>3</th>\n",
       "      <td>tt0035423</td>\n",
       "      <td>movie</td>\n",
       "      <td>Kate &amp; Leopold</td>\n",
       "      <td>Kate &amp; Leopold</td>\n",
       "      <td>0</td>\n",
       "      <td>2001</td>\n",
       "      <td>118</td>\n",
       "      <td>Comedy,Fantasy,Romance</td>\n",
       "      <td>6.4</td>\n",
       "      <td>78892</td>\n",
       "    </tr>\n",
       "    <tr>\n",
       "      <th>4</th>\n",
       "      <td>tt0036606</td>\n",
       "      <td>movie</td>\n",
       "      <td>Another Time, Another Place</td>\n",
       "      <td>Another Time, Another Place</td>\n",
       "      <td>0</td>\n",
       "      <td>1983</td>\n",
       "      <td>118</td>\n",
       "      <td>Drama,War</td>\n",
       "      <td>6.5</td>\n",
       "      <td>258</td>\n",
       "    </tr>\n",
       "    <tr>\n",
       "      <th>...</th>\n",
       "      <td>...</td>\n",
       "      <td>...</td>\n",
       "      <td>...</td>\n",
       "      <td>...</td>\n",
       "      <td>...</td>\n",
       "      <td>...</td>\n",
       "      <td>...</td>\n",
       "      <td>...</td>\n",
       "      <td>...</td>\n",
       "      <td>...</td>\n",
       "    </tr>\n",
       "    <tr>\n",
       "      <th>195168</th>\n",
       "      <td>tt9916160</td>\n",
       "      <td>movie</td>\n",
       "      <td>Drømmeland</td>\n",
       "      <td>Drømmeland</td>\n",
       "      <td>0</td>\n",
       "      <td>2019</td>\n",
       "      <td>72</td>\n",
       "      <td>Documentary</td>\n",
       "      <td>6.5</td>\n",
       "      <td>42</td>\n",
       "    </tr>\n",
       "    <tr>\n",
       "      <th>195169</th>\n",
       "      <td>tt9916190</td>\n",
       "      <td>movie</td>\n",
       "      <td>Safeguard</td>\n",
       "      <td>Safeguard</td>\n",
       "      <td>0</td>\n",
       "      <td>2020</td>\n",
       "      <td>90</td>\n",
       "      <td>Action,Adventure,Thriller</td>\n",
       "      <td>3.2</td>\n",
       "      <td>132</td>\n",
       "    </tr>\n",
       "    <tr>\n",
       "      <th>195170</th>\n",
       "      <td>tt9916270</td>\n",
       "      <td>movie</td>\n",
       "      <td>Il talento del calabrone</td>\n",
       "      <td>Il talento del calabrone</td>\n",
       "      <td>0</td>\n",
       "      <td>2020</td>\n",
       "      <td>84</td>\n",
       "      <td>Thriller</td>\n",
       "      <td>5.7</td>\n",
       "      <td>836</td>\n",
       "    </tr>\n",
       "    <tr>\n",
       "      <th>195171</th>\n",
       "      <td>tt9916362</td>\n",
       "      <td>movie</td>\n",
       "      <td>Coven</td>\n",
       "      <td>Akelarre</td>\n",
       "      <td>0</td>\n",
       "      <td>2020</td>\n",
       "      <td>90</td>\n",
       "      <td>Action,Adventure,Drama</td>\n",
       "      <td>5.8</td>\n",
       "      <td>192</td>\n",
       "    </tr>\n",
       "    <tr>\n",
       "      <th>195172</th>\n",
       "      <td>tt9916538</td>\n",
       "      <td>movie</td>\n",
       "      <td>Kuambil Lagi Hatiku</td>\n",
       "      <td>Kuambil Lagi Hatiku</td>\n",
       "      <td>0</td>\n",
       "      <td>2019</td>\n",
       "      <td>123</td>\n",
       "      <td>Drama</td>\n",
       "      <td>8.4</td>\n",
       "      <td>5</td>\n",
       "    </tr>\n",
       "  </tbody>\n",
       "</table>\n",
       "<p>195173 rows × 10 columns</p>\n",
       "</div>"
      ],
      "text/plain": [
       "           tconst titleType                 primaryTitle  \\\n",
       "0       tt0015724     movie                Dama de noche   \n",
       "1       tt0016906     movie                   Frivolinas   \n",
       "2       tt0031458     movie     El huésped del sevillano   \n",
       "3       tt0035423     movie               Kate & Leopold   \n",
       "4       tt0036606     movie  Another Time, Another Place   \n",
       "...           ...       ...                          ...   \n",
       "195168  tt9916160     movie                   Drømmeland   \n",
       "195169  tt9916190     movie                    Safeguard   \n",
       "195170  tt9916270     movie     Il talento del calabrone   \n",
       "195171  tt9916362     movie                        Coven   \n",
       "195172  tt9916538     movie          Kuambil Lagi Hatiku   \n",
       "\n",
       "                      originalTitle isAdult  startYear runtimeMinutes  \\\n",
       "0                     Dama de noche       0       1993            102   \n",
       "1                        Frivolinas       0       2014             80   \n",
       "2          El huésped del sevillano       0       1970             86   \n",
       "3                    Kate & Leopold       0       2001            118   \n",
       "4       Another Time, Another Place       0       1983            118   \n",
       "...                             ...     ...        ...            ...   \n",
       "195168                   Drømmeland       0       2019             72   \n",
       "195169                    Safeguard       0       2020             90   \n",
       "195170     Il talento del calabrone       0       2020             84   \n",
       "195171                     Akelarre       0       2020             90   \n",
       "195172          Kuambil Lagi Hatiku       0       2019            123   \n",
       "\n",
       "                           genres  averageRating  numVotes  \n",
       "0           Drama,Mystery,Romance            6.2        20  \n",
       "1                  Comedy,Musical            5.6        15  \n",
       "2                          Comedy            7.1         8  \n",
       "3          Comedy,Fantasy,Romance            6.4     78892  \n",
       "4                       Drama,War            6.5       258  \n",
       "...                           ...            ...       ...  \n",
       "195168                Documentary            6.5        42  \n",
       "195169  Action,Adventure,Thriller            3.2       132  \n",
       "195170                   Thriller            5.7       836  \n",
       "195171     Action,Adventure,Drama            5.8       192  \n",
       "195172                      Drama            8.4         5  \n",
       "\n",
       "[195173 rows x 10 columns]"
      ]
     },
     "execution_count": 55,
     "metadata": {},
     "output_type": "execute_result"
    }
   ],
   "source": [
    "title_ratings"
   ]
  },
  {
   "cell_type": "markdown",
   "metadata": {},
   "source": [
    "Ahora dropeamos la columna 'category':"
   ]
  },
  {
   "cell_type": "code",
   "execution_count": 56,
   "metadata": {},
   "outputs": [],
   "source": [
    "staff_sinc = staff_indice.drop(['category'], axis=1)"
   ]
  },
  {
   "cell_type": "code",
   "execution_count": 57,
   "metadata": {},
   "outputs": [
    {
     "data": {
      "text/html": [
       "<div>\n",
       "<style scoped>\n",
       "    .dataframe tbody tr th:only-of-type {\n",
       "        vertical-align: middle;\n",
       "    }\n",
       "\n",
       "    .dataframe tbody tr th {\n",
       "        vertical-align: top;\n",
       "    }\n",
       "\n",
       "    .dataframe thead th {\n",
       "        text-align: right;\n",
       "    }\n",
       "</style>\n",
       "<table border=\"1\" class=\"dataframe\">\n",
       "  <thead>\n",
       "    <tr style=\"text-align: right;\">\n",
       "      <th></th>\n",
       "      <th>tconst</th>\n",
       "      <th>nconst</th>\n",
       "    </tr>\n",
       "  </thead>\n",
       "  <tbody>\n",
       "    <tr>\n",
       "      <th>0</th>\n",
       "      <td>tt0015724</td>\n",
       "      <td>nm0529960</td>\n",
       "    </tr>\n",
       "    <tr>\n",
       "      <th>1</th>\n",
       "      <td>tt0016906</td>\n",
       "      <td>nm0136068</td>\n",
       "    </tr>\n",
       "    <tr>\n",
       "      <th>2</th>\n",
       "      <td>tt0031458</td>\n",
       "      <td>nm0649563</td>\n",
       "    </tr>\n",
       "    <tr>\n",
       "      <th>3</th>\n",
       "      <td>tt0035423</td>\n",
       "      <td>nm0003506</td>\n",
       "    </tr>\n",
       "    <tr>\n",
       "      <th>4</th>\n",
       "      <td>tt0036606</td>\n",
       "      <td>nm0705535</td>\n",
       "    </tr>\n",
       "    <tr>\n",
       "      <th>...</th>\n",
       "      <td>...</td>\n",
       "      <td>...</td>\n",
       "    </tr>\n",
       "    <tr>\n",
       "      <th>292171</th>\n",
       "      <td>tt9916622</td>\n",
       "      <td>nm9272490</td>\n",
       "    </tr>\n",
       "    <tr>\n",
       "      <th>292172</th>\n",
       "      <td>tt9916622</td>\n",
       "      <td>nm9272491</td>\n",
       "    </tr>\n",
       "    <tr>\n",
       "      <th>292173</th>\n",
       "      <td>tt9916680</td>\n",
       "      <td>nm0652213</td>\n",
       "    </tr>\n",
       "    <tr>\n",
       "      <th>292174</th>\n",
       "      <td>tt9916754</td>\n",
       "      <td>nm9272490</td>\n",
       "    </tr>\n",
       "    <tr>\n",
       "      <th>292175</th>\n",
       "      <td>tt9916754</td>\n",
       "      <td>nm8349149</td>\n",
       "    </tr>\n",
       "  </tbody>\n",
       "</table>\n",
       "<p>292176 rows × 2 columns</p>\n",
       "</div>"
      ],
      "text/plain": [
       "           tconst     nconst\n",
       "0       tt0015724  nm0529960\n",
       "1       tt0016906  nm0136068\n",
       "2       tt0031458  nm0649563\n",
       "3       tt0035423  nm0003506\n",
       "4       tt0036606  nm0705535\n",
       "...           ...        ...\n",
       "292171  tt9916622  nm9272490\n",
       "292172  tt9916622  nm9272491\n",
       "292173  tt9916680  nm0652213\n",
       "292174  tt9916754  nm9272490\n",
       "292175  tt9916754  nm8349149\n",
       "\n",
       "[292176 rows x 2 columns]"
      ]
     },
     "execution_count": 57,
     "metadata": {},
     "output_type": "execute_result"
    }
   ],
   "source": [
    "staff_sinc"
   ]
  },
  {
   "cell_type": "code",
   "execution_count": 58,
   "metadata": {},
   "outputs": [],
   "source": [
    "mask_staff_sind = staff_sinc['tconst'].drop_duplicates(keep= \"first\")\n"
   ]
  },
  {
   "cell_type": "code",
   "execution_count": 59,
   "metadata": {},
   "outputs": [
    {
     "data": {
      "text/plain": [
       "0         tt0015724\n",
       "1         tt0016906\n",
       "2         tt0031458\n",
       "3         tt0035423\n",
       "4         tt0036606\n",
       "            ...    \n",
       "292169    tt9916362\n",
       "292170    tt9916538\n",
       "292171    tt9916622\n",
       "292173    tt9916680\n",
       "292174    tt9916754\n",
       "Name: tconst, Length: 260477, dtype: object"
      ]
     },
     "execution_count": 59,
     "metadata": {},
     "output_type": "execute_result"
    }
   ],
   "source": [
    "mask_staff_sind"
   ]
  },
  {
   "cell_type": "code",
   "execution_count": 60,
   "metadata": {},
   "outputs": [],
   "source": []
  },
  {
   "cell_type": "markdown",
   "metadata": {},
   "source": [
    "Ahora realizamos un merge entre los dataframes staff_sinc y title_ratings a partir de 'tconst':"
   ]
  },
  {
   "cell_type": "code",
   "execution_count": 61,
   "metadata": {},
   "outputs": [
    {
     "data": {
      "text/html": [
       "<div>\n",
       "<style scoped>\n",
       "    .dataframe tbody tr th:only-of-type {\n",
       "        vertical-align: middle;\n",
       "    }\n",
       "\n",
       "    .dataframe tbody tr th {\n",
       "        vertical-align: top;\n",
       "    }\n",
       "\n",
       "    .dataframe thead th {\n",
       "        text-align: right;\n",
       "    }\n",
       "</style>\n",
       "<table border=\"1\" class=\"dataframe\">\n",
       "  <thead>\n",
       "    <tr style=\"text-align: right;\">\n",
       "      <th></th>\n",
       "      <th>tconst</th>\n",
       "      <th>titleType</th>\n",
       "      <th>primaryTitle</th>\n",
       "      <th>originalTitle</th>\n",
       "      <th>isAdult</th>\n",
       "      <th>startYear</th>\n",
       "      <th>runtimeMinutes</th>\n",
       "      <th>genres</th>\n",
       "      <th>averageRating</th>\n",
       "      <th>numVotes</th>\n",
       "      <th>nconst</th>\n",
       "    </tr>\n",
       "  </thead>\n",
       "  <tbody>\n",
       "    <tr>\n",
       "      <th>0</th>\n",
       "      <td>tt0015724</td>\n",
       "      <td>movie</td>\n",
       "      <td>Dama de noche</td>\n",
       "      <td>Dama de noche</td>\n",
       "      <td>0</td>\n",
       "      <td>1993</td>\n",
       "      <td>102</td>\n",
       "      <td>Drama,Mystery,Romance</td>\n",
       "      <td>6.2</td>\n",
       "      <td>20</td>\n",
       "      <td>nm0529960</td>\n",
       "    </tr>\n",
       "    <tr>\n",
       "      <th>1</th>\n",
       "      <td>tt0016906</td>\n",
       "      <td>movie</td>\n",
       "      <td>Frivolinas</td>\n",
       "      <td>Frivolinas</td>\n",
       "      <td>0</td>\n",
       "      <td>2014</td>\n",
       "      <td>80</td>\n",
       "      <td>Comedy,Musical</td>\n",
       "      <td>5.6</td>\n",
       "      <td>15</td>\n",
       "      <td>nm0136068</td>\n",
       "    </tr>\n",
       "    <tr>\n",
       "      <th>2</th>\n",
       "      <td>tt0031458</td>\n",
       "      <td>movie</td>\n",
       "      <td>El huésped del sevillano</td>\n",
       "      <td>El huésped del sevillano</td>\n",
       "      <td>0</td>\n",
       "      <td>1970</td>\n",
       "      <td>86</td>\n",
       "      <td>Comedy</td>\n",
       "      <td>7.1</td>\n",
       "      <td>8</td>\n",
       "      <td>nm0649563</td>\n",
       "    </tr>\n",
       "    <tr>\n",
       "      <th>3</th>\n",
       "      <td>tt0035423</td>\n",
       "      <td>movie</td>\n",
       "      <td>Kate &amp; Leopold</td>\n",
       "      <td>Kate &amp; Leopold</td>\n",
       "      <td>0</td>\n",
       "      <td>2001</td>\n",
       "      <td>118</td>\n",
       "      <td>Comedy,Fantasy,Romance</td>\n",
       "      <td>6.4</td>\n",
       "      <td>78892</td>\n",
       "      <td>nm0003506</td>\n",
       "    </tr>\n",
       "    <tr>\n",
       "      <th>4</th>\n",
       "      <td>tt0036606</td>\n",
       "      <td>movie</td>\n",
       "      <td>Another Time, Another Place</td>\n",
       "      <td>Another Time, Another Place</td>\n",
       "      <td>0</td>\n",
       "      <td>1983</td>\n",
       "      <td>118</td>\n",
       "      <td>Drama,War</td>\n",
       "      <td>6.5</td>\n",
       "      <td>258</td>\n",
       "      <td>nm0705535</td>\n",
       "    </tr>\n",
       "    <tr>\n",
       "      <th>...</th>\n",
       "      <td>...</td>\n",
       "      <td>...</td>\n",
       "      <td>...</td>\n",
       "      <td>...</td>\n",
       "      <td>...</td>\n",
       "      <td>...</td>\n",
       "      <td>...</td>\n",
       "      <td>...</td>\n",
       "      <td>...</td>\n",
       "      <td>...</td>\n",
       "      <td>...</td>\n",
       "    </tr>\n",
       "    <tr>\n",
       "      <th>203348</th>\n",
       "      <td>tt9916160</td>\n",
       "      <td>movie</td>\n",
       "      <td>Drømmeland</td>\n",
       "      <td>Drømmeland</td>\n",
       "      <td>0</td>\n",
       "      <td>2019</td>\n",
       "      <td>72</td>\n",
       "      <td>Documentary</td>\n",
       "      <td>6.5</td>\n",
       "      <td>42</td>\n",
       "      <td>nm5684093</td>\n",
       "    </tr>\n",
       "    <tr>\n",
       "      <th>203349</th>\n",
       "      <td>tt9916190</td>\n",
       "      <td>movie</td>\n",
       "      <td>Safeguard</td>\n",
       "      <td>Safeguard</td>\n",
       "      <td>0</td>\n",
       "      <td>2020</td>\n",
       "      <td>90</td>\n",
       "      <td>Action,Adventure,Thriller</td>\n",
       "      <td>3.2</td>\n",
       "      <td>132</td>\n",
       "      <td>nm7308376</td>\n",
       "    </tr>\n",
       "    <tr>\n",
       "      <th>203350</th>\n",
       "      <td>tt9916270</td>\n",
       "      <td>movie</td>\n",
       "      <td>Il talento del calabrone</td>\n",
       "      <td>Il talento del calabrone</td>\n",
       "      <td>0</td>\n",
       "      <td>2020</td>\n",
       "      <td>84</td>\n",
       "      <td>Thriller</td>\n",
       "      <td>5.7</td>\n",
       "      <td>836</td>\n",
       "      <td>nm1480867</td>\n",
       "    </tr>\n",
       "    <tr>\n",
       "      <th>203351</th>\n",
       "      <td>tt9916362</td>\n",
       "      <td>movie</td>\n",
       "      <td>Coven</td>\n",
       "      <td>Akelarre</td>\n",
       "      <td>0</td>\n",
       "      <td>2020</td>\n",
       "      <td>90</td>\n",
       "      <td>Action,Adventure,Drama</td>\n",
       "      <td>5.8</td>\n",
       "      <td>192</td>\n",
       "      <td>nm1893148</td>\n",
       "    </tr>\n",
       "    <tr>\n",
       "      <th>203352</th>\n",
       "      <td>tt9916538</td>\n",
       "      <td>movie</td>\n",
       "      <td>Kuambil Lagi Hatiku</td>\n",
       "      <td>Kuambil Lagi Hatiku</td>\n",
       "      <td>0</td>\n",
       "      <td>2019</td>\n",
       "      <td>123</td>\n",
       "      <td>Drama</td>\n",
       "      <td>8.4</td>\n",
       "      <td>5</td>\n",
       "      <td>nm4457074</td>\n",
       "    </tr>\n",
       "  </tbody>\n",
       "</table>\n",
       "<p>203353 rows × 11 columns</p>\n",
       "</div>"
      ],
      "text/plain": [
       "           tconst titleType                 primaryTitle  \\\n",
       "0       tt0015724     movie                Dama de noche   \n",
       "1       tt0016906     movie                   Frivolinas   \n",
       "2       tt0031458     movie     El huésped del sevillano   \n",
       "3       tt0035423     movie               Kate & Leopold   \n",
       "4       tt0036606     movie  Another Time, Another Place   \n",
       "...           ...       ...                          ...   \n",
       "203348  tt9916160     movie                   Drømmeland   \n",
       "203349  tt9916190     movie                    Safeguard   \n",
       "203350  tt9916270     movie     Il talento del calabrone   \n",
       "203351  tt9916362     movie                        Coven   \n",
       "203352  tt9916538     movie          Kuambil Lagi Hatiku   \n",
       "\n",
       "                      originalTitle isAdult  startYear runtimeMinutes  \\\n",
       "0                     Dama de noche       0       1993            102   \n",
       "1                        Frivolinas       0       2014             80   \n",
       "2          El huésped del sevillano       0       1970             86   \n",
       "3                    Kate & Leopold       0       2001            118   \n",
       "4       Another Time, Another Place       0       1983            118   \n",
       "...                             ...     ...        ...            ...   \n",
       "203348                   Drømmeland       0       2019             72   \n",
       "203349                    Safeguard       0       2020             90   \n",
       "203350     Il talento del calabrone       0       2020             84   \n",
       "203351                     Akelarre       0       2020             90   \n",
       "203352          Kuambil Lagi Hatiku       0       2019            123   \n",
       "\n",
       "                           genres  averageRating  numVotes     nconst  \n",
       "0           Drama,Mystery,Romance            6.2        20  nm0529960  \n",
       "1                  Comedy,Musical            5.6        15  nm0136068  \n",
       "2                          Comedy            7.1         8  nm0649563  \n",
       "3          Comedy,Fantasy,Romance            6.4     78892  nm0003506  \n",
       "4                       Drama,War            6.5       258  nm0705535  \n",
       "...                           ...            ...       ...        ...  \n",
       "203348                Documentary            6.5        42  nm5684093  \n",
       "203349  Action,Adventure,Thriller            3.2       132  nm7308376  \n",
       "203350                   Thriller            5.7       836  nm1480867  \n",
       "203351     Action,Adventure,Drama            5.8       192  nm1893148  \n",
       "203352                      Drama            8.4         5  nm4457074  \n",
       "\n",
       "[203353 rows x 11 columns]"
      ]
     },
     "execution_count": 61,
     "metadata": {},
     "output_type": "execute_result"
    }
   ],
   "source": [
    "imdb =title_ratings.merge(staff_sinc, on = 'tconst', validate = \"many_to_many\")\n",
    "imdb \n"
   ]
  },
  {
   "cell_type": "code",
   "execution_count": null,
   "metadata": {},
   "outputs": [],
   "source": []
  },
  {
   "cell_type": "code",
   "execution_count": 62,
   "metadata": {},
   "outputs": [
    {
     "data": {
      "text/html": [
       "<div>\n",
       "<style scoped>\n",
       "    .dataframe tbody tr th:only-of-type {\n",
       "        vertical-align: middle;\n",
       "    }\n",
       "\n",
       "    .dataframe tbody tr th {\n",
       "        vertical-align: top;\n",
       "    }\n",
       "\n",
       "    .dataframe thead th {\n",
       "        text-align: right;\n",
       "    }\n",
       "</style>\n",
       "<table border=\"1\" class=\"dataframe\">\n",
       "  <thead>\n",
       "    <tr style=\"text-align: right;\">\n",
       "      <th></th>\n",
       "      <th>tconst</th>\n",
       "      <th>directors</th>\n",
       "      <th>writers</th>\n",
       "    </tr>\n",
       "  </thead>\n",
       "  <tbody>\n",
       "    <tr>\n",
       "      <th>0</th>\n",
       "      <td>tt0000001</td>\n",
       "      <td>nm0005690</td>\n",
       "      <td>\\N</td>\n",
       "    </tr>\n",
       "    <tr>\n",
       "      <th>1</th>\n",
       "      <td>tt0000002</td>\n",
       "      <td>nm0721526</td>\n",
       "      <td>\\N</td>\n",
       "    </tr>\n",
       "    <tr>\n",
       "      <th>2</th>\n",
       "      <td>tt0000003</td>\n",
       "      <td>nm0721526</td>\n",
       "      <td>\\N</td>\n",
       "    </tr>\n",
       "  </tbody>\n",
       "</table>\n",
       "</div>"
      ],
      "text/plain": [
       "      tconst  directors writers\n",
       "0  tt0000001  nm0005690      \\N\n",
       "1  tt0000002  nm0721526      \\N\n",
       "2  tt0000003  nm0721526      \\N"
      ]
     },
     "execution_count": 62,
     "metadata": {},
     "output_type": "execute_result"
    }
   ],
   "source": [
    "crew.head(3)"
   ]
  },
  {
   "cell_type": "code",
   "execution_count": 63,
   "metadata": {},
   "outputs": [],
   "source": []
  },
  {
   "cell_type": "markdown",
   "metadata": {},
   "source": [
    "Arreglamos el dataframe para poder trabajar con el mas adelante:"
   ]
  },
  {
   "cell_type": "code",
   "execution_count": 64,
   "metadata": {},
   "outputs": [
    {
     "data": {
      "text/plain": [
       "(182223,)"
      ]
     },
     "execution_count": 64,
     "metadata": {},
     "output_type": "execute_result"
    }
   ],
   "source": [
    "imdb ['tconst'].unique().shape"
   ]
  },
  {
   "cell_type": "code",
   "execution_count": 65,
   "metadata": {},
   "outputs": [],
   "source": [
    "strip = imdb .genres.apply(lambda x: x.replace(' ', ''))"
   ]
  },
  {
   "cell_type": "code",
   "execution_count": 66,
   "metadata": {},
   "outputs": [],
   "source": [
    "imdb.genres = strip"
   ]
  },
  {
   "cell_type": "code",
   "execution_count": 67,
   "metadata": {},
   "outputs": [
    {
     "data": {
      "text/html": [
       "<div>\n",
       "<style scoped>\n",
       "    .dataframe tbody tr th:only-of-type {\n",
       "        vertical-align: middle;\n",
       "    }\n",
       "\n",
       "    .dataframe tbody tr th {\n",
       "        vertical-align: top;\n",
       "    }\n",
       "\n",
       "    .dataframe thead th {\n",
       "        text-align: right;\n",
       "    }\n",
       "</style>\n",
       "<table border=\"1\" class=\"dataframe\">\n",
       "  <thead>\n",
       "    <tr style=\"text-align: right;\">\n",
       "      <th></th>\n",
       "      <th>tconst</th>\n",
       "      <th>titleType</th>\n",
       "      <th>primaryTitle</th>\n",
       "      <th>originalTitle</th>\n",
       "      <th>isAdult</th>\n",
       "      <th>startYear</th>\n",
       "      <th>runtimeMinutes</th>\n",
       "      <th>genres</th>\n",
       "      <th>averageRating</th>\n",
       "      <th>numVotes</th>\n",
       "      <th>nconst</th>\n",
       "    </tr>\n",
       "  </thead>\n",
       "  <tbody>\n",
       "    <tr>\n",
       "      <th>0</th>\n",
       "      <td>tt0015724</td>\n",
       "      <td>movie</td>\n",
       "      <td>Dama de noche</td>\n",
       "      <td>Dama de noche</td>\n",
       "      <td>0</td>\n",
       "      <td>1993</td>\n",
       "      <td>102</td>\n",
       "      <td>Drama,Mystery,Romance</td>\n",
       "      <td>6.2</td>\n",
       "      <td>20</td>\n",
       "      <td>nm0529960</td>\n",
       "    </tr>\n",
       "    <tr>\n",
       "      <th>1</th>\n",
       "      <td>tt0016906</td>\n",
       "      <td>movie</td>\n",
       "      <td>Frivolinas</td>\n",
       "      <td>Frivolinas</td>\n",
       "      <td>0</td>\n",
       "      <td>2014</td>\n",
       "      <td>80</td>\n",
       "      <td>Comedy,Musical</td>\n",
       "      <td>5.6</td>\n",
       "      <td>15</td>\n",
       "      <td>nm0136068</td>\n",
       "    </tr>\n",
       "    <tr>\n",
       "      <th>2</th>\n",
       "      <td>tt0031458</td>\n",
       "      <td>movie</td>\n",
       "      <td>El huésped del sevillano</td>\n",
       "      <td>El huésped del sevillano</td>\n",
       "      <td>0</td>\n",
       "      <td>1970</td>\n",
       "      <td>86</td>\n",
       "      <td>Comedy</td>\n",
       "      <td>7.1</td>\n",
       "      <td>8</td>\n",
       "      <td>nm0649563</td>\n",
       "    </tr>\n",
       "    <tr>\n",
       "      <th>3</th>\n",
       "      <td>tt0035423</td>\n",
       "      <td>movie</td>\n",
       "      <td>Kate &amp; Leopold</td>\n",
       "      <td>Kate &amp; Leopold</td>\n",
       "      <td>0</td>\n",
       "      <td>2001</td>\n",
       "      <td>118</td>\n",
       "      <td>Comedy,Fantasy,Romance</td>\n",
       "      <td>6.4</td>\n",
       "      <td>78892</td>\n",
       "      <td>nm0003506</td>\n",
       "    </tr>\n",
       "    <tr>\n",
       "      <th>4</th>\n",
       "      <td>tt0036606</td>\n",
       "      <td>movie</td>\n",
       "      <td>Another Time, Another Place</td>\n",
       "      <td>Another Time, Another Place</td>\n",
       "      <td>0</td>\n",
       "      <td>1983</td>\n",
       "      <td>118</td>\n",
       "      <td>Drama,War</td>\n",
       "      <td>6.5</td>\n",
       "      <td>258</td>\n",
       "      <td>nm0705535</td>\n",
       "    </tr>\n",
       "    <tr>\n",
       "      <th>...</th>\n",
       "      <td>...</td>\n",
       "      <td>...</td>\n",
       "      <td>...</td>\n",
       "      <td>...</td>\n",
       "      <td>...</td>\n",
       "      <td>...</td>\n",
       "      <td>...</td>\n",
       "      <td>...</td>\n",
       "      <td>...</td>\n",
       "      <td>...</td>\n",
       "      <td>...</td>\n",
       "    </tr>\n",
       "    <tr>\n",
       "      <th>203348</th>\n",
       "      <td>tt9916160</td>\n",
       "      <td>movie</td>\n",
       "      <td>Drømmeland</td>\n",
       "      <td>Drømmeland</td>\n",
       "      <td>0</td>\n",
       "      <td>2019</td>\n",
       "      <td>72</td>\n",
       "      <td>Documentary</td>\n",
       "      <td>6.5</td>\n",
       "      <td>42</td>\n",
       "      <td>nm5684093</td>\n",
       "    </tr>\n",
       "    <tr>\n",
       "      <th>203349</th>\n",
       "      <td>tt9916190</td>\n",
       "      <td>movie</td>\n",
       "      <td>Safeguard</td>\n",
       "      <td>Safeguard</td>\n",
       "      <td>0</td>\n",
       "      <td>2020</td>\n",
       "      <td>90</td>\n",
       "      <td>Action,Adventure,Thriller</td>\n",
       "      <td>3.2</td>\n",
       "      <td>132</td>\n",
       "      <td>nm7308376</td>\n",
       "    </tr>\n",
       "    <tr>\n",
       "      <th>203350</th>\n",
       "      <td>tt9916270</td>\n",
       "      <td>movie</td>\n",
       "      <td>Il talento del calabrone</td>\n",
       "      <td>Il talento del calabrone</td>\n",
       "      <td>0</td>\n",
       "      <td>2020</td>\n",
       "      <td>84</td>\n",
       "      <td>Thriller</td>\n",
       "      <td>5.7</td>\n",
       "      <td>836</td>\n",
       "      <td>nm1480867</td>\n",
       "    </tr>\n",
       "    <tr>\n",
       "      <th>203351</th>\n",
       "      <td>tt9916362</td>\n",
       "      <td>movie</td>\n",
       "      <td>Coven</td>\n",
       "      <td>Akelarre</td>\n",
       "      <td>0</td>\n",
       "      <td>2020</td>\n",
       "      <td>90</td>\n",
       "      <td>Action,Adventure,Drama</td>\n",
       "      <td>5.8</td>\n",
       "      <td>192</td>\n",
       "      <td>nm1893148</td>\n",
       "    </tr>\n",
       "    <tr>\n",
       "      <th>203352</th>\n",
       "      <td>tt9916538</td>\n",
       "      <td>movie</td>\n",
       "      <td>Kuambil Lagi Hatiku</td>\n",
       "      <td>Kuambil Lagi Hatiku</td>\n",
       "      <td>0</td>\n",
       "      <td>2019</td>\n",
       "      <td>123</td>\n",
       "      <td>Drama</td>\n",
       "      <td>8.4</td>\n",
       "      <td>5</td>\n",
       "      <td>nm4457074</td>\n",
       "    </tr>\n",
       "  </tbody>\n",
       "</table>\n",
       "<p>203353 rows × 11 columns</p>\n",
       "</div>"
      ],
      "text/plain": [
       "           tconst titleType                 primaryTitle  \\\n",
       "0       tt0015724     movie                Dama de noche   \n",
       "1       tt0016906     movie                   Frivolinas   \n",
       "2       tt0031458     movie     El huésped del sevillano   \n",
       "3       tt0035423     movie               Kate & Leopold   \n",
       "4       tt0036606     movie  Another Time, Another Place   \n",
       "...           ...       ...                          ...   \n",
       "203348  tt9916160     movie                   Drømmeland   \n",
       "203349  tt9916190     movie                    Safeguard   \n",
       "203350  tt9916270     movie     Il talento del calabrone   \n",
       "203351  tt9916362     movie                        Coven   \n",
       "203352  tt9916538     movie          Kuambil Lagi Hatiku   \n",
       "\n",
       "                      originalTitle isAdult  startYear runtimeMinutes  \\\n",
       "0                     Dama de noche       0       1993            102   \n",
       "1                        Frivolinas       0       2014             80   \n",
       "2          El huésped del sevillano       0       1970             86   \n",
       "3                    Kate & Leopold       0       2001            118   \n",
       "4       Another Time, Another Place       0       1983            118   \n",
       "...                             ...     ...        ...            ...   \n",
       "203348                   Drømmeland       0       2019             72   \n",
       "203349                    Safeguard       0       2020             90   \n",
       "203350     Il talento del calabrone       0       2020             84   \n",
       "203351                     Akelarre       0       2020             90   \n",
       "203352          Kuambil Lagi Hatiku       0       2019            123   \n",
       "\n",
       "                           genres  averageRating  numVotes     nconst  \n",
       "0           Drama,Mystery,Romance            6.2        20  nm0529960  \n",
       "1                  Comedy,Musical            5.6        15  nm0136068  \n",
       "2                          Comedy            7.1         8  nm0649563  \n",
       "3          Comedy,Fantasy,Romance            6.4     78892  nm0003506  \n",
       "4                       Drama,War            6.5       258  nm0705535  \n",
       "...                           ...            ...       ...        ...  \n",
       "203348                Documentary            6.5        42  nm5684093  \n",
       "203349  Action,Adventure,Thriller            3.2       132  nm7308376  \n",
       "203350                   Thriller            5.7       836  nm1480867  \n",
       "203351     Action,Adventure,Drama            5.8       192  nm1893148  \n",
       "203352                      Drama            8.4         5  nm4457074  \n",
       "\n",
       "[203353 rows x 11 columns]"
      ]
     },
     "execution_count": 67,
     "metadata": {},
     "output_type": "execute_result"
    }
   ],
   "source": [
    "imdb "
   ]
  },
  {
   "cell_type": "markdown",
   "metadata": {},
   "source": [
    "Para poder continuar y modelar vamos a crear dummies a partir de la columna genero:"
   ]
  },
  {
   "cell_type": "code",
   "execution_count": 68,
   "metadata": {},
   "outputs": [],
   "source": [
    "imdb_dum = imdb.genres.str.join(sep='').str.get_dummies(sep=',')"
   ]
  },
  {
   "cell_type": "code",
   "execution_count": 69,
   "metadata": {},
   "outputs": [
    {
     "data": {
      "text/html": [
       "<div>\n",
       "<style scoped>\n",
       "    .dataframe tbody tr th:only-of-type {\n",
       "        vertical-align: middle;\n",
       "    }\n",
       "\n",
       "    .dataframe tbody tr th {\n",
       "        vertical-align: top;\n",
       "    }\n",
       "\n",
       "    .dataframe thead th {\n",
       "        text-align: right;\n",
       "    }\n",
       "</style>\n",
       "<table border=\"1\" class=\"dataframe\">\n",
       "  <thead>\n",
       "    <tr style=\"text-align: right;\">\n",
       "      <th></th>\n",
       "      <th>Action</th>\n",
       "      <th>Adult</th>\n",
       "      <th>Adventure</th>\n",
       "      <th>Animation</th>\n",
       "      <th>Biography</th>\n",
       "      <th>Comedy</th>\n",
       "      <th>Crime</th>\n",
       "      <th>Documentary</th>\n",
       "      <th>Drama</th>\n",
       "      <th>Family</th>\n",
       "      <th>...</th>\n",
       "      <th>News</th>\n",
       "      <th>Reality-TV</th>\n",
       "      <th>Romance</th>\n",
       "      <th>Sci-Fi</th>\n",
       "      <th>Short</th>\n",
       "      <th>Sport</th>\n",
       "      <th>Talk-Show</th>\n",
       "      <th>Thriller</th>\n",
       "      <th>War</th>\n",
       "      <th>Western</th>\n",
       "    </tr>\n",
       "  </thead>\n",
       "  <tbody>\n",
       "    <tr>\n",
       "      <th>0</th>\n",
       "      <td>0</td>\n",
       "      <td>0</td>\n",
       "      <td>0</td>\n",
       "      <td>0</td>\n",
       "      <td>0</td>\n",
       "      <td>0</td>\n",
       "      <td>0</td>\n",
       "      <td>0</td>\n",
       "      <td>1</td>\n",
       "      <td>0</td>\n",
       "      <td>...</td>\n",
       "      <td>0</td>\n",
       "      <td>0</td>\n",
       "      <td>1</td>\n",
       "      <td>0</td>\n",
       "      <td>0</td>\n",
       "      <td>0</td>\n",
       "      <td>0</td>\n",
       "      <td>0</td>\n",
       "      <td>0</td>\n",
       "      <td>0</td>\n",
       "    </tr>\n",
       "    <tr>\n",
       "      <th>1</th>\n",
       "      <td>0</td>\n",
       "      <td>0</td>\n",
       "      <td>0</td>\n",
       "      <td>0</td>\n",
       "      <td>0</td>\n",
       "      <td>1</td>\n",
       "      <td>0</td>\n",
       "      <td>0</td>\n",
       "      <td>0</td>\n",
       "      <td>0</td>\n",
       "      <td>...</td>\n",
       "      <td>0</td>\n",
       "      <td>0</td>\n",
       "      <td>0</td>\n",
       "      <td>0</td>\n",
       "      <td>0</td>\n",
       "      <td>0</td>\n",
       "      <td>0</td>\n",
       "      <td>0</td>\n",
       "      <td>0</td>\n",
       "      <td>0</td>\n",
       "    </tr>\n",
       "    <tr>\n",
       "      <th>2</th>\n",
       "      <td>0</td>\n",
       "      <td>0</td>\n",
       "      <td>0</td>\n",
       "      <td>0</td>\n",
       "      <td>0</td>\n",
       "      <td>1</td>\n",
       "      <td>0</td>\n",
       "      <td>0</td>\n",
       "      <td>0</td>\n",
       "      <td>0</td>\n",
       "      <td>...</td>\n",
       "      <td>0</td>\n",
       "      <td>0</td>\n",
       "      <td>0</td>\n",
       "      <td>0</td>\n",
       "      <td>0</td>\n",
       "      <td>0</td>\n",
       "      <td>0</td>\n",
       "      <td>0</td>\n",
       "      <td>0</td>\n",
       "      <td>0</td>\n",
       "    </tr>\n",
       "    <tr>\n",
       "      <th>3</th>\n",
       "      <td>0</td>\n",
       "      <td>0</td>\n",
       "      <td>0</td>\n",
       "      <td>0</td>\n",
       "      <td>0</td>\n",
       "      <td>1</td>\n",
       "      <td>0</td>\n",
       "      <td>0</td>\n",
       "      <td>0</td>\n",
       "      <td>0</td>\n",
       "      <td>...</td>\n",
       "      <td>0</td>\n",
       "      <td>0</td>\n",
       "      <td>1</td>\n",
       "      <td>0</td>\n",
       "      <td>0</td>\n",
       "      <td>0</td>\n",
       "      <td>0</td>\n",
       "      <td>0</td>\n",
       "      <td>0</td>\n",
       "      <td>0</td>\n",
       "    </tr>\n",
       "    <tr>\n",
       "      <th>4</th>\n",
       "      <td>0</td>\n",
       "      <td>0</td>\n",
       "      <td>0</td>\n",
       "      <td>0</td>\n",
       "      <td>0</td>\n",
       "      <td>0</td>\n",
       "      <td>0</td>\n",
       "      <td>0</td>\n",
       "      <td>1</td>\n",
       "      <td>0</td>\n",
       "      <td>...</td>\n",
       "      <td>0</td>\n",
       "      <td>0</td>\n",
       "      <td>0</td>\n",
       "      <td>0</td>\n",
       "      <td>0</td>\n",
       "      <td>0</td>\n",
       "      <td>0</td>\n",
       "      <td>0</td>\n",
       "      <td>1</td>\n",
       "      <td>0</td>\n",
       "    </tr>\n",
       "    <tr>\n",
       "      <th>...</th>\n",
       "      <td>...</td>\n",
       "      <td>...</td>\n",
       "      <td>...</td>\n",
       "      <td>...</td>\n",
       "      <td>...</td>\n",
       "      <td>...</td>\n",
       "      <td>...</td>\n",
       "      <td>...</td>\n",
       "      <td>...</td>\n",
       "      <td>...</td>\n",
       "      <td>...</td>\n",
       "      <td>...</td>\n",
       "      <td>...</td>\n",
       "      <td>...</td>\n",
       "      <td>...</td>\n",
       "      <td>...</td>\n",
       "      <td>...</td>\n",
       "      <td>...</td>\n",
       "      <td>...</td>\n",
       "      <td>...</td>\n",
       "      <td>...</td>\n",
       "    </tr>\n",
       "    <tr>\n",
       "      <th>203348</th>\n",
       "      <td>0</td>\n",
       "      <td>0</td>\n",
       "      <td>0</td>\n",
       "      <td>0</td>\n",
       "      <td>0</td>\n",
       "      <td>0</td>\n",
       "      <td>0</td>\n",
       "      <td>1</td>\n",
       "      <td>0</td>\n",
       "      <td>0</td>\n",
       "      <td>...</td>\n",
       "      <td>0</td>\n",
       "      <td>0</td>\n",
       "      <td>0</td>\n",
       "      <td>0</td>\n",
       "      <td>0</td>\n",
       "      <td>0</td>\n",
       "      <td>0</td>\n",
       "      <td>0</td>\n",
       "      <td>0</td>\n",
       "      <td>0</td>\n",
       "    </tr>\n",
       "    <tr>\n",
       "      <th>203349</th>\n",
       "      <td>1</td>\n",
       "      <td>0</td>\n",
       "      <td>1</td>\n",
       "      <td>0</td>\n",
       "      <td>0</td>\n",
       "      <td>0</td>\n",
       "      <td>0</td>\n",
       "      <td>0</td>\n",
       "      <td>0</td>\n",
       "      <td>0</td>\n",
       "      <td>...</td>\n",
       "      <td>0</td>\n",
       "      <td>0</td>\n",
       "      <td>0</td>\n",
       "      <td>0</td>\n",
       "      <td>0</td>\n",
       "      <td>0</td>\n",
       "      <td>0</td>\n",
       "      <td>1</td>\n",
       "      <td>0</td>\n",
       "      <td>0</td>\n",
       "    </tr>\n",
       "    <tr>\n",
       "      <th>203350</th>\n",
       "      <td>0</td>\n",
       "      <td>0</td>\n",
       "      <td>0</td>\n",
       "      <td>0</td>\n",
       "      <td>0</td>\n",
       "      <td>0</td>\n",
       "      <td>0</td>\n",
       "      <td>0</td>\n",
       "      <td>0</td>\n",
       "      <td>0</td>\n",
       "      <td>...</td>\n",
       "      <td>0</td>\n",
       "      <td>0</td>\n",
       "      <td>0</td>\n",
       "      <td>0</td>\n",
       "      <td>0</td>\n",
       "      <td>0</td>\n",
       "      <td>0</td>\n",
       "      <td>1</td>\n",
       "      <td>0</td>\n",
       "      <td>0</td>\n",
       "    </tr>\n",
       "    <tr>\n",
       "      <th>203351</th>\n",
       "      <td>1</td>\n",
       "      <td>0</td>\n",
       "      <td>1</td>\n",
       "      <td>0</td>\n",
       "      <td>0</td>\n",
       "      <td>0</td>\n",
       "      <td>0</td>\n",
       "      <td>0</td>\n",
       "      <td>1</td>\n",
       "      <td>0</td>\n",
       "      <td>...</td>\n",
       "      <td>0</td>\n",
       "      <td>0</td>\n",
       "      <td>0</td>\n",
       "      <td>0</td>\n",
       "      <td>0</td>\n",
       "      <td>0</td>\n",
       "      <td>0</td>\n",
       "      <td>0</td>\n",
       "      <td>0</td>\n",
       "      <td>0</td>\n",
       "    </tr>\n",
       "    <tr>\n",
       "      <th>203352</th>\n",
       "      <td>0</td>\n",
       "      <td>0</td>\n",
       "      <td>0</td>\n",
       "      <td>0</td>\n",
       "      <td>0</td>\n",
       "      <td>0</td>\n",
       "      <td>0</td>\n",
       "      <td>0</td>\n",
       "      <td>1</td>\n",
       "      <td>0</td>\n",
       "      <td>...</td>\n",
       "      <td>0</td>\n",
       "      <td>0</td>\n",
       "      <td>0</td>\n",
       "      <td>0</td>\n",
       "      <td>0</td>\n",
       "      <td>0</td>\n",
       "      <td>0</td>\n",
       "      <td>0</td>\n",
       "      <td>0</td>\n",
       "      <td>0</td>\n",
       "    </tr>\n",
       "  </tbody>\n",
       "</table>\n",
       "<p>203353 rows × 27 columns</p>\n",
       "</div>"
      ],
      "text/plain": [
       "        Action  Adult  Adventure  Animation  Biography  Comedy  Crime  \\\n",
       "0            0      0          0          0          0       0      0   \n",
       "1            0      0          0          0          0       1      0   \n",
       "2            0      0          0          0          0       1      0   \n",
       "3            0      0          0          0          0       1      0   \n",
       "4            0      0          0          0          0       0      0   \n",
       "...        ...    ...        ...        ...        ...     ...    ...   \n",
       "203348       0      0          0          0          0       0      0   \n",
       "203349       1      0          1          0          0       0      0   \n",
       "203350       0      0          0          0          0       0      0   \n",
       "203351       1      0          1          0          0       0      0   \n",
       "203352       0      0          0          0          0       0      0   \n",
       "\n",
       "        Documentary  Drama  Family  ...  News  Reality-TV  Romance  Sci-Fi  \\\n",
       "0                 0      1       0  ...     0           0        1       0   \n",
       "1                 0      0       0  ...     0           0        0       0   \n",
       "2                 0      0       0  ...     0           0        0       0   \n",
       "3                 0      0       0  ...     0           0        1       0   \n",
       "4                 0      1       0  ...     0           0        0       0   \n",
       "...             ...    ...     ...  ...   ...         ...      ...     ...   \n",
       "203348            1      0       0  ...     0           0        0       0   \n",
       "203349            0      0       0  ...     0           0        0       0   \n",
       "203350            0      0       0  ...     0           0        0       0   \n",
       "203351            0      1       0  ...     0           0        0       0   \n",
       "203352            0      1       0  ...     0           0        0       0   \n",
       "\n",
       "        Short  Sport  Talk-Show  Thriller  War  Western  \n",
       "0           0      0          0         0    0        0  \n",
       "1           0      0          0         0    0        0  \n",
       "2           0      0          0         0    0        0  \n",
       "3           0      0          0         0    0        0  \n",
       "4           0      0          0         0    1        0  \n",
       "...       ...    ...        ...       ...  ...      ...  \n",
       "203348      0      0          0         0    0        0  \n",
       "203349      0      0          0         1    0        0  \n",
       "203350      0      0          0         1    0        0  \n",
       "203351      0      0          0         0    0        0  \n",
       "203352      0      0          0         0    0        0  \n",
       "\n",
       "[203353 rows x 27 columns]"
      ]
     },
     "execution_count": 69,
     "metadata": {},
     "output_type": "execute_result"
    }
   ],
   "source": [
    "imdb_dum"
   ]
  },
  {
   "cell_type": "markdown",
   "metadata": {},
   "source": [
    "Unimos este ultimo dataframe con el dataframe anterior, imdb:"
   ]
  },
  {
   "cell_type": "code",
   "execution_count": 70,
   "metadata": {},
   "outputs": [
    {
     "data": {
      "text/html": [
       "<div>\n",
       "<style scoped>\n",
       "    .dataframe tbody tr th:only-of-type {\n",
       "        vertical-align: middle;\n",
       "    }\n",
       "\n",
       "    .dataframe tbody tr th {\n",
       "        vertical-align: top;\n",
       "    }\n",
       "\n",
       "    .dataframe thead th {\n",
       "        text-align: right;\n",
       "    }\n",
       "</style>\n",
       "<table border=\"1\" class=\"dataframe\">\n",
       "  <thead>\n",
       "    <tr style=\"text-align: right;\">\n",
       "      <th></th>\n",
       "      <th>tconst</th>\n",
       "      <th>titleType</th>\n",
       "      <th>primaryTitle</th>\n",
       "      <th>originalTitle</th>\n",
       "      <th>isAdult</th>\n",
       "      <th>startYear</th>\n",
       "      <th>runtimeMinutes</th>\n",
       "      <th>genres</th>\n",
       "      <th>averageRating</th>\n",
       "      <th>numVotes</th>\n",
       "      <th>...</th>\n",
       "      <th>News</th>\n",
       "      <th>Reality-TV</th>\n",
       "      <th>Romance</th>\n",
       "      <th>Sci-Fi</th>\n",
       "      <th>Short</th>\n",
       "      <th>Sport</th>\n",
       "      <th>Talk-Show</th>\n",
       "      <th>Thriller</th>\n",
       "      <th>War</th>\n",
       "      <th>Western</th>\n",
       "    </tr>\n",
       "  </thead>\n",
       "  <tbody>\n",
       "    <tr>\n",
       "      <th>0</th>\n",
       "      <td>tt0015724</td>\n",
       "      <td>movie</td>\n",
       "      <td>Dama de noche</td>\n",
       "      <td>Dama de noche</td>\n",
       "      <td>0</td>\n",
       "      <td>1993</td>\n",
       "      <td>102</td>\n",
       "      <td>Drama,Mystery,Romance</td>\n",
       "      <td>6.2</td>\n",
       "      <td>20</td>\n",
       "      <td>...</td>\n",
       "      <td>0</td>\n",
       "      <td>0</td>\n",
       "      <td>1</td>\n",
       "      <td>0</td>\n",
       "      <td>0</td>\n",
       "      <td>0</td>\n",
       "      <td>0</td>\n",
       "      <td>0</td>\n",
       "      <td>0</td>\n",
       "      <td>0</td>\n",
       "    </tr>\n",
       "    <tr>\n",
       "      <th>1</th>\n",
       "      <td>tt0016906</td>\n",
       "      <td>movie</td>\n",
       "      <td>Frivolinas</td>\n",
       "      <td>Frivolinas</td>\n",
       "      <td>0</td>\n",
       "      <td>2014</td>\n",
       "      <td>80</td>\n",
       "      <td>Comedy,Musical</td>\n",
       "      <td>5.6</td>\n",
       "      <td>15</td>\n",
       "      <td>...</td>\n",
       "      <td>0</td>\n",
       "      <td>0</td>\n",
       "      <td>0</td>\n",
       "      <td>0</td>\n",
       "      <td>0</td>\n",
       "      <td>0</td>\n",
       "      <td>0</td>\n",
       "      <td>0</td>\n",
       "      <td>0</td>\n",
       "      <td>0</td>\n",
       "    </tr>\n",
       "    <tr>\n",
       "      <th>2</th>\n",
       "      <td>tt0031458</td>\n",
       "      <td>movie</td>\n",
       "      <td>El huésped del sevillano</td>\n",
       "      <td>El huésped del sevillano</td>\n",
       "      <td>0</td>\n",
       "      <td>1970</td>\n",
       "      <td>86</td>\n",
       "      <td>Comedy</td>\n",
       "      <td>7.1</td>\n",
       "      <td>8</td>\n",
       "      <td>...</td>\n",
       "      <td>0</td>\n",
       "      <td>0</td>\n",
       "      <td>0</td>\n",
       "      <td>0</td>\n",
       "      <td>0</td>\n",
       "      <td>0</td>\n",
       "      <td>0</td>\n",
       "      <td>0</td>\n",
       "      <td>0</td>\n",
       "      <td>0</td>\n",
       "    </tr>\n",
       "    <tr>\n",
       "      <th>3</th>\n",
       "      <td>tt0035423</td>\n",
       "      <td>movie</td>\n",
       "      <td>Kate &amp; Leopold</td>\n",
       "      <td>Kate &amp; Leopold</td>\n",
       "      <td>0</td>\n",
       "      <td>2001</td>\n",
       "      <td>118</td>\n",
       "      <td>Comedy,Fantasy,Romance</td>\n",
       "      <td>6.4</td>\n",
       "      <td>78892</td>\n",
       "      <td>...</td>\n",
       "      <td>0</td>\n",
       "      <td>0</td>\n",
       "      <td>1</td>\n",
       "      <td>0</td>\n",
       "      <td>0</td>\n",
       "      <td>0</td>\n",
       "      <td>0</td>\n",
       "      <td>0</td>\n",
       "      <td>0</td>\n",
       "      <td>0</td>\n",
       "    </tr>\n",
       "    <tr>\n",
       "      <th>4</th>\n",
       "      <td>tt0036606</td>\n",
       "      <td>movie</td>\n",
       "      <td>Another Time, Another Place</td>\n",
       "      <td>Another Time, Another Place</td>\n",
       "      <td>0</td>\n",
       "      <td>1983</td>\n",
       "      <td>118</td>\n",
       "      <td>Drama,War</td>\n",
       "      <td>6.5</td>\n",
       "      <td>258</td>\n",
       "      <td>...</td>\n",
       "      <td>0</td>\n",
       "      <td>0</td>\n",
       "      <td>0</td>\n",
       "      <td>0</td>\n",
       "      <td>0</td>\n",
       "      <td>0</td>\n",
       "      <td>0</td>\n",
       "      <td>0</td>\n",
       "      <td>1</td>\n",
       "      <td>0</td>\n",
       "    </tr>\n",
       "    <tr>\n",
       "      <th>...</th>\n",
       "      <td>...</td>\n",
       "      <td>...</td>\n",
       "      <td>...</td>\n",
       "      <td>...</td>\n",
       "      <td>...</td>\n",
       "      <td>...</td>\n",
       "      <td>...</td>\n",
       "      <td>...</td>\n",
       "      <td>...</td>\n",
       "      <td>...</td>\n",
       "      <td>...</td>\n",
       "      <td>...</td>\n",
       "      <td>...</td>\n",
       "      <td>...</td>\n",
       "      <td>...</td>\n",
       "      <td>...</td>\n",
       "      <td>...</td>\n",
       "      <td>...</td>\n",
       "      <td>...</td>\n",
       "      <td>...</td>\n",
       "      <td>...</td>\n",
       "    </tr>\n",
       "    <tr>\n",
       "      <th>203348</th>\n",
       "      <td>tt9916160</td>\n",
       "      <td>movie</td>\n",
       "      <td>Drømmeland</td>\n",
       "      <td>Drømmeland</td>\n",
       "      <td>0</td>\n",
       "      <td>2019</td>\n",
       "      <td>72</td>\n",
       "      <td>Documentary</td>\n",
       "      <td>6.5</td>\n",
       "      <td>42</td>\n",
       "      <td>...</td>\n",
       "      <td>0</td>\n",
       "      <td>0</td>\n",
       "      <td>0</td>\n",
       "      <td>0</td>\n",
       "      <td>0</td>\n",
       "      <td>0</td>\n",
       "      <td>0</td>\n",
       "      <td>0</td>\n",
       "      <td>0</td>\n",
       "      <td>0</td>\n",
       "    </tr>\n",
       "    <tr>\n",
       "      <th>203349</th>\n",
       "      <td>tt9916190</td>\n",
       "      <td>movie</td>\n",
       "      <td>Safeguard</td>\n",
       "      <td>Safeguard</td>\n",
       "      <td>0</td>\n",
       "      <td>2020</td>\n",
       "      <td>90</td>\n",
       "      <td>Action,Adventure,Thriller</td>\n",
       "      <td>3.2</td>\n",
       "      <td>132</td>\n",
       "      <td>...</td>\n",
       "      <td>0</td>\n",
       "      <td>0</td>\n",
       "      <td>0</td>\n",
       "      <td>0</td>\n",
       "      <td>0</td>\n",
       "      <td>0</td>\n",
       "      <td>0</td>\n",
       "      <td>1</td>\n",
       "      <td>0</td>\n",
       "      <td>0</td>\n",
       "    </tr>\n",
       "    <tr>\n",
       "      <th>203350</th>\n",
       "      <td>tt9916270</td>\n",
       "      <td>movie</td>\n",
       "      <td>Il talento del calabrone</td>\n",
       "      <td>Il talento del calabrone</td>\n",
       "      <td>0</td>\n",
       "      <td>2020</td>\n",
       "      <td>84</td>\n",
       "      <td>Thriller</td>\n",
       "      <td>5.7</td>\n",
       "      <td>836</td>\n",
       "      <td>...</td>\n",
       "      <td>0</td>\n",
       "      <td>0</td>\n",
       "      <td>0</td>\n",
       "      <td>0</td>\n",
       "      <td>0</td>\n",
       "      <td>0</td>\n",
       "      <td>0</td>\n",
       "      <td>1</td>\n",
       "      <td>0</td>\n",
       "      <td>0</td>\n",
       "    </tr>\n",
       "    <tr>\n",
       "      <th>203351</th>\n",
       "      <td>tt9916362</td>\n",
       "      <td>movie</td>\n",
       "      <td>Coven</td>\n",
       "      <td>Akelarre</td>\n",
       "      <td>0</td>\n",
       "      <td>2020</td>\n",
       "      <td>90</td>\n",
       "      <td>Action,Adventure,Drama</td>\n",
       "      <td>5.8</td>\n",
       "      <td>192</td>\n",
       "      <td>...</td>\n",
       "      <td>0</td>\n",
       "      <td>0</td>\n",
       "      <td>0</td>\n",
       "      <td>0</td>\n",
       "      <td>0</td>\n",
       "      <td>0</td>\n",
       "      <td>0</td>\n",
       "      <td>0</td>\n",
       "      <td>0</td>\n",
       "      <td>0</td>\n",
       "    </tr>\n",
       "    <tr>\n",
       "      <th>203352</th>\n",
       "      <td>tt9916538</td>\n",
       "      <td>movie</td>\n",
       "      <td>Kuambil Lagi Hatiku</td>\n",
       "      <td>Kuambil Lagi Hatiku</td>\n",
       "      <td>0</td>\n",
       "      <td>2019</td>\n",
       "      <td>123</td>\n",
       "      <td>Drama</td>\n",
       "      <td>8.4</td>\n",
       "      <td>5</td>\n",
       "      <td>...</td>\n",
       "      <td>0</td>\n",
       "      <td>0</td>\n",
       "      <td>0</td>\n",
       "      <td>0</td>\n",
       "      <td>0</td>\n",
       "      <td>0</td>\n",
       "      <td>0</td>\n",
       "      <td>0</td>\n",
       "      <td>0</td>\n",
       "      <td>0</td>\n",
       "    </tr>\n",
       "  </tbody>\n",
       "</table>\n",
       "<p>203353 rows × 38 columns</p>\n",
       "</div>"
      ],
      "text/plain": [
       "           tconst titleType                 primaryTitle  \\\n",
       "0       tt0015724     movie                Dama de noche   \n",
       "1       tt0016906     movie                   Frivolinas   \n",
       "2       tt0031458     movie     El huésped del sevillano   \n",
       "3       tt0035423     movie               Kate & Leopold   \n",
       "4       tt0036606     movie  Another Time, Another Place   \n",
       "...           ...       ...                          ...   \n",
       "203348  tt9916160     movie                   Drømmeland   \n",
       "203349  tt9916190     movie                    Safeguard   \n",
       "203350  tt9916270     movie     Il talento del calabrone   \n",
       "203351  tt9916362     movie                        Coven   \n",
       "203352  tt9916538     movie          Kuambil Lagi Hatiku   \n",
       "\n",
       "                      originalTitle isAdult  startYear runtimeMinutes  \\\n",
       "0                     Dama de noche       0       1993            102   \n",
       "1                        Frivolinas       0       2014             80   \n",
       "2          El huésped del sevillano       0       1970             86   \n",
       "3                    Kate & Leopold       0       2001            118   \n",
       "4       Another Time, Another Place       0       1983            118   \n",
       "...                             ...     ...        ...            ...   \n",
       "203348                   Drømmeland       0       2019             72   \n",
       "203349                    Safeguard       0       2020             90   \n",
       "203350     Il talento del calabrone       0       2020             84   \n",
       "203351                     Akelarre       0       2020             90   \n",
       "203352          Kuambil Lagi Hatiku       0       2019            123   \n",
       "\n",
       "                           genres  averageRating  numVotes  ... News  \\\n",
       "0           Drama,Mystery,Romance            6.2        20  ...    0   \n",
       "1                  Comedy,Musical            5.6        15  ...    0   \n",
       "2                          Comedy            7.1         8  ...    0   \n",
       "3          Comedy,Fantasy,Romance            6.4     78892  ...    0   \n",
       "4                       Drama,War            6.5       258  ...    0   \n",
       "...                           ...            ...       ...  ...  ...   \n",
       "203348                Documentary            6.5        42  ...    0   \n",
       "203349  Action,Adventure,Thriller            3.2       132  ...    0   \n",
       "203350                   Thriller            5.7       836  ...    0   \n",
       "203351     Action,Adventure,Drama            5.8       192  ...    0   \n",
       "203352                      Drama            8.4         5  ...    0   \n",
       "\n",
       "        Reality-TV  Romance  Sci-Fi  Short  Sport  Talk-Show  Thriller  War  \\\n",
       "0                0        1       0      0      0          0         0    0   \n",
       "1                0        0       0      0      0          0         0    0   \n",
       "2                0        0       0      0      0          0         0    0   \n",
       "3                0        1       0      0      0          0         0    0   \n",
       "4                0        0       0      0      0          0         0    1   \n",
       "...            ...      ...     ...    ...    ...        ...       ...  ...   \n",
       "203348           0        0       0      0      0          0         0    0   \n",
       "203349           0        0       0      0      0          0         1    0   \n",
       "203350           0        0       0      0      0          0         1    0   \n",
       "203351           0        0       0      0      0          0         0    0   \n",
       "203352           0        0       0      0      0          0         0    0   \n",
       "\n",
       "        Western  \n",
       "0             0  \n",
       "1             0  \n",
       "2             0  \n",
       "3             0  \n",
       "4             0  \n",
       "...         ...  \n",
       "203348        0  \n",
       "203349        0  \n",
       "203350        0  \n",
       "203351        0  \n",
       "203352        0  \n",
       "\n",
       "[203353 rows x 38 columns]"
      ]
     },
     "execution_count": 70,
     "metadata": {},
     "output_type": "execute_result"
    }
   ],
   "source": [
    "imdb_condumgen =imdb.join(imdb_dum)\n",
    "imdb_condumgen"
   ]
  },
  {
   "cell_type": "code",
   "execution_count": 71,
   "metadata": {},
   "outputs": [
    {
     "data": {
      "text/plain": [
       "0         nm0529960\n",
       "1         nm0136068\n",
       "2         nm0649563\n",
       "3         nm0003506\n",
       "4         nm0705535\n",
       "            ...    \n",
       "203348    nm5684093\n",
       "203349    nm7308376\n",
       "203350    nm1480867\n",
       "203351    nm1893148\n",
       "203352    nm4457074\n",
       "Name: nconst, Length: 203353, dtype: object"
      ]
     },
     "execution_count": 71,
     "metadata": {},
     "output_type": "execute_result"
    }
   ],
   "source": [
    "imdb_condumgen[\"nconst\"]"
   ]
  },
  {
   "cell_type": "markdown",
   "metadata": {},
   "source": [
    "Vamos a droppear las peliculas que se encuentran repetidas ya que solo nos vamos a concentrar en utilizar como input al director principal y no al secundario para asi evitar trabajar con demasiadas variables en exceso:"
   ]
  },
  {
   "cell_type": "code",
   "execution_count": 72,
   "metadata": {},
   "outputs": [
    {
     "data": {
      "text/plain": [
       "(182223, 38)"
      ]
     },
     "execution_count": 72,
     "metadata": {},
     "output_type": "execute_result"
    }
   ],
   "source": [
    "imdb_2=imdb_condumgen.drop_duplicates(keep='first', subset='tconst')\n",
    "imdb_2.shape"
   ]
  },
  {
   "cell_type": "code",
   "execution_count": 73,
   "metadata": {},
   "outputs": [],
   "source": [
    "nconst_filtro = imdb_2[\"nconst\"]"
   ]
  },
  {
   "cell_type": "markdown",
   "metadata": {},
   "source": [
    "Ahora realizamos un merge entre el dataframe anterior y el dataset que contiene informacion acerca de los directores:"
   ]
  },
  {
   "cell_type": "code",
   "execution_count": 74,
   "metadata": {},
   "outputs": [],
   "source": [
    "imdb_2 = imdb_2.merge(name_basics,how=\"inner\",on=[\"nconst\"])\n"
   ]
  },
  {
   "cell_type": "code",
   "execution_count": 75,
   "metadata": {},
   "outputs": [
    {
     "data": {
      "text/plain": [
       "Index(['tconst', 'titleType', 'primaryTitle', 'originalTitle', 'isAdult',\n",
       "       'startYear', 'runtimeMinutes', 'genres', 'averageRating', 'numVotes',\n",
       "       'nconst', 'Action', 'Adult', 'Adventure', 'Animation', 'Biography',\n",
       "       'Comedy', 'Crime', 'Documentary', 'Drama', 'Family', 'Fantasy',\n",
       "       'Game-Show', 'History', 'Horror', 'Music', 'Musical', 'Mystery', 'News',\n",
       "       'Reality-TV', 'Romance', 'Sci-Fi', 'Short', 'Sport', 'Talk-Show',\n",
       "       'Thriller', 'War', 'Western', 'primaryName', 'birthYear', 'deathYear',\n",
       "       'primaryProfession', 'knownForTitles'],\n",
       "      dtype='object')"
      ]
     },
     "execution_count": 75,
     "metadata": {},
     "output_type": "execute_result"
    }
   ],
   "source": [
    "imdb_2.columns"
   ]
  },
  {
   "cell_type": "code",
   "execution_count": 76,
   "metadata": {},
   "outputs": [
    {
     "data": {
      "text/html": [
       "<div>\n",
       "<style scoped>\n",
       "    .dataframe tbody tr th:only-of-type {\n",
       "        vertical-align: middle;\n",
       "    }\n",
       "\n",
       "    .dataframe tbody tr th {\n",
       "        vertical-align: top;\n",
       "    }\n",
       "\n",
       "    .dataframe thead th {\n",
       "        text-align: right;\n",
       "    }\n",
       "</style>\n",
       "<table border=\"1\" class=\"dataframe\">\n",
       "  <thead>\n",
       "    <tr style=\"text-align: right;\">\n",
       "      <th></th>\n",
       "      <th>nconst</th>\n",
       "      <th>primaryName</th>\n",
       "      <th>birthYear</th>\n",
       "      <th>deathYear</th>\n",
       "      <th>primaryProfession</th>\n",
       "      <th>knownForTitles</th>\n",
       "    </tr>\n",
       "  </thead>\n",
       "  <tbody>\n",
       "    <tr>\n",
       "      <th>0</th>\n",
       "      <td>nm0000001</td>\n",
       "      <td>Fred Astaire</td>\n",
       "      <td>1899</td>\n",
       "      <td>1987</td>\n",
       "      <td>soundtrack,actor,miscellaneous</td>\n",
       "      <td>tt0050419,tt0053137,tt0031983,tt0072308</td>\n",
       "    </tr>\n",
       "    <tr>\n",
       "      <th>1</th>\n",
       "      <td>nm0000002</td>\n",
       "      <td>Lauren Bacall</td>\n",
       "      <td>1924</td>\n",
       "      <td>2014</td>\n",
       "      <td>actress,soundtrack</td>\n",
       "      <td>tt0037382,tt0038355,tt0117057,tt0071877</td>\n",
       "    </tr>\n",
       "    <tr>\n",
       "      <th>2</th>\n",
       "      <td>nm0000003</td>\n",
       "      <td>Brigitte Bardot</td>\n",
       "      <td>1934</td>\n",
       "      <td>\\N</td>\n",
       "      <td>actress,soundtrack,music_department</td>\n",
       "      <td>tt0059956,tt0057345,tt0049189,tt0054452</td>\n",
       "    </tr>\n",
       "  </tbody>\n",
       "</table>\n",
       "</div>"
      ],
      "text/plain": [
       "      nconst      primaryName birthYear deathYear  \\\n",
       "0  nm0000001     Fred Astaire      1899      1987   \n",
       "1  nm0000002    Lauren Bacall      1924      2014   \n",
       "2  nm0000003  Brigitte Bardot      1934        \\N   \n",
       "\n",
       "                     primaryProfession  \\\n",
       "0       soundtrack,actor,miscellaneous   \n",
       "1                   actress,soundtrack   \n",
       "2  actress,soundtrack,music_department   \n",
       "\n",
       "                            knownForTitles  \n",
       "0  tt0050419,tt0053137,tt0031983,tt0072308  \n",
       "1  tt0037382,tt0038355,tt0117057,tt0071877  \n",
       "2  tt0059956,tt0057345,tt0049189,tt0054452  "
      ]
     },
     "execution_count": 76,
     "metadata": {},
     "output_type": "execute_result"
    }
   ],
   "source": [
    "name_basics.head(3)"
   ]
  },
  {
   "cell_type": "markdown",
   "metadata": {},
   "source": [
    "Para poder realizar un analisis no sesgado vamos a utilizar como aceptable a los ratings (que serviran para definir a nuestra variable a predecir) que tengan al menos 1.000 votos por el publico. Para eso creamos una mascara y la aplicamos:"
   ]
  },
  {
   "cell_type": "code",
   "execution_count": 2,
   "metadata": {},
   "outputs": [
    {
     "ename": "NameError",
     "evalue": "name 'imdb_2' is not defined",
     "output_type": "error",
     "traceback": [
      "\u001b[1;31m---------------------------------------------------------------------------\u001b[0m",
      "\u001b[1;31mNameError\u001b[0m                                 Traceback (most recent call last)",
      "\u001b[1;32m<ipython-input-2-c2d26cee74f9>\u001b[0m in \u001b[0;36m<module>\u001b[1;34m\u001b[0m\n\u001b[1;32m----> 1\u001b[1;33m \u001b[0mimdb_2\u001b[0m\u001b[1;33m[\u001b[0m\u001b[1;34m\"numVotes\"\u001b[0m\u001b[1;33m]\u001b[0m\u001b[1;33m.\u001b[0m\u001b[0mvalue_counts\u001b[0m\u001b[1;33m(\u001b[0m\u001b[0mnormalize\u001b[0m\u001b[1;33m=\u001b[0m\u001b[1;32mTrue\u001b[0m\u001b[1;33m)\u001b[0m\u001b[1;33m\u001b[0m\u001b[1;33m\u001b[0m\u001b[0m\n\u001b[0m",
      "\u001b[1;31mNameError\u001b[0m: name 'imdb_2' is not defined"
     ]
    }
   ],
   "source": [
    "imdb_2[\"numVotes\"].value_counts(normalize=True)"
   ]
  },
  {
   "cell_type": "code",
   "execution_count": 78,
   "metadata": {},
   "outputs": [
    {
     "data": {
      "text/plain": [
       "4404.473156517015"
      ]
     },
     "execution_count": 78,
     "metadata": {},
     "output_type": "execute_result"
    }
   ],
   "source": [
    "imdb_2[\"numVotes\"].mean()"
   ]
  },
  {
   "cell_type": "code",
   "execution_count": 79,
   "metadata": {},
   "outputs": [],
   "source": [
    "mask_votos = imdb_2.numVotes > 1000"
   ]
  },
  {
   "cell_type": "code",
   "execution_count": 80,
   "metadata": {},
   "outputs": [],
   "source": [
    "imdb_mas50 = imdb_2[mask_votos]"
   ]
  },
  {
   "cell_type": "code",
   "execution_count": 81,
   "metadata": {},
   "outputs": [],
   "source": [
    "imdb_mas50 = imdb_mas50.drop([\"tconst\", \"titleType\",\"primaryTitle\",\"originalTitle\", \"genres\"], axis= 1)"
   ]
  },
  {
   "cell_type": "code",
   "execution_count": 82,
   "metadata": {},
   "outputs": [],
   "source": [
    "for n in imdb_mas50['averageRating']:\n",
    "    n=int(n)\n",
    "       "
   ]
  },
  {
   "cell_type": "code",
   "execution_count": 83,
   "metadata": {},
   "outputs": [
    {
     "data": {
      "text/plain": [
       "16        6.4\n",
       "17        6.8\n",
       "18        6.9\n",
       "19        7.3\n",
       "20        7.3\n",
       "         ... \n",
       "182119    6.9\n",
       "182127    6.4\n",
       "182158    7.1\n",
       "182173    7.8\n",
       "182176    8.0\n",
       "Name: averageRating, Length: 28302, dtype: float64"
      ]
     },
     "execution_count": 83,
     "metadata": {},
     "output_type": "execute_result"
    }
   ],
   "source": [
    "imdb_mas50['averageRating']"
   ]
  },
  {
   "cell_type": "code",
   "execution_count": 84,
   "metadata": {},
   "outputs": [],
   "source": []
  },
  {
   "cell_type": "code",
   "execution_count": 85,
   "metadata": {},
   "outputs": [],
   "source": [
    "\n"
   ]
  },
  {
   "cell_type": "code",
   "execution_count": 86,
   "metadata": {},
   "outputs": [],
   "source": []
  },
  {
   "cell_type": "code",
   "execution_count": 87,
   "metadata": {},
   "outputs": [
    {
     "data": {
      "text/plain": [
       "16        6.4\n",
       "17        6.8\n",
       "18        6.9\n",
       "19        7.3\n",
       "20        7.3\n",
       "         ... \n",
       "182119    6.9\n",
       "182127    6.4\n",
       "182158    7.1\n",
       "182173    7.8\n",
       "182176    8.0\n",
       "Name: averageRating, Length: 28302, dtype: float64"
      ]
     },
     "execution_count": 87,
     "metadata": {},
     "output_type": "execute_result"
    }
   ],
   "source": [
    "imdb_mas50['averageRating']"
   ]
  },
  {
   "cell_type": "code",
   "execution_count": 88,
   "metadata": {},
   "outputs": [
    {
     "data": {
      "text/plain": [
       "array([6.4, 6.8, 6.9, 7.3, 7.8, 7.7, 6.3, 6.7, 8.1, 7.1, 5.9, 5.7, 7. ,\n",
       "       6.5, 6.6, 7.4, 7.2, 7.6, 6.2, 5.8, 6.1, 4.7, 4.6, 5.4, 8.7, 5.2,\n",
       "       4.4, 5.1, 3.5, 5.6, 7.5, 4.5, 8. , 7.9, 6. , 5.5, 8.2, 4.9, 5.3,\n",
       "       5. , 4. , 8.3, 4.8, 4.2, 4.1, 3.2, 3.3, 3.6, 4.3, 3.9, 8.8, 8.4,\n",
       "       8.9, 2.6, 2.9, 3.8, 8.5, 3. , 2.3, 8.6, 2.5, 3.1, 2.2, 3.7, 2.1,\n",
       "       2.7, 9.2, 9. , 1.8, 2. , 1.7, 1.9, 3.4, 1.3, 1.1, 1.4, 2.8, 2.4,\n",
       "       9.3, 1.5, 1.6, 9.1, 1.2, 1. , 9.4])"
      ]
     },
     "execution_count": 88,
     "metadata": {},
     "output_type": "execute_result"
    }
   ],
   "source": [
    "imdb_mas50['averageRating'].unique()"
   ]
  },
  {
   "cell_type": "markdown",
   "metadata": {},
   "source": [
    "Definimos las categorias que utilizaremos de la siguiente manera: si el rating es menor o igual a 6 entonces sera una pelicula mala, si es superior entonces sera buena. Originalmente la intencion era crear mas escenarios para las clasificaciones, pero debido al procesamiento que requeria la notebook para procesar, debimos disminuir las categorias:"
   ]
  },
  {
   "cell_type": "code",
   "execution_count": 89,
   "metadata": {},
   "outputs": [],
   "source": [
    "Clasificacion=[]\n",
    "\n",
    "for x in imdb_mas50['averageRating']:\n",
    "    if x<=6:\n",
    "        Clasificacion.append(0)\n",
    "    else:\n",
    "        Clasificacion.append(1)\n",
    "#     if x<=2:\n",
    "#         Clasificacion.append(0)\n",
    "#     elif x<=4:\n",
    "#         Clasificacion.append(1)\n",
    "#     elif x<=6:\n",
    "#         Clasificacion.append(2)\n",
    "#     elif x<=8:\n",
    "#         Clasificacion.append(3)\n",
    "#     elif x<=10:\n",
    "#         Clasificacion.append(4)\n"
   ]
  },
  {
   "cell_type": "code",
   "execution_count": 90,
   "metadata": {},
   "outputs": [
    {
     "data": {
      "text/plain": [
       "0        1\n",
       "1        1\n",
       "2        1\n",
       "3        1\n",
       "4        1\n",
       "        ..\n",
       "28297    1\n",
       "28298    1\n",
       "28299    1\n",
       "28300    1\n",
       "28301    1\n",
       "Length: 28302, dtype: int64"
      ]
     },
     "execution_count": 90,
     "metadata": {},
     "output_type": "execute_result"
    }
   ],
   "source": [
    "Clasificacion=pd.Series(Clasificacion)\n",
    "Clasificacion"
   ]
  },
  {
   "cell_type": "code",
   "execution_count": 91,
   "metadata": {},
   "outputs": [],
   "source": [
    "imdb_mas50['Clasificacion']=Clasificacion.values"
   ]
  },
  {
   "cell_type": "code",
   "execution_count": 92,
   "metadata": {},
   "outputs": [
    {
     "data": {
      "text/plain": [
       "Index(['isAdult', 'startYear', 'runtimeMinutes', 'averageRating', 'numVotes',\n",
       "       'nconst', 'Action', 'Adult', 'Adventure', 'Animation', 'Biography',\n",
       "       'Comedy', 'Crime', 'Documentary', 'Drama', 'Family', 'Fantasy',\n",
       "       'Game-Show', 'History', 'Horror', 'Music', 'Musical', 'Mystery', 'News',\n",
       "       'Reality-TV', 'Romance', 'Sci-Fi', 'Short', 'Sport', 'Talk-Show',\n",
       "       'Thriller', 'War', 'Western', 'primaryName', 'birthYear', 'deathYear',\n",
       "       'primaryProfession', 'knownForTitles', 'Clasificacion'],\n",
       "      dtype='object')"
      ]
     },
     "execution_count": 92,
     "metadata": {},
     "output_type": "execute_result"
    }
   ],
   "source": [
    "imdb_mas50.columns"
   ]
  },
  {
   "cell_type": "code",
   "execution_count": 93,
   "metadata": {},
   "outputs": [
    {
     "name": "stdout",
     "output_type": "stream",
     "text": [
      "        averageRating  Clasificacion\n",
      "16                6.4              1\n",
      "17                6.8              1\n",
      "18                6.9              1\n",
      "19                7.3              1\n",
      "20                7.3              1\n",
      "...               ...            ...\n",
      "182119            6.9              1\n",
      "182127            6.4              1\n",
      "182158            7.1              1\n",
      "182173            7.8              1\n",
      "182176            8.0              1\n",
      "\n",
      "[28302 rows x 2 columns]\n"
     ]
    }
   ],
   "source": [
    "print(imdb_mas50[['averageRating', 'Clasificacion']])"
   ]
  },
  {
   "cell_type": "code",
   "execution_count": 94,
   "metadata": {},
   "outputs": [
    {
     "data": {
      "text/plain": [
       "0"
      ]
     },
     "execution_count": 94,
     "metadata": {},
     "output_type": "execute_result"
    }
   ],
   "source": [
    "imdb_mas50['Clasificacion'].isnull().sum()"
   ]
  },
  {
   "cell_type": "markdown",
   "metadata": {},
   "source": [
    "Dropeamos columnas porque no tienen ningun registro o no tienen utilidad en adelante:"
   ]
  },
  {
   "cell_type": "code",
   "execution_count": 95,
   "metadata": {},
   "outputs": [],
   "source": [
    "\n",
    "imdb_mas50 = imdb_mas50.drop(columns = [\"Game-Show\",\"Reality-TV\",\"Talk-Show\"])\n"
   ]
  },
  {
   "cell_type": "code",
   "execution_count": 96,
   "metadata": {},
   "outputs": [
    {
     "data": {
      "text/plain": [
       "Index(['isAdult', 'startYear', 'runtimeMinutes', 'averageRating', 'numVotes',\n",
       "       'nconst', 'Action', 'Adult', 'Adventure', 'Animation', 'Biography',\n",
       "       'Comedy', 'Crime', 'Documentary', 'Drama', 'Family', 'Fantasy',\n",
       "       'History', 'Horror', 'Music', 'Musical', 'Mystery', 'News', 'Romance',\n",
       "       'Sci-Fi', 'Short', 'Sport', 'Thriller', 'War', 'Western', 'primaryName',\n",
       "       'birthYear', 'deathYear', 'primaryProfession', 'knownForTitles',\n",
       "       'Clasificacion'],\n",
       "      dtype='object')"
      ]
     },
     "execution_count": 96,
     "metadata": {},
     "output_type": "execute_result"
    }
   ],
   "source": [
    "imdb_mas50.columns"
   ]
  },
  {
   "cell_type": "code",
   "execution_count": 97,
   "metadata": {},
   "outputs": [],
   "source": [
    "imdb_mas50 = imdb_mas50.drop(columns=['numVotes', 'birthYear', 'deathYear', 'birthYear', 'primaryProfession', 'knownForTitles', 'deathYear',\n",
    "       'primaryProfession', 'knownForTitles'])"
   ]
  },
  {
   "cell_type": "code",
   "execution_count": 98,
   "metadata": {},
   "outputs": [
    {
     "data": {
      "text/plain": [
       "Index(['isAdult', 'startYear', 'runtimeMinutes', 'averageRating', 'nconst',\n",
       "       'Action', 'Adult', 'Adventure', 'Animation', 'Biography', 'Comedy',\n",
       "       'Crime', 'Documentary', 'Drama', 'Family', 'Fantasy', 'History',\n",
       "       'Horror', 'Music', 'Musical', 'Mystery', 'News', 'Romance', 'Sci-Fi',\n",
       "       'Short', 'Sport', 'Thriller', 'War', 'Western', 'primaryName',\n",
       "       'Clasificacion'],\n",
       "      dtype='object')"
      ]
     },
     "execution_count": 98,
     "metadata": {},
     "output_type": "execute_result"
    }
   ],
   "source": [
    "imdb_mas50.columns"
   ]
  },
  {
   "cell_type": "markdown",
   "metadata": {},
   "source": [
    "Creamos dummies para cada uno de los directores asi los podremos utilizar en los modelos:"
   ]
  },
  {
   "cell_type": "code",
   "execution_count": 100,
   "metadata": {},
   "outputs": [],
   "source": [
    "\n",
    "one_hot = pd.get_dummies(imdb_mas50['nconst'])"
   ]
  },
  {
   "cell_type": "code",
   "execution_count": 101,
   "metadata": {},
   "outputs": [
    {
     "data": {
      "text/plain": [
       "(28302, 12136)"
      ]
     },
     "execution_count": 101,
     "metadata": {},
     "output_type": "execute_result"
    }
   ],
   "source": [
    "one_hot.shape"
   ]
  },
  {
   "cell_type": "markdown",
   "metadata": {},
   "source": [
    "Ahora creamos el ultimo dataframe antes de poder comenzar a modelar:"
   ]
  },
  {
   "cell_type": "code",
   "execution_count": 102,
   "metadata": {},
   "outputs": [],
   "source": [
    "\n",
    "data_df = imdb_mas50.drop('nconst',axis = 1)"
   ]
  },
  {
   "cell_type": "code",
   "execution_count": 103,
   "metadata": {},
   "outputs": [
    {
     "data": {
      "text/html": [
       "<div>\n",
       "<style scoped>\n",
       "    .dataframe tbody tr th:only-of-type {\n",
       "        vertical-align: middle;\n",
       "    }\n",
       "\n",
       "    .dataframe tbody tr th {\n",
       "        vertical-align: top;\n",
       "    }\n",
       "\n",
       "    .dataframe thead th {\n",
       "        text-align: right;\n",
       "    }\n",
       "</style>\n",
       "<table border=\"1\" class=\"dataframe\">\n",
       "  <thead>\n",
       "    <tr style=\"text-align: right;\">\n",
       "      <th></th>\n",
       "      <th>isAdult</th>\n",
       "      <th>startYear</th>\n",
       "      <th>runtimeMinutes</th>\n",
       "      <th>averageRating</th>\n",
       "      <th>Action</th>\n",
       "      <th>Adult</th>\n",
       "      <th>Adventure</th>\n",
       "      <th>Animation</th>\n",
       "      <th>Biography</th>\n",
       "      <th>Comedy</th>\n",
       "      <th>...</th>\n",
       "      <th>nm9753309</th>\n",
       "      <th>nm9813479</th>\n",
       "      <th>nm9825418</th>\n",
       "      <th>nm9921790</th>\n",
       "      <th>nm9928566</th>\n",
       "      <th>nm9942830</th>\n",
       "      <th>nm9955408</th>\n",
       "      <th>nm9955426</th>\n",
       "      <th>nm9957570</th>\n",
       "      <th>nm9985593</th>\n",
       "    </tr>\n",
       "  </thead>\n",
       "  <tbody>\n",
       "    <tr>\n",
       "      <th>16</th>\n",
       "      <td>0</td>\n",
       "      <td>2001</td>\n",
       "      <td>118</td>\n",
       "      <td>6.4</td>\n",
       "      <td>0</td>\n",
       "      <td>0</td>\n",
       "      <td>0</td>\n",
       "      <td>0</td>\n",
       "      <td>0</td>\n",
       "      <td>1</td>\n",
       "      <td>...</td>\n",
       "      <td>0</td>\n",
       "      <td>0</td>\n",
       "      <td>0</td>\n",
       "      <td>0</td>\n",
       "      <td>0</td>\n",
       "      <td>0</td>\n",
       "      <td>0</td>\n",
       "      <td>0</td>\n",
       "      <td>0</td>\n",
       "      <td>0</td>\n",
       "    </tr>\n",
       "    <tr>\n",
       "      <th>17</th>\n",
       "      <td>0</td>\n",
       "      <td>1995</td>\n",
       "      <td>105</td>\n",
       "      <td>6.8</td>\n",
       "      <td>0</td>\n",
       "      <td>0</td>\n",
       "      <td>0</td>\n",
       "      <td>0</td>\n",
       "      <td>0</td>\n",
       "      <td>0</td>\n",
       "      <td>...</td>\n",
       "      <td>0</td>\n",
       "      <td>0</td>\n",
       "      <td>0</td>\n",
       "      <td>0</td>\n",
       "      <td>0</td>\n",
       "      <td>0</td>\n",
       "      <td>0</td>\n",
       "      <td>0</td>\n",
       "      <td>0</td>\n",
       "      <td>0</td>\n",
       "    </tr>\n",
       "    <tr>\n",
       "      <th>18</th>\n",
       "      <td>0</td>\n",
       "      <td>1997</td>\n",
       "      <td>105</td>\n",
       "      <td>6.9</td>\n",
       "      <td>0</td>\n",
       "      <td>0</td>\n",
       "      <td>0</td>\n",
       "      <td>0</td>\n",
       "      <td>0</td>\n",
       "      <td>0</td>\n",
       "      <td>...</td>\n",
       "      <td>0</td>\n",
       "      <td>0</td>\n",
       "      <td>0</td>\n",
       "      <td>0</td>\n",
       "      <td>0</td>\n",
       "      <td>0</td>\n",
       "      <td>0</td>\n",
       "      <td>0</td>\n",
       "      <td>0</td>\n",
       "      <td>0</td>\n",
       "    </tr>\n",
       "    <tr>\n",
       "      <th>19</th>\n",
       "      <td>0</td>\n",
       "      <td>1999</td>\n",
       "      <td>127</td>\n",
       "      <td>7.3</td>\n",
       "      <td>0</td>\n",
       "      <td>0</td>\n",
       "      <td>0</td>\n",
       "      <td>0</td>\n",
       "      <td>1</td>\n",
       "      <td>0</td>\n",
       "      <td>...</td>\n",
       "      <td>0</td>\n",
       "      <td>0</td>\n",
       "      <td>0</td>\n",
       "      <td>0</td>\n",
       "      <td>0</td>\n",
       "      <td>0</td>\n",
       "      <td>0</td>\n",
       "      <td>0</td>\n",
       "      <td>0</td>\n",
       "      <td>0</td>\n",
       "    </tr>\n",
       "    <tr>\n",
       "      <th>20</th>\n",
       "      <td>0</td>\n",
       "      <td>2003</td>\n",
       "      <td>90</td>\n",
       "      <td>7.3</td>\n",
       "      <td>0</td>\n",
       "      <td>0</td>\n",
       "      <td>0</td>\n",
       "      <td>0</td>\n",
       "      <td>0</td>\n",
       "      <td>0</td>\n",
       "      <td>...</td>\n",
       "      <td>0</td>\n",
       "      <td>0</td>\n",
       "      <td>0</td>\n",
       "      <td>0</td>\n",
       "      <td>0</td>\n",
       "      <td>0</td>\n",
       "      <td>0</td>\n",
       "      <td>0</td>\n",
       "      <td>0</td>\n",
       "      <td>0</td>\n",
       "    </tr>\n",
       "    <tr>\n",
       "      <th>...</th>\n",
       "      <td>...</td>\n",
       "      <td>...</td>\n",
       "      <td>...</td>\n",
       "      <td>...</td>\n",
       "      <td>...</td>\n",
       "      <td>...</td>\n",
       "      <td>...</td>\n",
       "      <td>...</td>\n",
       "      <td>...</td>\n",
       "      <td>...</td>\n",
       "      <td>...</td>\n",
       "      <td>...</td>\n",
       "      <td>...</td>\n",
       "      <td>...</td>\n",
       "      <td>...</td>\n",
       "      <td>...</td>\n",
       "      <td>...</td>\n",
       "      <td>...</td>\n",
       "      <td>...</td>\n",
       "      <td>...</td>\n",
       "      <td>...</td>\n",
       "    </tr>\n",
       "    <tr>\n",
       "      <th>182119</th>\n",
       "      <td>0</td>\n",
       "      <td>2019</td>\n",
       "      <td>84</td>\n",
       "      <td>6.9</td>\n",
       "      <td>0</td>\n",
       "      <td>0</td>\n",
       "      <td>0</td>\n",
       "      <td>0</td>\n",
       "      <td>0</td>\n",
       "      <td>0</td>\n",
       "      <td>...</td>\n",
       "      <td>0</td>\n",
       "      <td>0</td>\n",
       "      <td>0</td>\n",
       "      <td>0</td>\n",
       "      <td>0</td>\n",
       "      <td>0</td>\n",
       "      <td>0</td>\n",
       "      <td>0</td>\n",
       "      <td>0</td>\n",
       "      <td>0</td>\n",
       "    </tr>\n",
       "    <tr>\n",
       "      <th>182127</th>\n",
       "      <td>0</td>\n",
       "      <td>2019</td>\n",
       "      <td>92</td>\n",
       "      <td>6.4</td>\n",
       "      <td>0</td>\n",
       "      <td>0</td>\n",
       "      <td>0</td>\n",
       "      <td>0</td>\n",
       "      <td>0</td>\n",
       "      <td>0</td>\n",
       "      <td>...</td>\n",
       "      <td>0</td>\n",
       "      <td>0</td>\n",
       "      <td>0</td>\n",
       "      <td>1</td>\n",
       "      <td>0</td>\n",
       "      <td>0</td>\n",
       "      <td>0</td>\n",
       "      <td>0</td>\n",
       "      <td>0</td>\n",
       "      <td>0</td>\n",
       "    </tr>\n",
       "    <tr>\n",
       "      <th>182158</th>\n",
       "      <td>0</td>\n",
       "      <td>2020</td>\n",
       "      <td>97</td>\n",
       "      <td>7.1</td>\n",
       "      <td>0</td>\n",
       "      <td>0</td>\n",
       "      <td>0</td>\n",
       "      <td>0</td>\n",
       "      <td>0</td>\n",
       "      <td>0</td>\n",
       "      <td>...</td>\n",
       "      <td>0</td>\n",
       "      <td>0</td>\n",
       "      <td>0</td>\n",
       "      <td>0</td>\n",
       "      <td>0</td>\n",
       "      <td>0</td>\n",
       "      <td>0</td>\n",
       "      <td>0</td>\n",
       "      <td>0</td>\n",
       "      <td>0</td>\n",
       "    </tr>\n",
       "    <tr>\n",
       "      <th>182173</th>\n",
       "      <td>0</td>\n",
       "      <td>2019</td>\n",
       "      <td>96</td>\n",
       "      <td>7.8</td>\n",
       "      <td>0</td>\n",
       "      <td>0</td>\n",
       "      <td>0</td>\n",
       "      <td>0</td>\n",
       "      <td>1</td>\n",
       "      <td>0</td>\n",
       "      <td>...</td>\n",
       "      <td>0</td>\n",
       "      <td>0</td>\n",
       "      <td>0</td>\n",
       "      <td>0</td>\n",
       "      <td>0</td>\n",
       "      <td>0</td>\n",
       "      <td>0</td>\n",
       "      <td>0</td>\n",
       "      <td>0</td>\n",
       "      <td>0</td>\n",
       "    </tr>\n",
       "    <tr>\n",
       "      <th>182176</th>\n",
       "      <td>0</td>\n",
       "      <td>2019</td>\n",
       "      <td>130</td>\n",
       "      <td>8.0</td>\n",
       "      <td>0</td>\n",
       "      <td>0</td>\n",
       "      <td>0</td>\n",
       "      <td>0</td>\n",
       "      <td>0</td>\n",
       "      <td>1</td>\n",
       "      <td>...</td>\n",
       "      <td>0</td>\n",
       "      <td>0</td>\n",
       "      <td>0</td>\n",
       "      <td>0</td>\n",
       "      <td>0</td>\n",
       "      <td>0</td>\n",
       "      <td>0</td>\n",
       "      <td>0</td>\n",
       "      <td>0</td>\n",
       "      <td>0</td>\n",
       "    </tr>\n",
       "  </tbody>\n",
       "</table>\n",
       "<p>28302 rows × 12166 columns</p>\n",
       "</div>"
      ],
      "text/plain": [
       "       isAdult  startYear runtimeMinutes  averageRating  Action  Adult  \\\n",
       "16           0       2001            118            6.4       0      0   \n",
       "17           0       1995            105            6.8       0      0   \n",
       "18           0       1997            105            6.9       0      0   \n",
       "19           0       1999            127            7.3       0      0   \n",
       "20           0       2003             90            7.3       0      0   \n",
       "...        ...        ...            ...            ...     ...    ...   \n",
       "182119       0       2019             84            6.9       0      0   \n",
       "182127       0       2019             92            6.4       0      0   \n",
       "182158       0       2020             97            7.1       0      0   \n",
       "182173       0       2019             96            7.8       0      0   \n",
       "182176       0       2019            130            8.0       0      0   \n",
       "\n",
       "        Adventure  Animation  Biography  Comedy  ...  nm9753309  nm9813479  \\\n",
       "16              0          0          0       1  ...          0          0   \n",
       "17              0          0          0       0  ...          0          0   \n",
       "18              0          0          0       0  ...          0          0   \n",
       "19              0          0          1       0  ...          0          0   \n",
       "20              0          0          0       0  ...          0          0   \n",
       "...           ...        ...        ...     ...  ...        ...        ...   \n",
       "182119          0          0          0       0  ...          0          0   \n",
       "182127          0          0          0       0  ...          0          0   \n",
       "182158          0          0          0       0  ...          0          0   \n",
       "182173          0          0          1       0  ...          0          0   \n",
       "182176          0          0          0       1  ...          0          0   \n",
       "\n",
       "        nm9825418  nm9921790  nm9928566  nm9942830  nm9955408  nm9955426  \\\n",
       "16              0          0          0          0          0          0   \n",
       "17              0          0          0          0          0          0   \n",
       "18              0          0          0          0          0          0   \n",
       "19              0          0          0          0          0          0   \n",
       "20              0          0          0          0          0          0   \n",
       "...           ...        ...        ...        ...        ...        ...   \n",
       "182119          0          0          0          0          0          0   \n",
       "182127          0          1          0          0          0          0   \n",
       "182158          0          0          0          0          0          0   \n",
       "182173          0          0          0          0          0          0   \n",
       "182176          0          0          0          0          0          0   \n",
       "\n",
       "        nm9957570  nm9985593  \n",
       "16              0          0  \n",
       "17              0          0  \n",
       "18              0          0  \n",
       "19              0          0  \n",
       "20              0          0  \n",
       "...           ...        ...  \n",
       "182119          0          0  \n",
       "182127          0          0  \n",
       "182158          0          0  \n",
       "182173          0          0  \n",
       "182176          0          0  \n",
       "\n",
       "[28302 rows x 12166 columns]"
      ]
     },
     "execution_count": 103,
     "metadata": {},
     "output_type": "execute_result"
    }
   ],
   "source": [
    "\n",
    "data_df = data_df.join(one_hot)\n",
    "data_df "
   ]
  },
  {
   "cell_type": "code",
   "execution_count": 104,
   "metadata": {},
   "outputs": [
    {
     "data": {
      "text/plain": [
       "isAdult           0\n",
       "startYear         0\n",
       "runtimeMinutes    0\n",
       "averageRating     0\n",
       "Action            0\n",
       "                 ..\n",
       "nm9942830         0\n",
       "nm9955408         0\n",
       "nm9955426         0\n",
       "nm9957570         0\n",
       "nm9985593         0\n",
       "Length: 12166, dtype: int64"
      ]
     },
     "execution_count": 104,
     "metadata": {},
     "output_type": "execute_result"
    }
   ],
   "source": [
    "data_df.isnull().sum()"
   ]
  },
  {
   "cell_type": "code",
   "execution_count": 119,
   "metadata": {},
   "outputs": [
    {
     "data": {
      "text/plain": [
       "Index(['isAdult', 'startYear', 'runtimeMinutes', 'averageRating', 'Action',\n",
       "       'Adult', 'Adventure', 'Animation', 'Biography', 'Comedy',\n",
       "       ...\n",
       "       'nm9753309', 'nm9813479', 'nm9825418', 'nm9921790', 'nm9928566',\n",
       "       'nm9942830', 'nm9955408', 'nm9955426', 'nm9957570', 'nm9985593'],\n",
       "      dtype='object', length=12166)"
      ]
     },
     "execution_count": 119,
     "metadata": {},
     "output_type": "execute_result"
    }
   ],
   "source": [
    "data_df.columns"
   ]
  },
  {
   "cell_type": "markdown",
   "metadata": {},
   "source": [
    "Definimos las variables dependientes e independientes. Si bien en principio se intento agregar mas variables como escritores, actores y actrices, la gran cantidad de variables que habia provoco errores de falta de memoria, por lo cual debimos reducir el numero de variables independientes:"
   ]
  },
  {
   "cell_type": "code",
   "execution_count": 120,
   "metadata": {},
   "outputs": [],
   "source": [
    "X = data_df.drop([\"Clasificacion\",\"averageRating\",\"primaryName\"], axis=1)\n",
    "y = data_df[\"Clasificacion\"]"
   ]
  },
  {
   "cell_type": "code",
   "execution_count": 121,
   "metadata": {},
   "outputs": [],
   "source": [
    "from sklearn.model_selection import train_test_split\n",
    "X_train, X_test, y_train, y_test = train_test_split(X,y, random_state=0)"
   ]
  },
  {
   "cell_type": "markdown",
   "metadata": {},
   "source": [
    "Comenzamos utilizando un modelo de Kneighbors:"
   ]
  },
  {
   "cell_type": "code",
   "execution_count": 122,
   "metadata": {},
   "outputs": [],
   "source": [
    "from sklearn.preprocessing import StandardScaler\n",
    "scaler = StandardScaler()\n",
    "X_train_std = scaler.fit_transform(X_train)\n",
    "X_test_std = scaler.transform(X_test)"
   ]
  },
  {
   "cell_type": "code",
   "execution_count": 123,
   "metadata": {},
   "outputs": [],
   "source": [
    "from sklearn.neighbors import KNeighborsClassifier\n",
    "knn = KNeighborsClassifier(n_neighbors=5)\n",
    "knn.fit(X_train, y_train);"
   ]
  },
  {
   "cell_type": "code",
   "execution_count": 124,
   "metadata": {},
   "outputs": [],
   "source": [
    "y_pred = knn.predict(X_test)"
   ]
  },
  {
   "cell_type": "code",
   "execution_count": 125,
   "metadata": {},
   "outputs": [
    {
     "data": {
      "text/plain": [
       "0.7056246466930469"
      ]
     },
     "execution_count": 125,
     "metadata": {},
     "output_type": "execute_result"
    }
   ],
   "source": [
    "from sklearn.metrics import accuracy_score\n",
    "accuracy_score(y_test, y_pred)"
   ]
  },
  {
   "cell_type": "code",
   "execution_count": 126,
   "metadata": {},
   "outputs": [
    {
     "name": "stdout",
     "output_type": "stream",
     "text": [
      "Confusion Matrix\n",
      "\n",
      "[[1159 1375]\n",
      " [ 708 3834]]\n"
     ]
    }
   ],
   "source": [
    "from sklearn.metrics import confusion_matrix\n",
    "confusion = confusion_matrix(y_test, y_pred)\n",
    "print('Confusion Matrix\\n')\n",
    "print(confusion)"
   ]
  },
  {
   "cell_type": "code",
   "execution_count": 127,
   "metadata": {},
   "outputs": [
    {
     "name": "stdout",
     "output_type": "stream",
     "text": [
      "Weighted Precision: 0.69\n",
      "Weighted Recall: 0.71\n",
      "Weighted F1-score: 0.69\n",
      "\n",
      "Classification Report\n",
      "\n",
      "              precision    recall  f1-score   support\n",
      "\n",
      "     Class 1       0.62      0.46      0.53      2534\n",
      "     Class 2       0.74      0.84      0.79      4542\n",
      "\n",
      "    accuracy                           0.71      7076\n",
      "   macro avg       0.68      0.65      0.66      7076\n",
      "weighted avg       0.69      0.71      0.69      7076\n",
      "\n"
     ]
    }
   ],
   "source": [
    "from sklearn.metrics import accuracy_score, precision_score, recall_score, f1_score\n",
    "\n",
    "print('Weighted Precision: {:.2f}'.format(precision_score(y_test, y_pred, average='weighted')))\n",
    "print('Weighted Recall: {:.2f}'.format(recall_score(y_test, y_pred, average='weighted')))\n",
    "print('Weighted F1-score: {:.2f}'.format(f1_score(y_test, y_pred, average='weighted')))\n",
    "\n",
    "from sklearn.metrics import classification_report\n",
    "print('\\nClassification Report\\n')\n",
    "print(classification_report(y_test, y_pred, target_names=['Class 1', 'Class 2']))\n"
   ]
  },
  {
   "cell_type": "markdown",
   "metadata": {},
   "source": [
    "Continuamos con una regresion logistica:"
   ]
  },
  {
   "cell_type": "code",
   "execution_count": 128,
   "metadata": {},
   "outputs": [
    {
     "data": {
      "text/plain": [
       "LogisticRegression(max_iter=2000)"
      ]
     },
     "execution_count": 128,
     "metadata": {},
     "output_type": "execute_result"
    }
   ],
   "source": [
    "from sklearn.linear_model import LogisticRegression\n",
    "lr = LogisticRegression(max_iter=2000)\n",
    "lr.fit(X_train_std, y_train)"
   ]
  },
  {
   "cell_type": "code",
   "execution_count": 129,
   "metadata": {},
   "outputs": [],
   "source": [
    "from sklearn.metrics import accuracy_score, confusion_matrix, classification_report"
   ]
  },
  {
   "cell_type": "code",
   "execution_count": 130,
   "metadata": {},
   "outputs": [
    {
     "data": {
      "text/plain": [
       "0.358111927642736"
      ]
     },
     "execution_count": 130,
     "metadata": {},
     "output_type": "execute_result"
    }
   ],
   "source": [
    "accuracy_score(y_test, lr.predict(X_test))"
   ]
  },
  {
   "cell_type": "code",
   "execution_count": 131,
   "metadata": {},
   "outputs": [
    {
     "name": "stdout",
     "output_type": "stream",
     "text": [
      "Confusion Matrix\n",
      "\n",
      "[[2534    0]\n",
      " [4542    0]]\n"
     ]
    }
   ],
   "source": [
    "from sklearn.metrics import confusion_matrix\n",
    "confusion = confusion_matrix(y_test, lr.predict(X_test))\n",
    "print('Confusion Matrix\\n')\n",
    "print(confusion)"
   ]
  },
  {
   "cell_type": "code",
   "execution_count": 132,
   "metadata": {},
   "outputs": [
    {
     "name": "stderr",
     "output_type": "stream",
     "text": [
      "D:\\Anaconda3\\envs\\dhdsblend_1\\lib\\site-packages\\sklearn\\metrics\\_classification.py:1221: UndefinedMetricWarning: Precision is ill-defined and being set to 0.0 in labels with no predicted samples. Use `zero_division` parameter to control this behavior.\n",
      "  _warn_prf(average, modifier, msg_start, len(result))\n"
     ]
    },
    {
     "name": "stdout",
     "output_type": "stream",
     "text": [
      "Weighted Precision: 0.13\n",
      "Weighted Recall: 0.36\n",
      "Weighted F1-score: 0.19\n",
      "\n",
      "Classification Report\n",
      "\n",
      "              precision    recall  f1-score   support\n",
      "\n",
      "     Class 1       0.36      1.00      0.53      2534\n",
      "     Class 2       0.00      0.00      0.00      4542\n",
      "\n",
      "    accuracy                           0.36      7076\n",
      "   macro avg       0.18      0.50      0.26      7076\n",
      "weighted avg       0.13      0.36      0.19      7076\n",
      "\n"
     ]
    },
    {
     "name": "stderr",
     "output_type": "stream",
     "text": [
      "D:\\Anaconda3\\envs\\dhdsblend_1\\lib\\site-packages\\sklearn\\metrics\\_classification.py:1221: UndefinedMetricWarning: Precision and F-score are ill-defined and being set to 0.0 in labels with no predicted samples. Use `zero_division` parameter to control this behavior.\n",
      "  _warn_prf(average, modifier, msg_start, len(result))\n"
     ]
    }
   ],
   "source": [
    "from sklearn.metrics import accuracy_score, precision_score, recall_score, f1_score\n",
    "\n",
    "print('Weighted Precision: {:.2f}'.format(precision_score(y_test, lr.predict(X_test), average='weighted')))\n",
    "print('Weighted Recall: {:.2f}'.format(recall_score(y_test, lr.predict(X_test), average='weighted')))\n",
    "print('Weighted F1-score: {:.2f}'.format(f1_score(y_test, lr.predict(X_test), average='weighted')))\n",
    "\n",
    "from sklearn.metrics import classification_report\n",
    "print('\\nClassification Report\\n')\n",
    "print(classification_report(y_test, lr.predict(X_test), target_names=['Class 1', 'Class 2']))"
   ]
  },
  {
   "cell_type": "markdown",
   "metadata": {},
   "source": [
    "Utilizamos Grid search para evaluar mas resultados:"
   ]
  },
  {
   "cell_type": "code",
   "execution_count": 133,
   "metadata": {},
   "outputs": [],
   "source": [
    "from sklearn.preprocessing import StandardScaler\n",
    "from sklearn.neighbors import KNeighborsClassifier\n",
    "from sklearn.pipeline import Pipeline"
   ]
  },
  {
   "cell_type": "code",
   "execution_count": 134,
   "metadata": {},
   "outputs": [],
   "source": [
    "from sklearn.model_selection import GridSearchCV\n",
    "from sklearn.model_selection import StratifiedKFold\n",
    "\n",
    "folds=StratifiedKFold(n_splits=5,shuffle=True, random_state=42)"
   ]
  },
  {
   "cell_type": "code",
   "execution_count": 135,
   "metadata": {},
   "outputs": [],
   "source": [
    "pasos = [('scaler', StandardScaler()), ('knn', KNeighborsClassifier())]"
   ]
  },
  {
   "cell_type": "code",
   "execution_count": 136,
   "metadata": {},
   "outputs": [],
   "source": [
    "pipe = Pipeline(pasos)"
   ]
  },
  {
   "cell_type": "code",
   "execution_count": 137,
   "metadata": {},
   "outputs": [],
   "source": [
    "param_grid = {'knn__n_neighbors':range(2,20,2),'knn__weights':['uniform','distance']}"
   ]
  },
  {
   "cell_type": "code",
   "execution_count": 138,
   "metadata": {},
   "outputs": [],
   "source": [
    "grid = GridSearchCV(pipe, param_grid, cv=folds)\n",
    "grid.fit(X_train, y_train)"
   ]
  },
  {
   "cell_type": "code",
   "execution_count": 139,
   "metadata": {},
   "outputs": [],
   "source": [
    "##########pipe.fit(X_train,y_train)"
   ]
  },
  {
   "cell_type": "code",
   "execution_count": 140,
   "metadata": {},
   "outputs": [],
   "source": [
    "grid.score(X_test,y_test)"
   ]
  },
  {
   "cell_type": "code",
   "execution_count": 141,
   "metadata": {},
   "outputs": [],
   "source": [
    "accuracy_score(grid.predict(X_test),y_test)"
   ]
  },
  {
   "cell_type": "markdown",
   "metadata": {},
   "source": [
    "Ahora analizaremos el clustering pero droppeando las variables respectivas de los directores, debido a problemas de procesamiento y de memoria:"
   ]
  },
  {
   "cell_type": "code",
   "execution_count": 142,
   "metadata": {},
   "outputs": [],
   "source": [
    "from sklearn.metrics import confusion_matrix\n",
    "confusion = confusion_matrix(y_test, grid.predict(X_test))\n",
    "print('Confusion Matrix\\n')\n",
    "print(confusion)"
   ]
  },
  {
   "cell_type": "code",
   "execution_count": 143,
   "metadata": {},
   "outputs": [],
   "source": [
    "from sklearn.metrics import accuracy_score, precision_score, recall_score, f1_score\n",
    "\n",
    "print('Weighted Precision: {:.2f}'.format(precision_score(y_test, grid.predict(X_test), average='weighted')))\n",
    "print('Weighted Recall: {:.2f}'.format(recall_score(y_test, grid.predict(X_test), average='weighted')))\n",
    "print('Weighted F1-score: {:.2f}'.format(f1_score(y_test, grid.predict(X_test), average='weighted')))\n",
    "\n",
    "from sklearn.metrics import classification_report\n",
    "print('\\nClassification Report\\n')\n",
    "print(classification_report(y_test, grid.predict(X_test), target_names=['Class 1', 'Class 2']))"
   ]
  },
  {
   "cell_type": "code",
   "execution_count": 190,
   "metadata": {},
   "outputs": [],
   "source": [
    "import pandas as pd\n",
    "import numpy as np\n",
    "import seaborn as sns\n",
    "from sklearn.preprocessing import StandardScaler\n",
    "from sklearn.cluster import KMeans\n",
    "from sklearn.decomposition import PCA\n",
    "import matplotlib.pyplot as plt"
   ]
  },
  {
   "cell_type": "code",
   "execution_count": 145,
   "metadata": {},
   "outputs": [],
   "source": [
    "scaler=StandardScaler()\n",
    "X=scaler.fit_transform(imdb_mas50.drop([\"Clasificacion\",\"averageRating\",\"primaryName\"], axis=1))\n",
    " "
   ]
  },
  {
   "cell_type": "code",
   "execution_count": 146,
   "metadata": {},
   "outputs": [
    {
     "name": "stdout",
     "output_type": "stream",
     "text": [
      "2\n",
      "4\n",
      "6\n",
      "8\n",
      "10\n",
      "12\n",
      "14\n",
      "16\n",
      "18\n",
      "20\n",
      "22\n",
      "24\n",
      "26\n",
      "28\n",
      "30\n",
      "32\n",
      "34\n",
      "36\n",
      "38\n"
     ]
    }
   ],
   "source": [
    "inertia=[]\n",
    "sil=[]\n",
    "ch_scores=[]\n",
    "k_values=range(2,40,2)\n",
    "\n",
    "for k in k_values:\n",
    "    print(k)\n",
    "    km=KMeans(n_clusters=k)\n",
    "    km.fit(X)\n",
    "    inertia.append(km.inertia_) "
   ]
  },
  {
   "cell_type": "code",
   "execution_count": 3,
   "metadata": {},
   "outputs": [
    {
     "ename": "NameError",
     "evalue": "name 'plt' is not defined",
     "output_type": "error",
     "traceback": [
      "\u001b[1;31m---------------------------------------------------------------------------\u001b[0m",
      "\u001b[1;31mNameError\u001b[0m                                 Traceback (most recent call last)",
      "\u001b[1;32m<ipython-input-3-351b64998cfa>\u001b[0m in \u001b[0;36m<module>\u001b[1;34m\u001b[0m\n\u001b[1;32m----> 1\u001b[1;33m \u001b[0mplt\u001b[0m\u001b[1;33m.\u001b[0m\u001b[0mplot\u001b[0m\u001b[1;33m(\u001b[0m\u001b[0mk_values\u001b[0m\u001b[1;33m,\u001b[0m\u001b[0minertia\u001b[0m\u001b[1;33m)\u001b[0m\u001b[1;33m;\u001b[0m\u001b[1;33m\u001b[0m\u001b[1;33m\u001b[0m\u001b[0m\n\u001b[0m\u001b[0;32m      2\u001b[0m \u001b[0mplt\u001b[0m\u001b[1;33m.\u001b[0m\u001b[0mvlines\u001b[0m\u001b[1;33m(\u001b[0m\u001b[1;36m16\u001b[0m\u001b[1;33m,\u001b[0m\u001b[0mnp\u001b[0m\u001b[1;33m.\u001b[0m\u001b[0mmin\u001b[0m\u001b[1;33m(\u001b[0m\u001b[0minertia\u001b[0m\u001b[1;33m)\u001b[0m\u001b[1;33m,\u001b[0m\u001b[0mnp\u001b[0m\u001b[1;33m.\u001b[0m\u001b[0mmax\u001b[0m\u001b[1;33m(\u001b[0m\u001b[0minertia\u001b[0m\u001b[1;33m)\u001b[0m\u001b[1;33m,\u001b[0m\u001b[0mlinestyle\u001b[0m\u001b[1;33m=\u001b[0m\u001b[1;34m'dashed'\u001b[0m\u001b[1;33m)\u001b[0m\u001b[1;33m;\u001b[0m\u001b[1;33m\u001b[0m\u001b[1;33m\u001b[0m\u001b[0m\n\u001b[0;32m      3\u001b[0m \u001b[0mplt\u001b[0m\u001b[1;33m.\u001b[0m\u001b[0mxlabel\u001b[0m\u001b[1;33m(\u001b[0m\u001b[1;34m'Numero de clusters (k)'\u001b[0m\u001b[1;33m,\u001b[0m\u001b[0mfontsize\u001b[0m\u001b[1;33m=\u001b[0m\u001b[1;36m15\u001b[0m\u001b[1;33m)\u001b[0m\u001b[1;33m;\u001b[0m\u001b[0mplt\u001b[0m\u001b[1;33m.\u001b[0m\u001b[0mylabel\u001b[0m\u001b[1;33m(\u001b[0m\u001b[1;34m'Inertia'\u001b[0m\u001b[1;33m,\u001b[0m\u001b[0mfontsize\u001b[0m\u001b[1;33m=\u001b[0m\u001b[1;34m'15'\u001b[0m\u001b[1;33m)\u001b[0m\u001b[1;33m\u001b[0m\u001b[1;33m\u001b[0m\u001b[0m\n",
      "\u001b[1;31mNameError\u001b[0m: name 'plt' is not defined"
     ]
    }
   ],
   "source": [
    "plt.plot(k_values,inertia);\n",
    "plt.vlines(16,np.min(inertia),np.max(inertia),linestyle='dashed');\n",
    "plt.xlabel('Numero de clusters (k)',fontsize=15);plt.ylabel('Inertia',fontsize='15')"
   ]
  },
  {
   "cell_type": "code",
   "execution_count": 1,
   "metadata": {},
   "outputs": [
    {
     "ename": "NameError",
     "evalue": "name 'KMeans' is not defined",
     "output_type": "error",
     "traceback": [
      "\u001b[1;31m---------------------------------------------------------------------------\u001b[0m",
      "\u001b[1;31mNameError\u001b[0m                                 Traceback (most recent call last)",
      "\u001b[1;32m<ipython-input-1-c916b0c1b02d>\u001b[0m in \u001b[0;36m<module>\u001b[1;34m\u001b[0m\n\u001b[0;32m      1\u001b[0m \u001b[0mk\u001b[0m\u001b[1;33m=\u001b[0m\u001b[1;36m16\u001b[0m\u001b[1;33m;\u001b[0m\u001b[1;33m\u001b[0m\u001b[1;33m\u001b[0m\u001b[0m\n\u001b[1;32m----> 2\u001b[1;33m \u001b[0mkm\u001b[0m\u001b[1;33m=\u001b[0m\u001b[0mKMeans\u001b[0m\u001b[1;33m(\u001b[0m\u001b[0mn_clusters\u001b[0m\u001b[1;33m=\u001b[0m\u001b[0mk\u001b[0m\u001b[1;33m,\u001b[0m\u001b[0mrandom_state\u001b[0m\u001b[1;33m=\u001b[0m\u001b[1;36m0\u001b[0m\u001b[1;33m)\u001b[0m\u001b[1;33m\u001b[0m\u001b[1;33m\u001b[0m\u001b[0m\n\u001b[0m\u001b[0;32m      3\u001b[0m \u001b[0mkm\u001b[0m\u001b[1;33m.\u001b[0m\u001b[0mfit\u001b[0m\u001b[1;33m(\u001b[0m\u001b[0mX\u001b[0m\u001b[1;33m)\u001b[0m\u001b[1;33m\u001b[0m\u001b[1;33m\u001b[0m\u001b[0m\n\u001b[0;32m      4\u001b[0m \u001b[1;33m\u001b[0m\u001b[0m\n\u001b[0;32m      5\u001b[0m \u001b[0mpca\u001b[0m\u001b[1;33m=\u001b[0m\u001b[0mPCA\u001b[0m\u001b[1;33m(\u001b[0m\u001b[0mn_components\u001b[0m\u001b[1;33m=\u001b[0m\u001b[1;36m2\u001b[0m\u001b[1;33m)\u001b[0m\u001b[1;33m\u001b[0m\u001b[1;33m\u001b[0m\u001b[0m\n",
      "\u001b[1;31mNameError\u001b[0m: name 'KMeans' is not defined"
     ]
    }
   ],
   "source": [
    "k=16;\n",
    "km=KMeans(n_clusters=k,random_state=0)\n",
    "km.fit(X)\n",
    "\n",
    "pca=PCA(n_components=2)\n",
    "X_transformed=pca.fit_transform(X)\n",
    "#plt.figure(figsize=(250,100))\n",
    "sns.scatterplot(X_transformed[:,0],X_transformed[:,1],hue=km.labels_,palette='Dark2')\n",
    "fig = plt.gcf()\n",
    "fig.set_size_inches( 35, 35);"
   ]
  },
  {
   "cell_type": "markdown",
   "metadata": {},
   "source": [
    "Generamos el grafico de clusters y vemos que se puede visualizar verticalmente distintos clusters, aunque es probable que utilizando una mayor cantidad de variables independientes estos clusters se vean mas definidos:"
   ]
  },
  {
   "cell_type": "code",
   "execution_count": null,
   "metadata": {},
   "outputs": [],
   "source": [
    "k=16;\n",
    "km=KMeans(n_clusters=k,random_state=0)\n",
    "km.fit(X)\n",
    "\n",
    "pca=PCA(n_components=2)\n",
    "X_transformed=pca.fit_transform(X)\n",
    "#plt.figure(figsize=(250,100))\n",
    "sns.scatterplot(X_transformed[:,0],X_transformed[:,1],hue=km.labels_,palette='Dark2')"
   ]
  },
  {
   "cell_type": "markdown",
   "metadata": {},
   "source": [
    "Finalmente, realizamos un grafico de barras que muestra cual es el promedio del rating para cada genero:"
   ]
  },
  {
   "cell_type": "code",
   "execution_count": null,
   "metadata": {},
   "outputs": [],
   "source": []
  },
  {
   "cell_type": "code",
   "execution_count": 163,
   "metadata": {},
   "outputs": [
    {
     "data": {
      "text/plain": [
       "Drama                   35105\n",
       "Documentary             24596\n",
       "Comedy                  16283\n",
       "Comedy,Drama             7216\n",
       "Drama,Romance            5810\n",
       "Horror                   5421\n",
       "Comedy,Romance           3545\n",
       "Comedy,Drama,Romance     3265\n",
       "Thriller                 3100\n",
       "Action                   2475\n",
       "Name: genres, dtype: int64"
      ]
     },
     "execution_count": 163,
     "metadata": {},
     "output_type": "execute_result"
    }
   ],
   "source": [
    "imdb.genres.value_counts().head(10)"
   ]
  },
  {
   "cell_type": "code",
   "execution_count": 197,
   "metadata": {},
   "outputs": [
    {
     "data": {
      "text/plain": [
       "Index(['Drama', 'Documentary', 'Comedy', 'Comedy,Drama', 'Drama,Romance',\n",
       "       'Horror', 'Comedy,Romance', 'Comedy,Drama,Romance', 'Thriller',\n",
       "       'Action'],\n",
       "      dtype='object')"
      ]
     },
     "execution_count": 197,
     "metadata": {},
     "output_type": "execute_result"
    }
   ],
   "source": [
    "imdb.genres.value_counts().head(10).index"
   ]
  },
  {
   "cell_type": "code",
   "execution_count": 229,
   "metadata": {},
   "outputs": [],
   "source": [
    "mask_genres = [(imdb[\"genres\"] == \"Drama\") | (imdb[\"genres\"] == \"Documentary\")  | (imdb.genres == 'Comedy') | (imdb.genres == 'Comedy,Drama') | (imdb.genres == 'Drama,Romance') | (imdb[\"genres\"] == 'Horror') | (imdb.genres == 'Comedy,Romance') | (imdb.genres == 'Comedy,Drama,Romance') | (imdb.genres == 'Thriller') | (imdb.genres == 'Action')]"
   ]
  },
  {
   "cell_type": "code",
   "execution_count": 247,
   "metadata": {},
   "outputs": [],
   "source": [
    "diezprimerosgeneros = imdb.genres.value_counts().head(10).index"
   ]
  },
  {
   "cell_type": "code",
   "execution_count": 236,
   "metadata": {},
   "outputs": [],
   "source": [
    "mask_drama = imdb[\"genres\"] == \"Drama\"\n",
    "prom_1 = imdb[mask_drama].averageRating.mean()"
   ]
  },
  {
   "cell_type": "code",
   "execution_count": 237,
   "metadata": {},
   "outputs": [],
   "source": [
    "mask_Documentary = imdb[\"genres\"] == \"Documentary\"\n",
    "prom_2 = imdb[mask_Documentary].averageRating.mean()"
   ]
  },
  {
   "cell_type": "code",
   "execution_count": 238,
   "metadata": {},
   "outputs": [],
   "source": [
    "mask_Comedy = imdb[\"genres\"] == \"Comedy\"\n",
    "prom_3 = imdb[mask_Comedy].averageRating.mean()"
   ]
  },
  {
   "cell_type": "code",
   "execution_count": 239,
   "metadata": {},
   "outputs": [],
   "source": [
    "mask_Comedy_Drama = imdb[\"genres\"] == \"Comedy,Drama\"\n",
    "prom_4 =imdb[mask_Comedy_Drama].averageRating.mean()"
   ]
  },
  {
   "cell_type": "code",
   "execution_count": 248,
   "metadata": {},
   "outputs": [],
   "source": [
    "mask_Drama_Romance = imdb[\"genres\"] == \"Drama,Romance\"\n",
    "prom_5 =imdb[mask_Drama_Romance].averageRating.mean()"
   ]
  },
  {
   "cell_type": "code",
   "execution_count": 249,
   "metadata": {},
   "outputs": [],
   "source": [
    "mask_Horror = imdb[\"genres\"] == \"Horror\"\n",
    "prom_6 =imdb[mask_Horror].averageRating.mean()"
   ]
  },
  {
   "cell_type": "code",
   "execution_count": 250,
   "metadata": {},
   "outputs": [],
   "source": [
    "mask_Comedy_Romance = imdb[\"genres\"] == \"Comedy,Romance\"\n",
    "prom_7 =imdb[mask_Comedy_Romance].averageRating.mean()"
   ]
  },
  {
   "cell_type": "code",
   "execution_count": 251,
   "metadata": {},
   "outputs": [],
   "source": [
    "mask_Comedy_Drama_Romance = imdb[\"genres\"] == \"Comedy,Drama,Romance\"\n",
    "prom_8 =imdb[mask_Comedy_Romance].averageRating.mean()"
   ]
  },
  {
   "cell_type": "code",
   "execution_count": 252,
   "metadata": {},
   "outputs": [],
   "source": [
    "mask_Thriller = imdb[\"genres\"] == \"Thriller\"\n",
    "prom_9 =imdb[mask_Thriller].averageRating.mean()"
   ]
  },
  {
   "cell_type": "code",
   "execution_count": 253,
   "metadata": {},
   "outputs": [],
   "source": [
    "mask_Action = imdb[\"genres\"] == \"Action\"\n",
    "prom_10 =imdb[mask_Action].averageRating.mean()"
   ]
  },
  {
   "cell_type": "code",
   "execution_count": 254,
   "metadata": {},
   "outputs": [],
   "source": [
    "promedios = [prom_1, prom_2, prom_3, prom_4, prom_5, prom_6, prom_7, prom_8, prom_9, prom_10]"
   ]
  },
  {
   "cell_type": "code",
   "execution_count": 257,
   "metadata": {},
   "outputs": [
    {
     "data": {
      "image/png": "[encoded data removed]",
      "text/plain": [
       "<Figure size 7200x360 with 1 Axes>"
      ]
     },
     "metadata": {
      "needs_background": "light"
     },
     "output_type": "display_data"
    }
   ],
   "source": [
    "generos = diezprimerosgeneros\n",
    "\n",
    "plt.figure(figsize=(100, 5))\n",
    "\n",
    "plt.subplot(131)\n",
    "plt.bar(generos, promedios)\n",
    "plt.show()"
   ]
  },
  {
   "cell_type": "code",
   "execution_count": null,
   "metadata": {},
   "outputs": [],
   "source": []
  }
 ],
 "metadata": {
  "kernelspec": {
   "display_name": "Python 3",
   "language": "python",
   "name": "python3"
  },
  "language_info": {
   "codemirror_mode": {
    "name": "ipython",
    "version": 3
   },
   "file_extension": ".py",
   "mimetype": "text/x-python",
   "name": "python",
   "nbconvert_exporter": "python",
   "pygments_lexer": "ipython3",
   "version": "3.7.9"
  }
 },
 "nbformat": 4,
 "nbformat_minor": 4
}
